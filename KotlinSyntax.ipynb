{
 "cells": [
  {
   "cell_type": "markdown",
   "id": "b00ad285-90a4-405c-b877-35bc845f4dff",
   "metadata": {},
   "source": [
    "# Kotlin \n"
   ]
  },
  {
   "cell_type": "markdown",
   "id": "c0bb3874-7330-4e48-ac3f-7fbad1f5852e",
   "metadata": {},
   "source": [
    "This document provides an overview of Kotlin Syntax"
   ]
  },
  {
   "cell_type": "markdown",
   "id": "8c005f74-3f33-4ecc-b978-a9787c4eb257",
   "metadata": {},
   "source": [
    "### Compiling and Running Kotlin File"
   ]
  },
  {
   "cell_type": "markdown",
   "id": "66f534be-9fde-44e6-807f-12e03c890e9a",
   "metadata": {},
   "source": [
    "In the terminal run the following to compile into byte code:\n",
    "1. kotlinc fileName.kt -include-runtime -d fileName.jar\n",
    "\n",
    "Then execute the .jar file by running:\n",
    "\n",
    "2. java -jar fileName.jar"
   ]
  },
  {
   "cell_type": "markdown",
   "id": "b29674ba-1934-43ec-8067-cb5ab1355749",
   "metadata": {},
   "source": [
    "### Read Input"
   ]
  },
  {
   "cell_type": "markdown",
   "id": "2f93660b-1d17-4ec5-a788-7464e21a895e",
   "metadata": {},
   "source": [
    "#### Input From Console"
   ]
  },
  {
   "cell_type": "markdown",
   "id": "770ac099-0db4-4a41-b41e-13b2527912d0",
   "metadata": {},
   "source": [
    "#### Using the readLine method\n",
    "\n",
    "We can use __readLine()__ to get user input from the console."
   ]
  },
  {
   "cell_type": "code",
   "execution_count": null,
   "id": "944c7c19-8536-481e-90ee-f49bbdec60e5",
   "metadata": {},
   "outputs": [],
   "source": [
    "//To avoid an error use ? or !!\n",
    "\n",
    "var name: String? = readLine() //Pauses execution untill user has provided input via the terminal\n",
    "    \n",
    "var name: String = readLine()!! //Even if the user has not entered any data, Kotlin will treat it as if data has been entered"
   ]
  },
  {
   "cell_type": "markdown",
   "id": "5442cb01-172a-4321-9984-33ebf49849b1",
   "metadata": {},
   "source": [
    "### Print output"
   ]
  },
  {
   "cell_type": "markdown",
   "id": "86fd98bf-7ed9-4ec5-920e-c85f950d0c49",
   "metadata": {},
   "source": [
    "The print statement prints output to the terminal."
   ]
  },
  {
   "cell_type": "code",
   "execution_count": null,
   "id": "aeb9f542-c7be-47b7-a44e-87b34ccf323e",
   "metadata": {},
   "outputs": [],
   "source": [
    "print(\"This will be printed to the terminal\")"
   ]
  },
  {
   "cell_type": "markdown",
   "id": "9a31f77b-41e2-4fa5-ab90-09a4e19ad623",
   "metadata": {},
   "source": [
    "The println statement will print on a new line."
   ]
  },
  {
   "cell_type": "code",
   "execution_count": null,
   "id": "2a79be6c-7d27-48a0-b4ae-e4475eadcc5d",
   "metadata": {},
   "outputs": [],
   "source": [
    "println(\"this will pirnt on a new line in the terminal\")"
   ]
  },
  {
   "cell_type": "markdown",
   "id": "e4e9c9a4-f2c0-464a-a8fb-5661a894981e",
   "metadata": {},
   "source": [
    "### Variables"
   ]
  },
  {
   "cell_type": "markdown",
   "id": "165851c8-94bd-46d0-a1f2-01323cabbb1c",
   "metadata": {
    "tags": []
   },
   "source": [
    "##### Variable Types"
   ]
  },
  {
   "cell_type": "markdown",
   "id": "2b664fa6-7bf6-4995-b471-bf04cef4609a",
   "metadata": {},
   "source": [
    "There are two kinds of variables in Kotlin var and val. The var is mutable and val is unmutable, and acts like a constant."
   ]
  },
  {
   "cell_type": "code",
   "execution_count": null,
   "id": "276ac900-f565-4b1d-b534-01cd35f0905f",
   "metadata": {},
   "outputs": [],
   "source": [
    "//var is mutable and can be reassigned\n",
    "var myVarable = 1\n",
    "\n",
    "//val is unmutable and cannot be reassigned\n",
    "val myOtherVariable = 2"
   ]
  },
  {
   "cell_type": "markdown",
   "id": "c1a499da-1767-4d05-b5d0-6b08e5b92aaf",
   "metadata": {},
   "source": [
    "##### Variable Declaration and Assignment"
   ]
  },
  {
   "cell_type": "markdown",
   "id": "7aaa0c65-c299-49cd-9bc3-160e5cb58390",
   "metadata": {},
   "source": [
    "Kotlin is staticly or strongly typed language, which means that type checking occurs at compile type. Therefore a type must be assigned to a variable when the variable is declared. Types can be explicitly stated or Kotlin can infer the type from assigment.\n",
    "\n",
    "Types are explicitly declared using the \":\" symbol"
   ]
  },
  {
   "cell_type": "code",
   "execution_count": null,
   "id": "fa28b59e-a333-4d16-9fcc-4387464fdaa2",
   "metadata": {},
   "outputs": [],
   "source": [
    "//Declaring a string variable\n",
    "var name: String\n",
    "    \n",
    "//When unsure about the variable type use ?:\n",
    "var name: String?\n",
    "\n",
    "//Assigning a value\n",
    "name = \"John\"\n",
    "\n",
    "\n",
    "//Declaring and assigning on a single line\n",
    "var lastName: String = \"Doe\""
   ]
  },
  {
   "cell_type": "markdown",
   "id": "e2fd03a4-bb48-4413-9b14-2e04b51e8e1c",
   "metadata": {},
   "source": [
    "When no type has been specified Kotlin will infer the type from assignment:"
   ]
  },
  {
   "cell_type": "code",
   "execution_count": null,
   "id": "79d72ae5-6001-4908-b1a1-8b58c879ef65",
   "metadata": {},
   "outputs": [],
   "source": [
    "//The variable name will be of type String\n",
    "var name = \"Suzan\""
   ]
  },
  {
   "cell_type": "markdown",
   "id": "5caed0fa-6239-45cd-9c6c-6eb0d6af9483",
   "metadata": {},
   "source": [
    "### Data Types"
   ]
  },
  {
   "cell_type": "markdown",
   "id": "06926929-05ed-4b1b-9648-d81b03b00d37",
   "metadata": {},
   "source": [
    "##### 5 Primary Data Types"
   ]
  },
  {
   "cell_type": "markdown",
   "id": "65ab30a2-1780-4cb0-ad9e-7fb4870680f6",
   "metadata": {},
   "source": [
    "Kotlin has 5 primary data types:\n",
    "* Boolean\n",
    "* Charactar\n",
    "* Numbers\n",
    "* String\n",
    "* Array"
   ]
  },
  {
   "cell_type": "markdown",
   "id": "a2ca4b59-b8e1-4e79-9295-835bbb4ea122",
   "metadata": {},
   "source": [
    "##### Type Conversions"
   ]
  },
  {
   "cell_type": "markdown",
   "id": "35e2f56f-dc10-4550-b51e-a481cfa732bf",
   "metadata": {},
   "source": [
    "Methods for converting data types:\n",
    "* toByte()\n",
    "* toShort()\n",
    "* toInt()\n",
    "* toLong()\n",
    "* toFloat()\n",
    "* toDouble()\n",
    "* toInt()\n",
    "* toString()\n",
    "* toBoolean()\n",
    "* toChar()"
   ]
  },
  {
   "cell_type": "markdown",
   "id": "11824dc0-c775-46ec-9cca-48f398282077",
   "metadata": {},
   "source": [
    "##### Type Checking"
   ]
  },
  {
   "cell_type": "markdown",
   "id": "95621dc5-295a-4a1e-aed8-77d96522934f",
   "metadata": {},
   "source": [
    "Use the is operator or its negated form !is to perform a runtime check that identifies whether an object conforms to a given type:"
   ]
  },
  {
   "cell_type": "code",
   "execution_count": 2,
   "id": "e3cf33f8-292e-405d-b8cb-5618011b4c0d",
   "metadata": {},
   "outputs": [],
   "source": [
    "if (obj is String) {\n",
    "    print(obj.length)\n",
    "}\n",
    "\n",
    "if (obj !is String) { // same as !(obj is String)\n",
    "    print(\"Not a String\")\n",
    "} else {\n",
    "    print(obj.length)\n",
    "}"
   ]
  },
  {
   "cell_type": "markdown",
   "id": "b9d3e114-5912-4c5e-8f1c-e81280df67de",
   "metadata": {},
   "source": [
    "Another example using When"
   ]
  },
  {
   "cell_type": "code",
   "execution_count": null,
   "id": "e6520cb0-8bc2-49ea-8af6-69af02d70bca",
   "metadata": {},
   "outputs": [],
   "source": [
    "when (x) {\n",
    "    is Int -> print(x + 1)\n",
    "    is String -> print(x.length + 1)\n",
    "    is IntArray -> print(x.sum())\n",
    "}"
   ]
  },
  {
   "cell_type": "markdown",
   "id": "e83776a8-71b2-4f9c-b742-bd85c67dab88",
   "metadata": {},
   "source": [
    "\n",
    "### Strings"
   ]
  },
  {
   "cell_type": "markdown",
   "id": "c59e0fff-fe5d-4059-b289-3332806065c1",
   "metadata": {},
   "source": [
    "##### Combining strings (concatenation)"
   ]
  },
  {
   "cell_type": "markdown",
   "id": "bd5f786d-70d5-4604-aa2a-014d5b64de50",
   "metadata": {},
   "source": [
    "Strings can be combined by using the + symbol."
   ]
  },
  {
   "cell_type": "code",
   "execution_count": null,
   "id": "08ca11a2-61ca-4e5e-b8f1-2b9a422be54b",
   "metadata": {},
   "outputs": [],
   "source": [
    "var stringOne: String = \"Joe\"\n",
    "var stringTwo: String = \"Soap\"\n",
    "var stringThree: String = stringOne + \" \" + stringTwo"
   ]
  },
  {
   "cell_type": "markdown",
   "id": "52f1221a-1eae-43d5-aa29-67a201970eff",
   "metadata": {},
   "source": [
    "String has a built in method called plus() that can be used to concatenate strings."
   ]
  },
  {
   "cell_type": "code",
   "execution_count": null,
   "id": "a3bc66b0-2b08-4617-8092-88898f49e5fc",
   "metadata": {},
   "outputs": [],
   "source": [
    "var string1 = \"John\"\n",
    "var string2 = \"Doe\"\n",
    "var fullName = string1.plus(\" \").plus(string2)"
   ]
  },
  {
   "cell_type": "markdown",
   "id": "e16b7821-17a8-4432-8b4c-f90f19a9fef1",
   "metadata": {},
   "source": [
    "##### Splitting Strings"
   ]
  },
  {
   "cell_type": "markdown",
   "id": "b02fa49d-6271-48b8-96f7-a7f4e7441308",
   "metadata": {},
   "source": [
    "To split a string into an array use split().\n",
    "\n",
    "Parameters\n",
    "* delimiters - One or more characters to be used as delimiters.\n",
    "* ignoreCase - true to ignore character case when matching a delimiter. By default false.\n",
    "* limit - The maximum number of substrings to return."
   ]
  },
  {
   "cell_type": "code",
   "execution_count": null,
   "id": "46eccc3d-6f2d-486c-b5f0-45cb222b80e9",
   "metadata": {},
   "outputs": [],
   "source": [
    "// returns an array [\"name\", \"2012\",\"2017\"]\n",
    "val strs = \"name, 2012, 2017\".split(\",\").toTypedArray()\n",
    "\n",
    "//.map() can be used instead of .toTypedArray() to create a custom array."
   ]
  },
  {
   "cell_type": "markdown",
   "id": "6f417eaa-a1b3-4754-814d-416f0a9d528e",
   "metadata": {},
   "source": [
    "##### Joining an Array or List into a String"
   ]
  },
  {
   "cell_type": "markdown",
   "id": "de0830e9-1e96-446c-af92-c424be5ad2d7",
   "metadata": {},
   "source": [
    "To join elements of an array or list into a single string use joinToString()."
   ]
  },
  {
   "cell_type": "code",
   "execution_count": null,
   "id": "d8166605-f5f7-4bea-bbde-642e5fa4db74",
   "metadata": {},
   "outputs": [],
   "source": [
    "val list = listOf(\"A\", \"B\", \"C\")\n",
    "val separator = \"-\"\n",
    "val string = list.joinToString(separator)\n",
    "println(string)        //output A-B-C"
   ]
  },
  {
   "cell_type": "markdown",
   "id": "bf37df47-81fe-45a6-b28f-c16e13fc73e8",
   "metadata": {},
   "source": [
    "##### String templates (Interpolation)"
   ]
  },
  {
   "cell_type": "markdown",
   "id": "094423bf-0472-4ae1-b18a-ff3826dcc1e6",
   "metadata": {},
   "source": [
    "String interpolation allows easy manipulation of strings by using the $ symbol. "
   ]
  },
  {
   "cell_type": "code",
   "execution_count": null,
   "id": "975b0c15-d6f6-422d-aabb-981418ea8c9c",
   "metadata": {},
   "outputs": [],
   "source": [
    "var color: String = \"brown\"\n",
    "var animal: String = \"dog\"\n",
    "print(\"Butch is a $color $animal.\")"
   ]
  },
  {
   "cell_type": "markdown",
   "id": "3b697166-5a4a-496e-a257-51a0ce4d6514",
   "metadata": {},
   "source": [
    "Code or opperations can also be inserted into a string by using the curly braces &{ ... }"
   ]
  },
  {
   "cell_type": "code",
   "execution_count": null,
   "id": "ce370c40-78d2-4d1e-b466-d8d94248bf51",
   "metadata": {},
   "outputs": [],
   "source": [
    "println(\"The product of 6 and 2, is ${6 * 2}\") \n",
    "// Prints: The product of 6 and 2 is 12"
   ]
  },
  {
   "cell_type": "markdown",
   "id": "db3358ab-7d34-4f78-a56f-c20a56683d71",
   "metadata": {},
   "source": [
    "##### Finding the length of a String"
   ]
  },
  {
   "cell_type": "markdown",
   "id": "5dd99a9a-5a2f-413f-ab73-06222e71d459",
   "metadata": {},
   "source": [
    "Use the length property on the string. It returns an integer"
   ]
  },
  {
   "cell_type": "code",
   "execution_count": null,
   "id": "e7911011-e49d-4dc8-957e-eac0b96af8bf",
   "metadata": {},
   "outputs": [],
   "source": [
    "var word: String = \"interstellar\"\n",
    "print(word.length) //prints the number of letters in the word 12"
   ]
  },
  {
   "cell_type": "markdown",
   "id": "72d2f44e-3cea-4514-b31c-c061522f2df3",
   "metadata": {},
   "source": [
    "Alternatively, to check if a string has any characters in it use isEmpty()"
   ]
  },
  {
   "cell_type": "code",
   "execution_count": null,
   "id": "aa053e0e-32d9-49e1-978a-9c940a4fa102",
   "metadata": {},
   "outputs": [],
   "source": [
    "var name: String = \" \"\n",
    "\n",
    "if(name.isEmpty()){\n",
    "    print(\"No name provided\")\n",
    "} else {\n",
    "    print(name)\n",
    "}"
   ]
  },
  {
   "cell_type": "markdown",
   "id": "3cb26f96-1449-4e3e-b542-87b46ae8ee7f",
   "metadata": {},
   "source": [
    "##### Capitalization"
   ]
  },
  {
   "cell_type": "markdown",
   "id": "3b651887-e974-4788-86c8-a1ce661362da",
   "metadata": {},
   "source": [
    "Use the capitalize() method to capitalize only the first letter in a string."
   ]
  },
  {
   "cell_type": "code",
   "execution_count": null,
   "id": "ea95a87e-7202-4935-a756-9f0e29a45913",
   "metadata": {},
   "outputs": [],
   "source": [
    "var word: String =  \"interstellar\"\n",
    "var newWord = word.capitalize()\n",
    "print(newWord) //prints out \"Interstellar\""
   ]
  },
  {
   "cell_type": "markdown",
   "id": "bccb7e9d-c076-4a79-ab1c-a3951e1876af",
   "metadata": {},
   "source": [
    "Use lowercase() or uppercase() to change the case of a string"
   ]
  },
  {
   "cell_type": "code",
   "execution_count": null,
   "id": "55a40f4d-638c-4267-a2cf-fb780e4d28fc",
   "metadata": {},
   "outputs": [],
   "source": [
    "var phrase = \"tHis iS A pHrAse\"\n",
    "\n",
    "//to lowercase\n",
    "var allLowerCaseLetters = phrase.lowercase()\n",
    "\n",
    "//to uppercase\n",
    "var allUpperCaseLetters = phrase.uppercase()"
   ]
  },
  {
   "cell_type": "markdown",
   "id": "5de63eb6-720e-4b8a-8bcd-eee680748f06",
   "metadata": {},
   "source": [
    "##### Comparing Strings"
   ]
  },
  {
   "cell_type": "markdown",
   "id": "b994709a-d00f-4d2a-93cd-60d28a404027",
   "metadata": {},
   "source": [
    "To determine whether two strings are the same use the equals() method."
   ]
  },
  {
   "cell_type": "code",
   "execution_count": null,
   "id": "7913a5f1-1739-45dd-95d3-e243d15721e5",
   "metadata": {},
   "outputs": [],
   "source": [
    "var phrase1 = \"My name is John\"\n",
    "var phrase2 = \"My name is John\"\n",
    "var isSame = phrase1.equals(phrase2) //returns true"
   ]
  },
  {
   "cell_type": "markdown",
   "id": "d5fd7322-c560-4965-a081-9a6c8d9d7c3b",
   "metadata": {},
   "source": [
    "##### Cleaning Strings"
   ]
  },
  {
   "cell_type": "markdown",
   "id": "94200989-142d-48d2-9d72-948f11647d8c",
   "metadata": {},
   "source": [
    "To remove spaces at the beginning and end of a string use trim()"
   ]
  },
  {
   "cell_type": "code",
   "execution_count": null,
   "id": "d238ffd1-77a4-4f1a-b3d4-b4b62048126f",
   "metadata": {},
   "outputs": [],
   "source": [
    "var name = \"   John   \"\n",
    "var trimmedName = name.trim() //trim() removes the white spaces"
   ]
  },
  {
   "cell_type": "markdown",
   "id": "35f62e31-70cc-48e7-bf0c-9bf5b03cf28a",
   "metadata": {},
   "source": [
    "Alternative to remove spaces only at the beginning or end of a string use trimStart() or trimeEnd()"
   ]
  },
  {
   "cell_type": "code",
   "execution_count": null,
   "id": "96d55b28-7c40-462f-a878-4536883299a8",
   "metadata": {},
   "outputs": [],
   "source": [
    "var name = \"   John   \"\n",
    "var trimmedStartName = name.trimStart() // removes the leading white space\n",
    "var trimmedEndName = name.trimEnd() // removes the trailing white space"
   ]
  },
  {
   "cell_type": "markdown",
   "id": "8d34a961-1705-4bf1-9ba6-478210f136b0",
   "metadata": {},
   "source": [
    "### Arrays"
   ]
  },
  {
   "cell_type": "markdown",
   "id": "9233fd0f-cdea-4070-b791-17f50e37f65d",
   "metadata": {},
   "source": [
    "Arrays in Kotlin are collections that store multiple items of the same data-type. \n",
    "\n",
    "Arrays in Kotlin are:\n",
    "* Mutable\n",
    "* Fixed in size\n",
    "* Zero indexed"
   ]
  },
  {
   "cell_type": "markdown",
   "id": "1801f1c5-473f-4709-a0d3-a628d1da790d",
   "metadata": {},
   "source": [
    "##### Creating an Array\n",
    "\n",
    "3 Ways to create an array in Kotlin, using the arrayOf() method,the Array() constructor, or using a factory Method.\n",
    "\n",
    "1. ArrayOf()"
   ]
  },
  {
   "cell_type": "code",
   "execution_count": null,
   "id": "f2d8bc66-cb16-40b2-9fff-f1782159b77f",
   "metadata": {},
   "outputs": [],
   "source": [
    "// arrayOf() method\n",
    "\n",
    "val num = arrayOf(1, 2, 3, 4)   //implicit type declaration\n",
    "val num = arrayOf<Int>(1, 2, 3) //explicit type declaration"
   ]
  },
  {
   "cell_type": "markdown",
   "id": "077eca6e-60c1-4acb-a1e6-290994f388db",
   "metadata": {},
   "source": [
    "2. Array() constructor"
   ]
  },
  {
   "cell_type": "code",
   "execution_count": null,
   "id": "ed2d299c-1ee3-4bc7-a679-54b79a646a18",
   "metadata": {},
   "outputs": [],
   "source": [
    "//\n",
    "\n",
    "val generatedArray = IntArray(10) { i -> i * i }\n",
    "\n",
    "//or\n",
    "\n",
    "val generatedStringArray = Array(10) { i -> \"Number of index: $i\"  }"
   ]
  },
  {
   "cell_type": "markdown",
   "id": "ef3e8166-d27a-4121-8b42-2225492bc195",
   "metadata": {},
   "source": [
    "3. Factory Method\n",
    "\n",
    "* intArrayOf()\n",
    "* charArrayOf()\n",
    "* shortArrayOf()\n",
    "* longArrayOf()"
   ]
  },
  {
   "cell_type": "code",
   "execution_count": null,
   "id": "dbbe5b77-bed3-46c9-b278-ca8b1d38f296",
   "metadata": {},
   "outputs": [],
   "source": [
    "//an array of integers\n",
    "val num = intArrayOf(1, 2, 3, 4)"
   ]
  },
  {
   "cell_type": "markdown",
   "id": "44b0b6c8-99d4-4db1-be93-dbd50b43e47c",
   "metadata": {},
   "source": [
    "### Lists"
   ]
  },
  {
   "cell_type": "markdown",
   "id": "2a57c88e-513d-4da8-956d-24764697e2f0",
   "metadata": {},
   "source": [
    "A Kotlin list is very much similar to a real-world list: it represents an ordered collection of elements that can contain duplicates. These elements can be of any primitive data type, unlike As opposed to arrays, lists do not have a fixed size, which makes them dynamic"
   ]
  },
  {
   "cell_type": "markdown",
   "id": "6170347f-60ac-40f8-a45f-681cdcbcd077",
   "metadata": {},
   "source": [
    "#### Creating a List"
   ]
  },
  {
   "cell_type": "markdown",
   "id": "d0799d40-9386-41f9-a443-269bd3ca572a",
   "metadata": {},
   "source": [
    "Lists can be either mutable or immutable. A function that retrieves information about a list would only require read access whereas a function that changes the contents of a list would require both read and write access. As a result of this, a mutable list supports functions that possess read and write functionalities, whereas an immutable list supports functions that possess read-only operations\n",
    "\n",
    "For an immutable list use listOf()"
   ]
  },
  {
   "cell_type": "code",
   "execution_count": null,
   "id": "844e91aa-d968-4ea1-afdd-6a1552f7245a",
   "metadata": {},
   "outputs": [],
   "source": [
    "var toDo = listOf(\"gather wood\", \"start a fire\", \"set up tent\", \"eat dinner\", \"stargaze\")\n",
    "\n",
    "//Outputs: [gather wood, start a fire, set up tent, eat dinner, stargaze]"
   ]
  },
  {
   "cell_type": "markdown",
   "id": "c8c381aa-9a7d-4a6a-9584-1c0d00fc40dd",
   "metadata": {},
   "source": [
    "For a mutable list use mutableListOf() or ArrayList(). Note that mutableLIstOf returns an ArrayList(). \n",
    "\n",
    "mutableListOf()"
   ]
  },
  {
   "cell_type": "code",
   "execution_count": null,
   "id": "f8bc945e-09cf-46f6-aae4-f08852cd8815",
   "metadata": {},
   "outputs": [],
   "source": [
    "var toDo = mutableListOf(\"gather wood\", \"start a fire\", \"set up tent\", \"eat dinner\", \"stargaze\")\n",
    "\n",
    "//Outputs: [gather wood, start a fire, set up tent, eat dinner, stargaze]"
   ]
  },
  {
   "cell_type": "markdown",
   "id": "85302593-b928-4b44-8cc2-3a2e4f9d3c77",
   "metadata": {},
   "source": [
    "ArrayList<*>()"
   ]
  },
  {
   "cell_type": "code",
   "execution_count": null,
   "id": "fa0c49f0-fd19-472d-842c-79c7f7f1980c",
   "metadata": {},
   "outputs": [],
   "source": [
    "var toDo = ArrayList<String>(\"gather wood\", \"start a fire\", \"set up tent\", \"eat dinner\", \"stargaze\")\n",
    "\n",
    "//Outputs: [gather wood, start a fire, set up tent, eat dinner, stargaze]"
   ]
  },
  {
   "cell_type": "markdown",
   "id": "cd2b330b-62c8-4738-80b6-e34a11ee58fd",
   "metadata": {},
   "source": [
    "##### Finding the Size of a List"
   ]
  },
  {
   "cell_type": "markdown",
   "id": "4607dcc7-e821-49a2-8859-d3834e85820d",
   "metadata": {},
   "source": [
    "In Kotlin, the size property determines the number of elements within a collection. It is not only applicable to lists but also to other collections. __size()__ returns an Integer value."
   ]
  },
  {
   "cell_type": "code",
   "execution_count": null,
   "id": "fe949374-42bb-4dc7-baf2-82481f08181f",
   "metadata": {},
   "outputs": [],
   "source": [
    "val majorRivers = listOf(\"Volga\", \"Danube\", \"Loire\", \"Rhine\", \"Elbe\") \n",
    "\n",
    "println(majorRivers.size) // Prints: 5  "
   ]
  },
  {
   "cell_type": "markdown",
   "id": "a9806e74-0514-45a3-bf1b-1af57bf26648",
   "metadata": {},
   "source": []
  },
  {
   "cell_type": "markdown",
   "id": "22abb898-e830-409a-be1d-e1116a32219b",
   "metadata": {},
   "source": [
    "#### Retrieving Items from a List\n",
    "\n",
    "There are many ways to access items in a list."
   ]
  },
  {
   "cell_type": "markdown",
   "id": "1007873c-dfaa-4567-ac75-4880fb29e185",
   "metadata": {},
   "source": [
    "##### *Checking if an element exists*\n",
    "\n",
    "The __contains(element: T)__ function accepts a single value within its parentheses and returns a Boolean true or false depending on whether or not that value exists within a list"
   ]
  },
  {
   "cell_type": "code",
   "execution_count": null,
   "id": "fcec4a4d-0089-4335-a9d5-b254099a47ea",
   "metadata": {},
   "outputs": [],
   "source": [
    "var vowels = listOf('A', 'E', 'I', 'O', 'U')\n",
    "\n",
    "println(vowels.contains('A')) // Prints: true\n",
    "println(vowels.contains('B')) // Prints: false"
   ]
  },
  {
   "cell_type": "markdown",
   "id": "eedd0af4-0f83-46bc-b078-5edeb2bd9b04",
   "metadata": {},
   "source": [
    "##### *Retrieving an element by index*:\n",
    "\n",
    "Lists are zero indexed and items can be accessed using their index, using __listName[index: int]__ "
   ]
  },
  {
   "cell_type": "code",
   "execution_count": 2,
   "id": "ba6a6d53-6ab9-410a-813b-a3e8e090e75b",
   "metadata": {},
   "outputs": [],
   "source": [
    "val oakIslandArtifacts = listOf(\"Lead cross\", \"Rhodolite garnet brooch\", \"Gold brooch\")\n",
    "\n",
    "oakIslandArtifacts[0] // Lead cross\n",
    "oakIslandArtifacts[1] // Rhodolite garnet brooch\n",
    "oakIslandArtifacts[2] // Gold brooch"
   ]
  },
  {
   "cell_type": "markdown",
   "id": "d2283b48-b215-4539-a53c-f45d576f6f86",
   "metadata": {},
   "source": [
    "##### *Retrieving an element using the get method*\n",
    "\n",
    "__get(index: int)__ returns the element at the specified index in the list."
   ]
  },
  {
   "cell_type": "code",
   "execution_count": null,
   "id": "77c6401b-77b4-42a6-9237-ebd2f887feb5",
   "metadata": {},
   "outputs": [],
   "source": [
    "val oakIslandArtifacts = listOf(\"Lead cross\", \"Rhodolite garnet brooch\", \"Gold brooch\")\n",
    "\n",
    "oakIslandArtifacts.get(1) //\"Rhodolite garnet brooch\""
   ]
  },
  {
   "cell_type": "markdown",
   "id": "7c1a06ab-6292-4ffa-8903-51ce3f4fe497",
   "metadata": {},
   "source": [
    "##### *Avoiding IndexOutOfBoundsExceptions Errors*"
   ]
  },
  {
   "cell_type": "markdown",
   "id": "fbaa47cf-4d68-45a1-8dbf-0004e9c96c42",
   "metadata": {},
   "source": [
    "Use either __getOrNull(index: Int)__ or __getOrElse(index: It,(int)-> T)__"
   ]
  },
  {
   "cell_type": "code",
   "execution_count": null,
   "id": "13a17edc-b9b8-43ad-a81a-6509286463c5",
   "metadata": {},
   "outputs": [],
   "source": [
    "val numbers = listOf(\"one\", \"two\", \"three\", \"four\", \"five\")\n",
    "\n",
    "//Returns NULL instead of Exception\n",
    "println(numbers.getOrNull(5))\n",
    "\n",
    "//Returns Specified value instead of Exception\n",
    "println(numbers.gettOrElse(5) { index -> \"The value for index $index is undefined\"})"
   ]
  },
  {
   "cell_type": "markdown",
   "id": "7818ed7e-1f9c-47a2-acc0-9410364adf30",
   "metadata": {},
   "source": [
    "##### *Retrieving the First or Last element*\n",
    "\n",
    "To return the first element use __first(element: T)__, and to return the last element use __last(element: T)__"
   ]
  },
  {
   "cell_type": "code",
   "execution_count": null,
   "id": "23505225-df30-4468-81e5-5ea9d9342a0d",
   "metadata": {},
   "outputs": [],
   "source": [
    "val oakIslandArtifacts = listOf(\"Lead cross\", \"Rhodolite garnet brooch\", \"Gold brooch\")\n",
    "\n",
    "oakIslandArtifacts.first() //\"Lead cross\"\n",
    "oakIslandArtifacts.last() //\"Gold brooch\"\n"
   ]
  },
  {
   "cell_type": "markdown",
   "id": "f50276d7-550b-46b0-9a0b-07763ee92885",
   "metadata": {},
   "source": [
    "##### *Finding an element's index*\n",
    "\n",
    "__indexOf(element: T)__ returns first index of element, or -1 if the list does not contain element. Use __indexOfFirst()__ or __indexOfLast()__ to return index of the fist or last element that matches query."
   ]
  },
  {
   "cell_type": "code",
   "execution_count": null,
   "id": "611c3a38-3a31-4120-82ba-822459af692a",
   "metadata": {},
   "outputs": [],
   "source": [
    "val oakIslandArtifacts = listOf(\"Lead cross\", \"Rhodolite garnet brooch\", \"Gold brooch\")\n",
    "\n",
    "oakIslandArtifacts.indexOf(\"Lead cross\") // 0\n",
    "oakIslandArtifacts.indexOfFirst(\"Lead cross\") // 0\n",
    "oakIslandArtifacts.indexOfLast(\"Lead cross\") // 0"
   ]
  },
  {
   "cell_type": "markdown",
   "id": "7e6a52a6-b8e8-4b25-a8f8-019753ecb87d",
   "metadata": {},
   "source": [
    "##### *Retrieving a random element from a list*\n",
    "\n",
    "The __random()__ function also only requires read-only access and returns a random element from the list."
   ]
  },
  {
   "cell_type": "code",
   "execution_count": null,
   "id": "48fe9e35-5604-4c04-a46a-c6f0ef8d3243",
   "metadata": {},
   "outputs": [],
   "source": [
    "var vowels = listOf('A', 'E', 'I', 'O', 'U')\n",
    "\n",
    "println(vowels.random()) // Prints: I"
   ]
  },
  {
   "cell_type": "markdown",
   "id": "0601083d-bf30-48e5-baf6-45d8f5b1b290",
   "metadata": {},
   "source": [
    "#### Adding elements to a list"
   ]
  },
  {
   "cell_type": "markdown",
   "id": "5ee1bce2-a3e6-4d0f-9417-d8ee5cbcba2c",
   "metadata": {},
   "source": [
    "##### *Using the add method*\n",
    "\n",
    "The __add(element: T)__ function accepts a single value within its parentheses and appends that value to the end of a list:"
   ]
  },
  {
   "cell_type": "code",
   "execution_count": null,
   "id": "285a88dc-ee3b-48fa-addd-f747d4e4736d",
   "metadata": {},
   "outputs": [],
   "source": [
    "var primeNumbers = mutableListOf(4, 5, 7, 11, 13) \n",
    "\n",
    "primeNumbers.add(17) // Prints: 4, 5, 7, 11, 13, 17"
   ]
  },
  {
   "cell_type": "markdown",
   "id": "00952072-c151-4b40-98fd-e3ea740fef79",
   "metadata": {},
   "source": [
    "#### Removing elements from a list"
   ]
  },
  {
   "cell_type": "markdown",
   "id": "960f7b5d-fbf1-4e82-b161-e46985d253c0",
   "metadata": {},
   "source": [
    "##### *Using the remove method*\n",
    "\n",
    "the __remove(element: T)__ function, also only used on mutable lists, accepts a single value within its parentheses and removes it from the list\n",
    "\n",
    "If the value to be removed does not exist, the compiler will not throw an error and simply return false."
   ]
  },
  {
   "cell_type": "code",
   "execution_count": null,
   "id": "5ccc7904-57f1-46da-8076-da343193185a",
   "metadata": {},
   "outputs": [],
   "source": [
    "var primeNumbers = mutableListOf(4, 5, 7, 11, 13) \n",
    "\n",
    "primeNumbers.remove(4) // Prints: 5, 7, 11, 13, 17"
   ]
  },
  {
   "cell_type": "markdown",
   "id": "25fd36de-e7d4-4a6f-be2b-a03ccf27bd97",
   "metadata": {},
   "source": [
    "### Sets\n",
    "\n",
    "A set is an un-ordered collection of unique elements. It’s most commonly applicable in programs that work with data sets containing non-duplicate values such as usernames or passwords. Upon creating or adding elements to a set, the set automatically filters out any duplicates and always returns a unique collection. lists and sets are very common in syntax and share a multitude of built-in functions. Their key difference lies in their purpose and behavior in a program."
   ]
  },
  {
   "cell_type": "markdown",
   "id": "679a781a-7283-4767-b8d2-b99af2bcb78d",
   "metadata": {},
   "source": [
    "#### Accessing elements in a set"
   ]
  },
  {
   "cell_type": "markdown",
   "id": "7ea0d493-c7ac-4a3a-96b1-5570c1391e5d",
   "metadata": {},
   "source": [
    "##### *Retrieving values by their stored index*"
   ]
  },
  {
   "cell_type": "markdown",
   "id": "b33fb0d2-1aa2-428e-99c8-dad714cd045e",
   "metadata": {},
   "source": [
    "We can use the __elementAt(index: Int)__ method, to access and retrieve elements. This method is the equivalent of the __get()__ method used in ordered collections."
   ]
  },
  {
   "cell_type": "code",
   "execution_count": null,
   "id": "25cd4a19-8190-4c2d-9c71-b4f7be09e4be",
   "metadata": {},
   "outputs": [],
   "source": [
    "var nonEndangered = setOf(\"Louisiana Black Bear\", \"Northern Brown Kiwi\", \"Gray Wolf\", \"Arabian Oryx\") \n",
    "\n",
    "nonEndangered.elementAt(2) // Gray Wolf"
   ]
  },
  {
   "cell_type": "markdown",
   "id": "3c2a9a1a-4be4-4870-a2a8-91813d3a7cf9",
   "metadata": {},
   "source": [
    "##### *Avoiding IndexOutOfBoundsException Errors*\n",
    "\n",
    "If no value exists at the specified index, it will return an IndexOutOfBoundsException. To avoid this, use any of the following methods instead: __elementAtOrNull(index: Int)__ , __elementAtOrElse(index: Int, (int)-> T)__"
   ]
  },
  {
   "cell_type": "code",
   "execution_count": null,
   "id": "3cdae3f3-0d56-4909-9409-76d97ae77a31",
   "metadata": {},
   "outputs": [],
   "source": [
    "val numbers = setOf(\"one\", \"two\", \"three\", \"four\", \"five\")\n",
    "\n",
    "//Returns NULL instead of Exception\n",
    "println(numbers.elementAtOrNull(5))\n",
    "\n",
    "//Returns Specified value instead of Exception\n",
    "println(numbers.elementAtOrElse(5) { index -> \"The value for index $index is undefined\"})"
   ]
  },
  {
   "cell_type": "markdown",
   "id": "28bbf080-7bce-4040-a0de-d45c184ce220",
   "metadata": {},
   "source": [
    "#### Adding Elements to a set"
   ]
  },
  {
   "cell_type": "markdown",
   "id": "ec88e51f-b1a1-4b11-8041-ba8329a9d5ec",
   "metadata": {},
   "source": [
    "##### *Adding a single element to a set*"
   ]
  },
  {
   "cell_type": "markdown",
   "id": "7356bde2-d3fb-4b5c-9fb6-e4ce953bd911",
   "metadata": {},
   "source": [
    "To add a single element to a set use the __add(element: T)__ method."
   ]
  },
  {
   "cell_type": "code",
   "execution_count": null,
   "id": "241bfe8a-f927-40a1-9818-9c0f705a9e1b",
   "metadata": {},
   "outputs": [],
   "source": [
    "someSet.add(someElement)"
   ]
  },
  {
   "cell_type": "markdown",
   "id": "9d431955-bd49-4f96-b8bd-070d67a1df34",
   "metadata": {},
   "source": [
    "##### *Adding multiple elements to a set*\n",
    "\n",
    "To add multiple elements or a list of elements to a set use the __addAll(elements: T)__ method. "
   ]
  },
  {
   "cell_type": "code",
   "execution_count": null,
   "id": "a1dfe07c-72ce-4958-87f8-201a4dc37eab",
   "metadata": {},
   "outputs": [],
   "source": [
    "var totalApts = mutableSetOf();\n",
    "\n",
    "var aptList = listOf(\"1A\", \"1B\", \"1C\", \"2A\", \"2B\", \"2C\", \"2C\", \"1A\") \n",
    "\n",
    "totalApts.addAll(aptList) //Duplicates will be removed by the set"
   ]
  },
  {
   "cell_type": "markdown",
   "id": "5c2ec545-8140-41c0-86e8-90ecd78b8cb5",
   "metadata": {},
   "source": [
    "#### Removing Elements From a Set"
   ]
  },
  {
   "cell_type": "markdown",
   "id": "548720fa-3007-42b1-9a84-0754547061ef",
   "metadata": {},
   "source": [
    "##### *To remove all elements from a set use the clear() method*"
   ]
  },
  {
   "cell_type": "markdown",
   "id": "b061440c-4561-4a9d-8a53-50e29eb1ad33",
   "metadata": {},
   "source": [
    "The __clear()__ method returns an empty set"
   ]
  },
  {
   "cell_type": "code",
   "execution_count": null,
   "id": "e9e5f1ac-7c7b-4a64-aa75-89e5700daef6",
   "metadata": {},
   "outputs": [],
   "source": [
    "totalApts.clear()\n",
    "println(totalApts) // Prints: []"
   ]
  },
  {
   "cell_type": "markdown",
   "id": "85470fc5-a992-4c20-a633-2779dc4a55d3",
   "metadata": {},
   "source": [
    "### Maps"
   ]
  },
  {
   "cell_type": "markdown",
   "id": "7bb5bb18-6e84-4892-9db7-9d1edf1c2891",
   "metadata": {},
   "source": [
    "A map consists of a group of key-value pairs where each key corresponds to a single value. A key-value pair is referred to as an entry and resembles two connected pieces of data where a key is a unique identifier, and the value represents its corresponding data."
   ]
  },
  {
   "cell_type": "markdown",
   "id": "b3b57ed4-81ec-4ed0-b746-37b6539d6e2b",
   "metadata": {},
   "source": [
    "#### Creating Maps"
   ]
  },
  {
   "cell_type": "markdown",
   "id": "bf9bfdb2-414e-4d3b-97fa-698ca60fd079",
   "metadata": {},
   "source": [
    "Maps can be either mutable or imutable"
   ]
  },
  {
   "cell_type": "markdown",
   "id": "2b75748a-6285-40be-af5d-e176294e03d7",
   "metadata": {},
   "source": [
    "##### *Creating imutable maps*\n",
    "\n",
    "Use the __mapOf(entry)__ method to create a imutable list:"
   ]
  },
  {
   "cell_type": "code",
   "execution_count": null,
   "id": "78cb62e6-9f3c-412c-ade5-f62aaf6d3c23",
   "metadata": {},
   "outputs": [],
   "source": [
    "//val/var mapName = mapOf(key1 to val1, key2 to val2, key3 to val3)\n",
    "\n",
    "var instruments = mapOf(\"String\" to \"Cello\", \"Brass\" to \"Saxophone\", \"Woodwinds\" to \"Flute\") \n",
    "\n",
    "println(instruments) // {String=Cello, Brass=Saxophone, Woodwinds=Flute}"
   ]
  },
  {
   "cell_type": "markdown",
   "id": "3b53fb68-a8d4-4405-88e8-a50df002da44",
   "metadata": {},
   "source": [
    "Within the parentheses must exist unique keys along with their corresponding values.The \"to\" keyword is used to link each key to its value.Each entry must be separated by a comma."
   ]
  },
  {
   "cell_type": "markdown",
   "id": "2828c6f8-b948-4bb5-87c9-fcc70abce8e2",
   "metadata": {},
   "source": [
    "##### *Creating mutable maps*"
   ]
  },
  {
   "cell_type": "markdown",
   "id": "9f65fb35-5c7a-49d9-99a6-15f7a069b8d2",
   "metadata": {},
   "source": [
    "To declare a mutable map, use the term, __mutableMapOf(entry)__ in a map declaration:"
   ]
  },
  {
   "cell_type": "code",
   "execution_count": null,
   "id": "329d5b13-a9ff-4e55-a926-a61fe95d78c3",
   "metadata": {},
   "outputs": [],
   "source": [
    "// var/val mapName = mutableMapOf(key1 to val1, key2 to val2, key3 to val2)\n",
    "\n",
    "var students = mutableMapOf(\"Willow\" to 15, \"Elijah\" to 17, \"Florence\" to 16, \"Muhammed\" to 15) \n"
   ]
  },
  {
   "cell_type": "markdown",
   "id": "0e2f6663-a5e7-4fbd-b89b-63709f0f5e2a",
   "metadata": {},
   "source": [
    "#### Accessing Values in a Map"
   ]
  },
  {
   "cell_type": "markdown",
   "id": "f043be91-4bde-4ae9-a35d-7ef650e9b4ea",
   "metadata": {},
   "source": [
    "##### *Retrieving values by key*"
   ]
  },
  {
   "cell_type": "markdown",
   "id": "828311f8-72d3-4194-aa31-b25dd2b6fa55",
   "metadata": {},
   "source": [
    "With the map collection, we are able to retrieve a value using the shorthand __[key]__ syntax"
   ]
  },
  {
   "cell_type": "code",
   "execution_count": null,
   "id": "d0911b7a-c606-4124-8de4-e365d40d4c76",
   "metadata": {},
   "outputs": [],
   "source": [
    "var leadSingers = mapOf(\"The Rolling Stones\" to \"Mick Jagger\", \"Blondie\" to \"Debbie Harry\", \"Queen\" to \"Freddie Mercury\")\n",
    "\n",
    "leadSingers[\"Blondie\"] // Debbie Harry  "
   ]
  },
  {
   "cell_type": "markdown",
   "id": "1fa7326f-fb2d-42b5-8dc9-2508d30ba076",
   "metadata": {},
   "source": [
    "##### *Retrieving a list of Keys or Values from a Map*"
   ]
  },
  {
   "cell_type": "markdown",
   "id": "d07bdd84-3ec5-4082-a222-9d6a7b784dfc",
   "metadata": {},
   "source": [
    "A set of all map keys can be returned using the __keys()__ method, and all a set of all the values using the __values()__ property"
   ]
  },
  {
   "cell_type": "code",
   "execution_count": null,
   "id": "810b6814-a250-4ef3-acee-1d7956f49edf",
   "metadata": {},
   "outputs": [],
   "source": [
    "var leadSingers = mapOf(\"The Rolling Stones\" to \"Mick Jagger\", \"Blondie\" to \"Debbie Harry\", \"Queen\" to \"Freddie Mercury\")\n",
    "\n",
    "\n",
    "leadSingers.keys // [The Rolling Stones, Blondie, Queen]\n",
    "\n",
    "leadSingers.values // [Mick Jagger, Debbie Harry, Freddie Mercury]"
   ]
  },
  {
   "cell_type": "markdown",
   "id": "2f649cef-5eb5-46c6-91c4-2ef008236ef4",
   "metadata": {},
   "source": [
    "#### Adding Values to a Map"
   ]
  },
  {
   "cell_type": "markdown",
   "id": "1c9f8aa0-0ba1-45fc-88e2-3d0730104116",
   "metadata": {},
   "source": [
    "##### *Using the key syntax*\n",
    "\n",
    "Using the __[key]__ syntax, we are able to retrieve and reassign key values."
   ]
  },
  {
   "cell_type": "code",
   "execution_count": null,
   "id": "fd12208f-d27c-4485-bf10-3b6a9f608b13",
   "metadata": {},
   "outputs": [],
   "source": [
    "var students = mutableMapOf(\"Willow\" to 15, \"Elijah\" to 17, \"Florence\" to 16, \"Muhammed\" to 15) \n",
    "\n",
    "students[\"Willow\"] = 16"
   ]
  },
  {
   "cell_type": "markdown",
   "id": "6e1a3603-7b50-43be-be1a-5b7f27eae31c",
   "metadata": {},
   "source": [
    "##### *Using the put method*\n",
    "\n",
    "We can utilize Kotlin’s built-in put() function to add a new entry to the mutable map:"
   ]
  },
  {
   "cell_type": "code",
   "execution_count": null,
   "id": "9c79d659-d8c1-4710-b502-4ba28ccd3cd5",
   "metadata": {},
   "outputs": [],
   "source": [
    "var nationalTrees = mutableMapOf(\"Italy\" to \"Strawberry Tree\", \"Greece\" to \"Olive\", \"Romania\" to \"Oak\", \"Canada\" to \"Maple\")\n",
    "\n",
    "nationalTrees.put(\"Albania\", \"Olive\") "
   ]
  },
  {
   "cell_type": "markdown",
   "id": "2f972f19-3f37-4cd7-a80e-0a1f92eea7a3",
   "metadata": {},
   "source": [
    "Within the parentheses of the put() function, we’ve placed the key followed by a comma and the value. The key-value pair will be added to the end of the map."
   ]
  },
  {
   "cell_type": "markdown",
   "id": "dc1dea65-69c1-4033-969c-a9757871e7d5",
   "metadata": {},
   "source": [
    "#### Removing Entries from a Map"
   ]
  },
  {
   "cell_type": "markdown",
   "id": "f6e26208-765c-49a0-ad3f-eb91421e9b6e",
   "metadata": {},
   "source": [
    "##### *Using the remove function*\n",
    "\n",
    "The __remove(key)__ method removes the specified entry from the map"
   ]
  },
  {
   "cell_type": "code",
   "execution_count": null,
   "id": "fedd5e86-96ae-481a-82f5-60748420b29b",
   "metadata": {},
   "outputs": [],
   "source": [
    "var nationalTrees = mutableMapOf(\"Italy\" to \"Strawberry Tree\", \"Greece\" to \"Olive\", \"Romania\" to \"Oak\", \"Canada\" to \"Maple\")\n",
    "\n",
    "\n",
    "nationalTrees.remove(\"Canada\")"
   ]
  },
  {
   "cell_type": "markdown",
   "id": "32607aca-3f72-4591-8ae8-a5957c6a0fc7",
   "metadata": {},
   "source": [
    "### Numbers"
   ]
  },
  {
   "cell_type": "markdown",
   "id": "5767bc09-db12-493a-9418-ddb401b352a0",
   "metadata": {},
   "source": [
    "##### Integer Superclass"
   ]
  },
  {
   "cell_type": "markdown",
   "id": "96e397b5-ebeb-49cc-9eba-9d0f32226b43",
   "metadata": {},
   "source": [
    "| NameBit | (Size) | Min Value | Max Value |\n",
    "| :---    | :----: | :------:  | :-------: |\n",
    "|Long     | 64     |-9,223,372,036,854… | 9,223,372,036,854…|\n",
    "|Int | 32 | -2,147,483,648 | 2,147,483,647|\n",
    "|Short | 16 | -32,768 | 32,767|\n",
    "|Byte | 8 | -128 | 127|"
   ]
  },
  {
   "cell_type": "markdown",
   "id": "c9aecd00-6860-4088-aaa0-5f7a7c3008c7",
   "metadata": {},
   "source": [
    "##### Decimal Superclass\n"
   ]
  },
  {
   "cell_type": "markdown",
   "id": "216db98e-fc9d-4d2d-89d4-4016d74eee07",
   "metadata": {},
   "source": [
    "|Name | Bit (Size) | Decimal Digit Precision |\n",
    "| :--- | :-------: |  :---------------------:|\n",
    "|Double |64 |15-16|\n",
    "|Float | 32 | 6-7 |"
   ]
  },
  {
   "cell_type": "markdown",
   "id": "645ba7d6-6ec6-4022-bded-04ec81119fe3",
   "metadata": {},
   "source": [
    "### Operations"
   ]
  },
  {
   "cell_type": "markdown",
   "id": "87f5b09e-e300-4cc5-a589-6b55badf857f",
   "metadata": {},
   "source": [
    "##### Arithmetic Operators"
   ]
  },
  {
   "cell_type": "markdown",
   "id": "0bea71e6-b3d9-4a62-ab49-c7fac4b2016c",
   "metadata": {},
   "source": [
    "##### Augmented Assignment Operators"
   ]
  },
  {
   "cell_type": "markdown",
   "id": "7bc4872f-570d-48ce-b17d-e6d59407e6bb",
   "metadata": {},
   "source": [
    "|Operation|Long Syntax|Short Syntax|\n",
    "|:--- | :----: | ---:|\n",
    "|Add |a = a + b|a += b|\n",
    "|Subtract|a = a - b|a -= b|\n",
    "|Multiply|a = a * b|a *= b |\n",
    "| Divide|a = a / b | a /= b |\n",
    "|Mod |a = a % b |a %= b |"
   ]
  },
  {
   "cell_type": "markdown",
   "id": "9d16beac-3f3a-4bc2-afb9-d4283a5b3937",
   "metadata": {},
   "source": [
    "##### Equality Operators"
   ]
  },
  {
   "cell_type": "markdown",
   "id": "63326188-15e6-487c-b308-d882bb997b5c",
   "metadata": {},
   "source": [
    "##### Logical Operators"
   ]
  },
  {
   "cell_type": "markdown",
   "id": "7af984b6-9cf5-4113-85db-4ada6b5fed69",
   "metadata": {},
   "source": [
    "Logical operators evaluate the relationship between two or more Boolean expressions and return a true or false value. There are several operators that we can use: &&, ||, and !."
   ]
  },
  {
   "cell_type": "markdown",
   "id": "6ec031f3-6201-4e32-8e33-6e3091c9e7fd",
   "metadata": {},
   "source": [
    "Order of operations: BNAO Brackets, Not, And, Or "
   ]
  },
  {
   "cell_type": "markdown",
   "id": "22cfb972-8181-4a99-8675-cc6a560731ae",
   "metadata": {},
   "source": [
    "### Conditionals"
   ]
  },
  {
   "cell_type": "markdown",
   "id": "d2533c93-27ce-46ee-9ea7-c3d52fa7ce99",
   "metadata": {},
   "source": [
    "##### if - else if - else"
   ]
  },
  {
   "cell_type": "code",
   "execution_count": null,
   "id": "84cec34b-37aa-4183-8e08-efffaaa75c8b",
   "metadata": {},
   "outputs": [],
   "source": [
    "var temp = 60\n",
    " \n",
    "if (temp > 65) {\n",
    "  println(\"Wear a t-shirt\")\n",
    "} else if (temp > 45) {\n",
    "  println(\"Wear a light coat\") \n",
    "} else {\n",
    "  println(\"Wear a winter coat\")\n",
    "}"
   ]
  },
  {
   "cell_type": "markdown",
   "id": "acab943a-78e7-454f-9004-1c3aa11a49bb",
   "metadata": {},
   "source": [
    "##### Ternary"
   ]
  },
  {
   "cell_type": "markdown",
   "id": "0e0f6d40-62cc-4588-a991-34bcdac81ce8",
   "metadata": {},
   "source": [
    "There are no ternary expressions per say as in Kotlin the if statements are allready an expression due to the fact that they return a value, so using an if expression serves the same function as a ternary."
   ]
  },
  {
   "cell_type": "code",
   "execution_count": null,
   "id": "bdf82e12-cf0a-4af6-aee0-be5c9a8034d9",
   "metadata": {},
   "outputs": [],
   "source": [
    "var max = a\n",
    "if (a < b) max = b\n",
    "\n",
    "// With else\n",
    "var max: Int\n",
    "if (a > b) {\n",
    "    max = a\n",
    "} else {\n",
    "    max = b\n",
    "}\n",
    "\n",
    "// As expression\n",
    "val max = if (a > b) a else b"
   ]
  },
  {
   "cell_type": "markdown",
   "id": "6e8cbfc2-7961-4f36-9aff-b9a5754a9e11",
   "metadata": {},
   "source": [
    "##### when (switch with super powers)"
   ]
  },
  {
   "cell_type": "markdown",
   "id": "ee656f66-ce15-4541-8ae4-40a4d4f3dde7",
   "metadata": {},
   "source": [
    "A when expression is made up of multiple branches that contain values, or arguments, to check for. If the value of the variable being evaluated matches one of the branches’ arguments the instructions contained in that branch will be executed.\n",
    "\n"
   ]
  },
  {
   "cell_type": "code",
   "execution_count": null,
   "id": "043df303-7031-4a43-8937-8b3ec3bec879",
   "metadata": {},
   "outputs": [],
   "source": [
    "var lightColor = \"red\"\n",
    " \n",
    "when (lightColor) {\n",
    "  \"green\" -> println(\"Go.\")\n",
    "  \"yellow\" -> println(\"Slow down.\")\n",
    "  \"red\" -> println(\"Stop.\")\n",
    "  else -> println(\"Not a valid traffic light color.\")\n",
    "}\n",
    "// Prints: Stop."
   ]
  },
  {
   "cell_type": "markdown",
   "id": "0422e517-3140-4442-b2e2-11c1a9cb6cab",
   "metadata": {},
   "source": [
    "Can also be used in place of complex if statements. Note how in the example below, there is no value inside parentheses after the when keyword and instead the full expressions are inside the branches’ arguments."
   ]
  },
  {
   "cell_type": "code",
   "execution_count": null,
   "id": "bc64a52c-df8f-4170-81d8-baa96bc1b79e",
   "metadata": {},
   "outputs": [],
   "source": [
    "var num = 19\n",
    "when {\n",
    "  num < 0 -> println(\"$num is negative.\")\n",
    "  num == 0 -> println(\"$num is zero.\")\n",
    "  num > 0 -> println(\"$num is positive.\")\n",
    "  else -> println(\"Not a valid number.\")\n",
    "}\n",
    "// Prints: 19 is positive."
   ]
  },
  {
   "cell_type": "markdown",
   "id": "064e0ba5-6db9-4cc5-ad64-f515bc54a76f",
   "metadata": {},
   "source": [
    "##### Range\n",
    "\n",
    "In Kotlin, range provides a powerful tool that represents a consecutive succession of values that can often be used in conjunction with conditionals.In Kotlin, ranges are created using the .. operator: StartingValue..EndingValue. The range will start at the value that appears before .. and will continue until it reaches the value that appears after .."
   ]
  },
  {
   "cell_type": "code",
   "execution_count": 1,
   "id": "367844ab-39ae-434d-8b40-c73d813ba272",
   "metadata": {},
   "outputs": [],
   "source": [
    "var num = 5\n",
    " \n",
    "if (num in 1..10) {\n",
    "  println(\"This value is between 1 and 10.\")\n",
    "}\n",
    "\n",
    "//or another example using when\n",
    "\n",
    "var letter = 'c'\n",
    " \n",
    "when (letter) {\n",
    "  in 'a'..'m' -> println(\"Letter is in 1st half of alphabet.\")\n",
    "  in 'n'..'z' -> println(\"Letter is in 2nd half of alphabet.\")\n",
    "  else -> println(\"Not a valid value\")\n",
    "}\n",
    "\n",
    "/*\n",
    "The in keyword is used to check if a value exists \n",
    "inside of a collection or range. The program above checks \n",
    "if num exists within the range of 1 through 10.\n",
    "*/"
   ]
  },
  {
   "cell_type": "markdown",
   "id": "dd193ed4-753e-460f-a937-e6a50e1bdc6a",
   "metadata": {},
   "source": [
    "### Loops"
   ]
  },
  {
   "cell_type": "markdown",
   "id": "ee584aa9-9967-406c-a917-52ff590b31c3",
   "metadata": {},
   "source": [
    "#### For Loops"
   ]
  },
  {
   "cell_type": "markdown",
   "id": "47920447-139c-4814-8a35-9a11e714c828",
   "metadata": {},
   "source": [
    "##### *Looping through a range*\n",
    "\n",
    "The functions __downTo__, __until__ and __step__ give us more control of a range and therefore more control of our loops."
   ]
  },
  {
   "cell_type": "code",
   "execution_count": null,
   "id": "a80cdd7e-22a8-477b-af79-a72690767b12",
   "metadata": {},
   "outputs": [],
   "source": [
    "for(i in 1..4) {\n",
    "  println(\"I am in a loop!\")\n",
    "} \n",
    "\n",
    "/*\n",
    "Prints:\n",
    "I am in a loop!\n",
    "I am in a loop!\n",
    "I am in a loop!\n",
    "I am in a loop!\n",
    "*/\n",
    "\n",
    "// downto reverses the order\n",
    "\n",
    "for (i in 4 downTo 1) {\n",
    "  println(\"i = $i\")\n",
    "}\n",
    "\n",
    "/*\n",
    "Prints:\n",
    "i = 4\n",
    "i = 3\n",
    "i = 2\n",
    "i = 1\n",
    "*/\n",
    "\n",
    "// The until function creates an ascending range, just like the (..) operator, but excludes the upper boundary:\n",
    "    \n",
    "for (i in 1 until 4) {\n",
    "  println(\"i = $i\")\n",
    "}\n",
    "\n",
    "/*\n",
    "Prints:\n",
    "i = 1\n",
    "i = 2\n",
    "i = 3    \n",
    "*/\n",
    "\n",
    "// The step function specifies the amount these functions count by:\n",
    "\n",
    "for (i in 1..8 step 2) {\n",
    "  println(\"i = $i\")\n",
    "}\n",
    "\n",
    "/*\n",
    "Prints:\n",
    "i = 1\n",
    "i = 3\n",
    "i = 5\n",
    "i = 7\n",
    "*/"
   ]
  },
  {
   "cell_type": "markdown",
   "id": "7c5ba8c6-6d92-4917-8e4e-685d2144602b",
   "metadata": {},
   "source": [
    "* for is a keyword used to declare a for loop.\n",
    "* We define i as the loop variable. This variable holds the current iteration value and can be used within the loop body.\n",
    "* The in keyword is between the variable definition and the iterator.\n",
    "* The range 1..4 is the for loop iterator."
   ]
  },
  {
   "cell_type": "markdown",
   "id": "0a3b8408-4c1f-4aa5-84dc-b4876864afdb",
   "metadata": {},
   "source": [
    "##### *Iterating through through Arrays, lists and sets*\n",
    "\n"
   ]
  },
  {
   "cell_type": "code",
   "execution_count": null,
   "id": "aa89b6a9-a9fa-4128-8322-84476b52e431",
   "metadata": {},
   "outputs": [],
   "source": [
    "val fruitList = listOf(\"apples\", \"oranges\", \"bananas\")\n",
    " \n",
    "for (fruit in fruitList) {\n",
    "  println(\"I have $fruit.\")\n",
    "}\n",
    "\n",
    "/*\n",
    "I have apples.\n",
    "I have oranges.\n",
    "I have bananas.\n",
    "*/\n",
    "\n",
    "// To iterate through the indices of a collection you can use its indices property:\n",
    "\n",
    "for (setIndex in fruitSet.indices) {\n",
    "  println(\"Index = $setIndex\")\n",
    "}\n",
    "\n",
    "/*\n",
    "Index = 0\n",
    "Index = 1\n",
    "Index = 2\n",
    "*/\n",
    "\n",
    "// We can also get the index AND the iterator element using the collection’s withIndex()\n",
    "\n",
    "for ((listIndex, fruit) in fruitList.withIndex()) {\n",
    "  println(\"$listIndex is the index of the element $fruit\")\n",
    "}\n",
    "\n",
    "/*\n",
    "0 is the index of the element apples\n",
    "1 is the index of the element oranges\n",
    "2 is the index of the element bananas\n",
    "*/"
   ]
  },
  {
   "cell_type": "markdown",
   "id": "7a97f26e-aa8e-4226-b84d-14fd81f1349d",
   "metadata": {},
   "source": [
    "##### *Iterating through maps*"
   ]
  },
  {
   "cell_type": "code",
   "execution_count": null,
   "id": "a8913622-6fbc-48db-bf47-3dbd6c0980b4",
   "metadata": {},
   "outputs": [],
   "source": [
    "val myClothes = mapOf(\"Shirts\" to 7, \"Pairs of Pants\" to 4, \"Jackets\" to 2)\n",
    " \n",
    "for (itemEntry in myClothes) {\n",
    "  println(\"I have ${itemEntry.value} ${itemEntry.key}\")\n",
    "}\n",
    "\n",
    "/*\n",
    "I have 7 Shirts\n",
    "I have 4 Pairs of Pants\n",
    "I have 2 Jackets\n",
    "*/\n",
    "\n",
    "//We can also access the key and value of each entry by destructuring using two loop variables in parentheses. The first variable is the entry’s key and the second is the value:\n",
    "\n",
    "for ((itemName, itemCount) in myClothes) {\n",
    "  println(\"I have $itemCount $itemName\")\n",
    "}\n",
    "\n",
    "/*\n",
    "I have 7 Shirts\n",
    "I have 4 Pairs of Pants\n",
    "I have 2 Jackets\n",
    "*/\n",
    "\n",
    "//A map has the properties keys and values which can each be used as an iterator:\n",
    "\n",
    "println(\"KEYS\")\n",
    "for (itemName in myClothes.keys) {\n",
    "  println(itemName)\n",
    "}\n",
    "\n",
    "/*\n",
    "KEYS\n",
    "Shirts\n",
    "Pairs of Pants\n",
    "Jackets\n",
    "*/\n",
    " \n",
    "println(\"\\nVALUES\")\n",
    "for (itemCount in myClothes.values) {\n",
    "  println(itemCount)\n",
    "}\n",
    "\n",
    "/*\n",
    "VALUES\n",
    "7\n",
    "4\n",
    "2\n",
    "*/"
   ]
  },
  {
   "cell_type": "markdown",
   "id": "a0c7a82f-6b5d-4a48-974e-c9491daff8cf",
   "metadata": {},
   "source": [
    "##### Jump Expressions\n",
    "\n",
    "The jump expressions, __break__ and __continue__, are used to change the standard loop behavior by exiting a loop early or skipping a single repetition."
   ]
  },
  {
   "cell_type": "code",
   "execution_count": null,
   "id": "1862c80b-806e-4296-a294-0723ea006c7f",
   "metadata": {},
   "outputs": [],
   "source": [
    "// The break expression is used to exit the loop at a particular iteration:\n",
    "\n",
    "val myNumbers = listOf(4, 8, 2, 9, 12, 7, 16, 10, 3)\n",
    "\n",
    "for (num in myNumbers) {\n",
    "  if (num > 9) {\n",
    "    break\n",
    "  }\n",
    "  println(num)\n",
    "}\n",
    "\n",
    "/*\n",
    "Output:\n",
    "4\n",
    "8\n",
    "2\n",
    "9\n",
    "*/\n",
    "\n",
    "//The continue expression will skip the current execution of the loop body, but the loop will keep going if there are iterations left.\n",
    "\n",
    "for (num in myNumbers) {\n",
    "  if (num > 9) {\n",
    "    continue\n",
    "  }\n",
    "  println(num)\n",
    "}\n",
    "\n",
    "/*\n",
    "Output\n",
    "4\n",
    "8\n",
    "2\n",
    "9\n",
    "7\n",
    "3\n",
    "*/"
   ]
  },
  {
   "cell_type": "markdown",
   "id": "42f99ca5-5a81-4950-ad04-3f84949f4f21",
   "metadata": {},
   "source": [
    "In order to use jump expressions inside of nested loops we use __labled__ jumped expression"
   ]
  },
  {
   "cell_type": "code",
   "execution_count": null,
   "id": "63f2c494-9fbf-47dc-8fc3-c3779140889b",
   "metadata": {},
   "outputs": [],
   "source": [
    "\n",
    "val game = listOf(\"Rock\", \"Paper\", \"Scissor\")\n",
    "\n",
    "\n",
    "\n",
    "\n",
    "rps@ for (p1 in game) {\n",
    "  for (p2 in game) {\n",
    "    if (p1 == \"Paper\") {\n",
    "      break@rps // The break statement exits the outer loop\n",
    "    }\n",
    "    println(\"$p1 vs. $p2\")\n",
    "  }\n",
    "}\n",
    "\n"
   ]
  },
  {
   "cell_type": "markdown",
   "id": "febcd96b-f7d9-40ba-ae60-a8b864c2b1c2",
   "metadata": {},
   "source": [
    "#### While Loops"
   ]
  },
  {
   "cell_type": "markdown",
   "id": "57a05181-0f00-4bae-b3c5-c4d212011751",
   "metadata": {},
   "source": [
    "##### *while loops*\n",
    "\n",
    "When repeating code we may not have a range or defined collection to dictate the number of loops we need to execute. In this case, we can rely on a while loop which repeats code as long as a specified condition is true."
   ]
  },
  {
   "cell_type": "code",
   "execution_count": null,
   "id": "86ddf66b-8a57-4f59-8f85-6879dc84a9a8",
   "metadata": {},
   "outputs": [],
   "source": [
    "var myAge = 16\n",
    " \n",
    "while (myAge < 20) {\n",
    "  println(\"I am a teenager.\")\n",
    "  myAge += 1\n",
    "}\n",
    "println (\"I am not a teenager.\")\n",
    "\n",
    "/*\n",
    "I am a teenager. // myAge is 16\n",
    "I am a teenager. // myAge is 17\n",
    "I am a teenager. // myAge is 18\n",
    "I am a teenager. // myAge is 19\n",
    "I am not a teenager. // myAge is 20\n",
    "*/"
   ]
  },
  {
   "cell_type": "markdown",
   "id": "0fbc7fb9-3ec3-426f-84e0-d2ce5295441b",
   "metadata": {},
   "source": [
    "##### *Do...While loop*\n",
    "\n",
    "A do..while loop is just like a while loop except the looping condition is checked at the end of the loop body. This is known as an exit-condition loop and means the code in the body will execute at least once:"
   ]
  },
  {
   "cell_type": "code",
   "execution_count": null,
   "id": "2e4068a9-3203-4ac8-869f-ccdc61b83df9",
   "metadata": {},
   "outputs": [],
   "source": [
    "val myCondition = false\n",
    " \n",
    "do {\n",
    "  print(\"I loop once!\")\n",
    "} while(myCondition)\n",
    "\n",
    "// I loop once!!!!"
   ]
  },
  {
   "cell_type": "markdown",
   "id": "9c99acdd-13d2-4ffc-84ad-48128cd37093",
   "metadata": {},
   "source": [
    "### Functions"
   ]
  },
  {
   "cell_type": "markdown",
   "id": "8a151e29-2c8a-47d5-b9ed-2bbe74c7f920",
   "metadata": {},
   "source": [
    "#### Creating and Calling functions\n",
    "\n",
    "A function header contains valuable information about a function including its name, arguments, and its return type.\n",
    "\n",
    "__fun funcName(argName: Type): returnType {\n",
    "  Function Body\n",
    "}__\n",
    "\n",
    "* The fun keyword is used to declare a function.\n",
    "* The function name is used to call the function throughout the program.\n",
    "* Inside the parentheses are arguments- pieces of data fed to the function.\n",
    "* The return type declares the type of data the function will return; it is also optional to include.\n",
    "* Following the function header is the function’s body where instructions are contained."
   ]
  },
  {
   "cell_type": "code",
   "execution_count": null,
   "id": "71bfe322-1520-4f6c-b391-16792c3eaf2b",
   "metadata": {},
   "outputs": [],
   "source": [
    "fun greeting() {\n",
    "  println(\"Hello friend!\")\n",
    "}\n",
    " \n",
    "fun main() {\n",
    "  // Invoke the function\n",
    "  greeting()\n",
    "}\n",
    "// Prints: Hello friend!"
   ]
  },
  {
   "cell_type": "markdown",
   "id": "5dd3de04-3e96-410b-b079-296282e1b9c4",
   "metadata": {},
   "source": [
    "#### Function Arguments\n",
    "\n",
    "Arguments are pieces of data we can feed to our functions in order to produce dynamic results. We can include as many arguments as the function needs.\n",
    "\n",
    "##### *Specifying parameters*\n",
    "\n",
    "To pass arguments into a function, we need to add parameters to our function header. Parameters are the names given to data being passed into a function. For example:"
   ]
  },
  {
   "cell_type": "code",
   "execution_count": null,
   "id": "2d567282-4f26-43c9-bd12-178fdf56a561",
   "metadata": {},
   "outputs": [],
   "source": [
    "fun calculateForce(mass: Int, acceleration: Int) {\n",
    "  var force = mass * acceleration\n",
    "  println(\"The force is $force Newtons.\")\n",
    "}"
   ]
  },
  {
   "cell_type": "markdown",
   "id": "d6547cae-5724-4e49-9072-21b35b536657",
   "metadata": {},
   "source": [
    "In the parentheses of the function header, we added two parameters: mass and acceleration.\n",
    "\n",
    "* Each parameter is separated by a comma (,).\n",
    "* The parameter starts with its name, followed by a colon (:), and then the parameter type.\n",
    "\n",
    "Parameters an also be given a default value when creating a function:"
   ]
  },
  {
   "cell_type": "code",
   "execution_count": null,
   "id": "0adeda40-4463-43e2-a925-1344f0cd8d1e",
   "metadata": {},
   "outputs": [],
   "source": [
    "fun greetCustomer(name: String = \"Customer\") {\n",
    "  println(\"Hello, $name.\")\n",
    "}\n",
    "\n",
    "greetCustomer(\"Cynara\") // Prints: Hello, Cynara.\n",
    "greetCustomer() // Prints: Hello, Customer."
   ]
  },
  {
   "cell_type": "markdown",
   "id": "90add89e-4bc6-4d07-b830-2ff10e4b1ca6",
   "metadata": {},
   "source": [
    "##### *Arguments*\n",
    "\n",
    "The parameters can then be referenced within the function body like a variable. The value of each parameter is determined by the arguments used when invoking the function:"
   ]
  },
  {
   "cell_type": "code",
   "execution_count": null,
   "id": "c597ef55-7cd9-4b85-b723-3475cfa89a78",
   "metadata": {},
   "outputs": [],
   "source": [
    "calculateForce(5, 12) // The force of this object is 60 Newtons."
   ]
  },
  {
   "cell_type": "markdown",
   "id": "d0468740-97d3-4793-a614-7106a4cf62cb",
   "metadata": {},
   "source": [
    "Or we can invoke the function with named arguments. By naming our arguments when we invoke a function, we do not need to place the arguments in the same order as they appear in the function header."
   ]
  },
  {
   "cell_type": "code",
   "execution_count": null,
   "id": "96aec9a9-bd1b-4df2-b59b-e60905576d12",
   "metadata": {},
   "outputs": [],
   "source": [
    "calculateForce(acceleration = 12, mass = 5) // Prints: The force is 60 Newtons."
   ]
  },
  {
   "cell_type": "markdown",
   "id": "dec2c0e8-2a69-4a5a-a22b-30ef2b305449",
   "metadata": {},
   "source": [
    "#### Returning Values"
   ]
  },
  {
   "cell_type": "markdown",
   "id": "e62b9ed5-0b48-4722-970d-e95af58a6cce",
   "metadata": {},
   "source": [
    "##### *Returning Values*\n",
    "\n",
    "A return statement returns a value from a function and passes it back to where the function was invoked. This value can then be used throughout our program.\n",
    "\n",
    "If we want a function to return a value, we must add the return type to the function header as well as a return statement in the body. "
   ]
  },
  {
   "cell_type": "code",
   "execution_count": null,
   "id": "33615887-8bf7-4c2b-93c9-836b86fb8a40",
   "metadata": {},
   "outputs": [],
   "source": [
    "//The following function declaration specificies an Int return type\n",
    "\n",
    "fun listSum(myList: List<Int>): Int { \n",
    "  var sum = 0\n",
    "  // iterate through each value and add it to sum\n",
    "  for (i in myList) {\n",
    "    sum += i\n",
    "  }\n",
    "  // return statement\n",
    "  return sum\n",
    "}"
   ]
  },
  {
   "cell_type": "markdown",
   "id": "c3ca5ab7-1a05-43a3-afb3-1d0fbc1b81ad",
   "metadata": {},
   "source": [
    "* The return type describes the data type of the value being returned and is stated after the parentheses and a colon : in the function header.\n",
    "* The keyword return is used to declare a return statement. In this case, sum is the value being returned.\n",
    "* Any lines of code that exist after the return statement will not be executed."
   ]
  },
  {
   "cell_type": "markdown",
   "id": "49860cbd-8125-40cd-9476-17bde60196b3",
   "metadata": {},
   "source": [
    "#### Single Expression Functions"
   ]
  },
  {
   "cell_type": "markdown",
   "id": "669b8c33-9583-428b-8bb3-7e9ac613b6dc",
   "metadata": {},
   "source": [
    "If one of our functions contains only a single expression, we can write the function out with shorthand syntax. This syntax allows us to create a function using only a single line of code."
   ]
  },
  {
   "cell_type": "code",
   "execution_count": null,
   "id": "b36a76f8-3d70-4198-b3e2-b568dc7c9c72",
   "metadata": {},
   "outputs": [],
   "source": [
    "fun powerOf2(num: Int): Int {\n",
    "  return num * num\n",
    "}"
   ]
  },
  {
   "cell_type": "markdown",
   "id": "fb058c44-af3f-4584-9f26-06a0ccd74acb",
   "metadata": {},
   "source": [
    "Can be written as:"
   ]
  },
  {
   "cell_type": "code",
   "execution_count": null,
   "id": "86ae57c0-7ad1-4f78-b3ca-bccf1dc9be93",
   "metadata": {},
   "outputs": [],
   "source": [
    "fun powerOf2(num: Int) = num * num"
   ]
  },
  {
   "cell_type": "markdown",
   "id": "f4dbcfdc-5dc0-4f81-bbbe-8a2c2328c45d",
   "metadata": {},
   "source": [
    "#### Function Literals"
   ]
  },
  {
   "cell_type": "markdown",
   "id": "b78d0dce-66f4-4c32-9490-8fee9683a381",
   "metadata": {},
   "source": [
    "A function literal is an unnamed function that can be treated as a value: we can call them, assign them as variables, pass them as arguments, and return them from a function as we could with any other value.\n",
    "\n",
    "There are two types of function literals: __anonymous functions__ and __lambda expressions__."
   ]
  },
  {
   "cell_type": "markdown",
   "id": "8572d9c1-a9cd-4b24-897d-4deb543bc2cd",
   "metadata": {},
   "source": [
    "##### *Anonymous Functions*"
   ]
  },
  {
   "cell_type": "code",
   "execution_count": null,
   "id": "dd225706-bfac-4f99-9af5-f1a19ed2323b",
   "metadata": {},
   "outputs": [],
   "source": [
    "val quotient = fun(num1: Double, num2: Double): Double { \n",
    "  return num1 / num2 \n",
    "}\n",
    "\n",
    "println(quotient(10, 5)) // Prints: 2"
   ]
  },
  {
   "cell_type": "markdown",
   "id": "437cbe18-7492-45f6-8c6c-f00e6240393b",
   "metadata": {},
   "source": [
    "* The anonymous function is contained in a variable called quotient.\n",
    "* The fun keyword is placed after the assignment operator and is not followed by a name (hence the anonymous).\n",
    "* quotient has a function type of (Double, Double) -> Double.\n",
    "* The function type describes the argument type and return type of the anonymous function. The arguments are contained within parentheses while the return type is stated after ->. In this case, the anonymous function takes in two Doubles and returns a single Double."
   ]
  },
  {
   "cell_type": "markdown",
   "id": "74f95e37-d535-4c10-8de8-599ab59215cb",
   "metadata": {},
   "source": [
    "##### *Lambda Functions*"
   ]
  },
  {
   "cell_type": "markdown",
   "id": "ca5e2142-e1ac-4b10-8f11-f64c97f00c98",
   "metadata": {},
   "source": [
    "val quotient = { num1: Int, num2: Int -> num1 / num2 }\n",
    " \n",
    "println(quotient(10, 5)) // Prints: 2"
   ]
  },
  {
   "cell_type": "markdown",
   "id": "a77b5065-7fdc-4586-8415-f817c9e305d6",
   "metadata": {},
   "source": [
    "* The lambda expression is contained within brackets: { and }\n",
    "* We state the parameter names as well as their data types.\n",
    "* The return value num1 / num2 is placed after the -> symbol.\n",
    "* Including the return type is optional because the compiler can use type  inference to deduce the data type of the return value."
   ]
  },
  {
   "cell_type": "markdown",
   "id": "48511466-64fa-4c88-9a21-8cb842ff0333",
   "metadata": {},
   "source": [
    "### Classes"
   ]
  },
  {
   "cell_type": "markdown",
   "id": "97325ae2-b3e3-4d11-8909-e3f990ea83f5",
   "metadata": {},
   "source": [
    "#### Creating a Class"
   ]
  },
  {
   "cell_type": "markdown",
   "id": "9ec1f801-947a-498f-b2b1-cd4a19ee58d4",
   "metadata": {},
   "source": [
    "##### *A Simple Class*"
   ]
  },
  {
   "cell_type": "markdown",
   "id": "a715af77-6673-469a-9801-93b02cc8d226",
   "metadata": {},
   "source": [
    "A Kotlin class is declared at the top of a Kotlin file, outside the main() function, with the class keyword followed by its name:"
   ]
  },
  {
   "cell_type": "code",
   "execution_count": null,
   "id": "a928cdb8-67a5-4e8b-b0dd-1504e9224062",
   "metadata": {},
   "outputs": [],
   "source": [
    "class Name {\n",
    "  // class body\n",
    "}"
   ]
  },
  {
   "cell_type": "markdown",
   "id": "383ad561-42b4-496d-9401-43ade890be62",
   "metadata": {},
   "source": [
    "The name of a class should always start with an upper case letter and use the camel case form. The class body is contained within curly braces and will hold all of the properties and functions related to that class. We will take a closer look at class functions in a later exercise."
   ]
  },
  {
   "cell_type": "markdown",
   "id": "97b34443-8f6b-4c7d-b860-61f393bc9190",
   "metadata": {},
   "source": [
    "##### *Class without a body*\n",
    "\n",
    "Note: It is optional for a Kotlin class to contain a body, thus if the class has no body, we can omit its curly braces, resulting in the following declaration:"
   ]
  },
  {
   "cell_type": "code",
   "execution_count": null,
   "id": "83af2593-d7db-4e86-b0d4-312cb1ff27eb",
   "metadata": {},
   "outputs": [],
   "source": [
    "class Name"
   ]
  },
  {
   "cell_type": "markdown",
   "id": "f886efd2-46e0-40f6-9442-6f63ec0e8619",
   "metadata": {},
   "source": [
    "##### *Class With a Constructor*\n",
    "\n",
    "There are three ways to create a constructor: The __primary constructor__ , __secondary constructor__, and the __init block__\n",
    "\n",
    "Using the __primary constructor__:"
   ]
  },
  {
   "cell_type": "code",
   "execution_count": null,
   "id": "2e6e2b10-392a-4e03-916d-72c772d254ab",
   "metadata": {},
   "outputs": [],
   "source": [
    "class Car constructor(val year: Int, val model: String, val color: String)\n",
    "\n",
    "\n",
    "val myCar = Car(2011, \"Jeep\", \"Blue\") \n",
    "val friendsCar = Car(2015, \"Mazda\", \"Red\") "
   ]
  },
  {
   "cell_type": "markdown",
   "id": "f1774ffc-01cc-40ed-a8ac-55dcda7e7ae3",
   "metadata": {},
   "source": [
    "Using the __secondary constructor__:"
   ]
  },
  {
   "cell_type": "code",
   "execution_count": null,
   "id": "096a7226-34f4-4db6-9524-daf05d9ba6e8",
   "metadata": {},
   "outputs": [],
   "source": [
    "//alternatively\n",
    "\n",
    "class Car {\n",
    "    \n",
    "    val year: Int\n",
    "    val model: String\n",
    "    val color: String\n",
    "    \n",
    "    constructor(year: Int,model: String, color: String){\n",
    "        this.year = year\n",
    "        this.model = model\n",
    "        this.color = color\n",
    "        \n",
    "    }\n",
    "}"
   ]
  },
  {
   "cell_type": "markdown",
   "id": "aa69ae8c-579d-482f-b811-14c9c1595c2f",
   "metadata": {},
   "source": [
    "Using the __init block__:"
   ]
  },
  {
   "cell_type": "code",
   "execution_count": null,
   "id": "b30f3cba-80b6-4266-a9be-c32f39deb7e4",
   "metadata": {},
   "outputs": [],
   "source": [
    "class Mascot constructor(val name: String, val platform: String, val yearCreated: Int) {\n",
    "  var age: Int\n",
    " \n",
    "  init {\n",
    "    age = 2020 - yearCreated\n",
    "    println(\"$name is a $platform mascot and is $age years old. \")\n",
    "  }\n",
    "}"
   ]
  },
  {
   "cell_type": "markdown",
   "id": "8eacb6d9-09ca-477e-9037-aefb82748933",
   "metadata": {},
   "source": [
    "#### Access modifiers"
   ]
  },
  {
   "cell_type": "markdown",
   "id": "7fe037ce-9de3-40cf-af75-0eab195f02a8",
   "metadata": {},
   "source": [
    "|Modifier|Description|\n",
    "|:---|---:|\n",
    "|__private__|only vissible and accessable from within the class itself|\n",
    "|__protected__|The same as private by is accessible and visible by subclasses|\n",
    "|__internal__|Any client inside this module that sees the dclaring class sees its internal members|\n",
    "|__public__| Visible and accessible from anywhere|"
   ]
  },
  {
   "cell_type": "markdown",
   "id": "b136a4d8-8bef-4d4b-adf6-c51ce0f72e23",
   "metadata": {},
   "source": [
    "##### *Encapsulation*"
   ]
  },
  {
   "cell_type": "markdown",
   "id": "7dfa0a84-4d8c-47e6-86f8-f5e7eac4facd",
   "metadata": {},
   "source": [
    "Encapsulation can be achieved by setting variables or methods to __private__, or by using the __private set__ and __private get__ modifiers."
   ]
  },
  {
   "cell_type": "code",
   "execution_count": null,
   "id": "84d39139-a547-4cc7-a758-3fb082e30aa1",
   "metadata": {},
   "outputs": [],
   "source": [
    "//by using the private modifier\n",
    "class Employee {\n",
    "    private var name: String = null\n",
    "    private var id: Int = null\n",
    "}\n",
    "\n",
    "\n",
    "//by using the set and get modifiers\n",
    "class Employee {\n",
    "    var name: String = null\n",
    "    var id: Int = null\n",
    "        private set //prevents the values from being reassigned\n",
    "        private get //prevents the values from being read.\n",
    "}"
   ]
  },
  {
   "cell_type": "markdown",
   "id": "34d96873-9e29-4277-afd1-387ad2dfb9c1",
   "metadata": {},
   "source": [
    "#### Inheritance\n",
    "\n",
    "##### *Inheriting from another class*\n",
    "\n",
    "By default, classes in Kotlin are final, meaning they are closed to extension. In order to inherit from a super class, the super class first needs to be declared __open__.\n",
    "\n",
    "The __:__ symbol is used to specify the class that is being inherited from."
   ]
  },
  {
   "cell_type": "code",
   "execution_count": null,
   "id": "717fb5b6-f55b-4ac7-b181-2f8c1099671b",
   "metadata": {},
   "outputs": [],
   "source": [
    "open class Super {\n",
    "    var name = null\n",
    "}\n",
    "\n",
    "class child:Super {\n",
    "    var lastName = null\n",
    "}"
   ]
  },
  {
   "cell_type": "markdown",
   "id": "dae2caca-efe1-4d87-8f94-9b18bfd17d6c",
   "metadata": {},
   "source": [
    "##### *Overriding functions*\n",
    "\n",
    "To override functions in a class use the __open__ and __override__ keywords. The function in the superclass is called overridden function and the function in the child class is called the overriding function. \n",
    "\n",
    "One can also use the __super__ keyword to access and call functions of the parent class within the child class.\n",
    "\n",
    "In order for a function to be over-ridden it needs to have:\n",
    "* the same name\n",
    "* the same parameters\n",
    "* the same return type"
   ]
  },
  {
   "cell_type": "code",
   "execution_count": null,
   "id": "eeed021c-5fc2-4abf-bdf3-1253040722d2",
   "metadata": {},
   "outputs": [],
   "source": [
    "open class Vehicle {\n",
    "    \n",
    "    open fun stop(){ //open makes the function extendable\n",
    "        println(\"Vehicle has stopped\")\n",
    "    }\n",
    "    \n",
    "    open fun drive(){\n",
    "        println(\"Vehicle is driving\")\n",
    "    }\n",
    "}\n",
    "\n",
    "class Car: Vehicle() {\n",
    "    \n",
    "    override fun stop(){ //overrides the parent function\n",
    "        println(\"Car has stopped\")\n",
    "    }\n",
    "    \n",
    "    overide fun drive(){\n",
    "        super.drive() //calls the drive function in the parent class\n",
    "        print(\"Vroom!\")\n",
    "    }\n",
    "}"
   ]
  },
  {
   "cell_type": "markdown",
   "id": "7970a832-2135-4d29-8f93-6a0331764212",
   "metadata": {},
   "source": [
    "#### Abstract Classes\n",
    "\n",
    "Abstract classes are classses that are not implemented but are classes that are inherited from. \n",
    "\n",
    "##### *Creating an Abstract Class*\n",
    "\n",
    "To create an abstract class use the __abstract__ keyword"
   ]
  },
  {
   "cell_type": "code",
   "execution_count": null,
   "id": "145859f7-e085-4cdd-bf51-7473903ad01a",
   "metadata": {},
   "outputs": [],
   "source": [
    "//use the abstract keyword to declare an abstract class\n",
    "abstract class Vehicle {\n",
    "    \n",
    "    //abstract property\n",
    "    abstract var model: Int\n",
    "    \n",
    "    //non-abstract property\n",
    "    var speed:Int = null\n",
    "    \n",
    "    \n",
    "    //abstract function that leaves the implementation up to the child class\n",
    "    abstract fun vehicleName(name:String):String\n",
    "    \n",
    "    //non-abstract functnion\n",
    "    fun vehicleType(type:String):String {\n",
    "        return type\n",
    "    }\n",
    "    \n",
    "    \n",
    "}"
   ]
  },
  {
   "cell_type": "markdown",
   "id": "c2190158-2f3b-4e42-9e02-8606eb487fcc",
   "metadata": {},
   "source": [
    "##### *Extending an Abstract Class*\n",
    "\n",
    "In order to implement an Abstract class, one needs to override any and all properties and methods that were defined as abstract in the parent class"
   ]
  },
  {
   "cell_type": "code",
   "execution_count": null,
   "id": "a11e7e03-3184-494b-a307-d271d0889026",
   "metadata": {},
   "outputs": [],
   "source": [
    "class Car(overirde var model: Int): Vehicle(){\n",
    "\n",
    "    override fun vehicleName(name:String):String{\n",
    "        TODO(\"Implement this function\")\n",
    "    }\n",
    "\n",
    "}\n",
    "    \n",
    "//Create an implementation of Car\n",
    "var ford = Car(2021) "
   ]
  },
  {
   "cell_type": "markdown",
   "id": "0ee32444-a9af-41ff-b0a8-963ab6dabf8e",
   "metadata": {},
   "source": [
    "#### Interfaces\n",
    "\n",
    "Interfaces are abstract and they are used to extend a base class. "
   ]
  },
  {
   "cell_type": "markdown",
   "id": "3288e89e-b5d6-4005-bd5c-7c90f2486a77",
   "metadata": {},
   "source": [
    "##### *Creating an interface*\n",
    "\n",
    "Use the __interface__ keyword to create an Interface."
   ]
  },
  {
   "cell_type": "code",
   "execution_count": null,
   "id": "59112df1-9387-460c-8b2c-da6ca63eedfd",
   "metadata": {},
   "outputs": [],
   "source": [
    "// Base class\n",
    "\n",
    "class Vehicle {\n",
    "    var parent: String = \"Vehicle super class\"\n",
    "    \n",
    "}\n",
    "\n",
    "\n",
    "//interfaces\n",
    "\n",
    "interface Drive {\n",
    "    var speed: Int //properties cannot be initiliazed within interfaces\n",
    "    fun drive()\n",
    "}\n",
    "\n",
    "interface Stop {\n",
    "    fun stop()\n",
    "}\n",
    "\n",
    "\n",
    "// Child class\n",
    "\n",
    "class Car: Vehicle, Drive, Stop {\n",
    "    \n",
    "    override var speed: Int\n",
    "        get() = 20\n",
    "    \n",
    "    override fun drive(){\n",
    "        //Todo\n",
    "    }\n",
    "    \n",
    "    override fun stop(){\n",
    "        //Todo\n",
    "    }\n",
    "    \n",
    "}"
   ]
  },
  {
   "cell_type": "markdown",
   "id": "58d61959-6f31-4903-9848-fe3e7f0e6115",
   "metadata": {},
   "source": [
    "#### Creating an Instance"
   ]
  },
  {
   "cell_type": "markdown",
   "id": "1ce34c77-e7bd-4ec8-9ec2-a994174026a4",
   "metadata": {},
   "source": [
    "An instance of a class resembles an object that is a member of that given class. Each object has state, behaviour and identity"
   ]
  },
  {
   "cell_type": "code",
   "execution_count": null,
   "id": "105eaee9-cd83-40f2-8016-3a3d975f44bc",
   "metadata": {},
   "outputs": [],
   "source": [
    "//Class\n",
    "class Car {\n",
    " val year = 2011\n",
    " val model = \"Jeep\"\n",
    " val color = \"Blue\"\n",
    "}\n",
    "\n",
    "//Class instance\n",
    "val myCar = Car()"
   ]
  },
  {
   "cell_type": "markdown",
   "id": "f2d93e3f-55d8-40a6-a75d-1e5596356587",
   "metadata": {},
   "source": [
    "* We’ve declared the name of our instance/object to be myCar. This name is arbitrary and is up to the developer’s choosing.\n",
    "* Following the assignment operator, we’ve invoked the Car class with the name of the class followed by parentheses - the same syntax we use when invoking a function.\n",
    "* With this line of code, the myCar instance now possesses all the properties and their respective values that were specified within the class body."
   ]
  },
  {
   "cell_type": "markdown",
   "id": "eb140d39-d4ff-4edf-a692-6c564e02ea3f",
   "metadata": {},
   "source": [
    "#### Accessing Properties on an Instance"
   ]
  },
  {
   "cell_type": "markdown",
   "id": "ec1ec2c8-f60a-4502-9c37-ba675e38383d",
   "metadata": {},
   "source": [
    "we can utilize the dot notation and append our class property names on our instance/object and retrieve their values."
   ]
  },
  {
   "cell_type": "code",
   "execution_count": null,
   "id": "46b17fbc-4ec2-42d9-890a-e31f2e69f898",
   "metadata": {},
   "outputs": [],
   "source": [
    "println(myCar.year)  // Prints: 2011\n",
    "println(myCar.model) // Prints: Jeep\n",
    "println(myCar.color) // Prints: Blue"
   ]
  },
  {
   "cell_type": "markdown",
   "id": "6849e40a-4f57-4ece-a98a-c0f5c44d279e",
   "metadata": {},
   "source": [
    "#### Data Classes\n",
    "\n",
    "##### *What is a data class*\n",
    "\n",
    "Data classes are special classes that hold only data. They have built in toString, to Hash, and copy methods, and can be destructured\n",
    "\n",
    "##### *Creating a data class*"
   ]
  },
  {
   "cell_type": "code",
   "execution_count": null,
   "id": "8136af96-1661-4fe0-96d6-fc16a48da916",
   "metadata": {},
   "outputs": [],
   "source": [
    "data class Employee (var name:String, var id:int, var position:String, var salary:int )"
   ]
  },
  {
   "cell_type": "markdown",
   "id": "b2259115-2ca9-45e1-b332-59f16762b742",
   "metadata": {},
   "source": [
    "##### *Creating a new data object from an existing one*\n",
    "\n",
    "A new data object can be created by using the __copy__ method"
   ]
  },
  {
   "cell_type": "code",
   "execution_count": null,
   "id": "1c1ca33b-79f9-4aa8-874f-a47b2d73d790",
   "metadata": {},
   "outputs": [],
   "source": [
    "var ceo = itGuy.copy(position = \"CEO\", salary=\"1 billion billion\")"
   ]
  },
  {
   "cell_type": "markdown",
   "id": "7f450c54-04c3-42aa-b4f4-2c7cffcc42e0",
   "metadata": {},
   "source": [
    "##### *Destructuring a data object*"
   ]
  },
  {
   "cell_type": "code",
   "execution_count": null,
   "id": "b06a050f-b9cd-4279-b086-486c13b11cc8",
   "metadata": {},
   "outputs": [],
   "source": [
    "val (name, salary, position) = ceo"
   ]
  }
 ],
 "metadata": {
  "kernelspec": {
   "display_name": "Python 3",
   "language": "python",
   "name": "python3"
  },
  "language_info": {
   "codemirror_mode": {
    "name": "ipython",
    "version": 3
   },
   "file_extension": ".py",
   "mimetype": "text/x-python",
   "name": "python",
   "nbconvert_exporter": "python",
   "pygments_lexer": "ipython3",
   "version": "3.8.3"
  }
 },
 "nbformat": 4,
 "nbformat_minor": 5
}
