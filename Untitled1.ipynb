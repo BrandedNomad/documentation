{
 "cells": [
  {
   "cell_type": "markdown",
   "id": "b00ad285-90a4-405c-b877-35bc845f4dff",
   "metadata": {},
   "source": [
    "# Kotlin \n"
   ]
  },
  {
   "cell_type": "markdown",
   "id": "c0bb3874-7330-4e48-ac3f-7fbad1f5852e",
   "metadata": {},
   "source": [
    "This document provides an overview of Kotlin Syntax"
   ]
  },
  {
   "cell_type": "markdown",
   "id": "8c005f74-3f33-4ecc-b978-a9787c4eb257",
   "metadata": {},
   "source": [
    "### Compiling and Running Kotlin File"
   ]
  },
  {
   "cell_type": "markdown",
   "id": "95c403c1-9341-4514-a4cc-9b489b99bbf6",
   "metadata": {},
   "source": [
    "In the terminal run the following to compile into byte code:\n",
    "1. kotlinc fileName.kt -include-runtime -d fileName.jar\n",
    "\n",
    "Then execute the .jar file by running:\n",
    "\n",
    "2. java -jar fileName.jar"
   ]
  },
  {
   "cell_type": "markdown",
   "id": "5442cb01-172a-4321-9984-33ebf49849b1",
   "metadata": {},
   "source": [
    "### Print output"
   ]
  },
  {
   "cell_type": "markdown",
   "id": "86fd98bf-7ed9-4ec5-920e-c85f950d0c49",
   "metadata": {},
   "source": [
    "The print statement prints output to the terminal."
   ]
  },
  {
   "cell_type": "code",
   "execution_count": null,
   "id": "aeb9f542-c7be-47b7-a44e-87b34ccf323e",
   "metadata": {},
   "outputs": [],
   "source": [
    "print(\"This will be printed to the terminal\")"
   ]
  },
  {
   "cell_type": "markdown",
   "id": "9a31f77b-41e2-4fa5-ab90-09a4e19ad623",
   "metadata": {},
   "source": [
    "The println statement will print on a new line."
   ]
  },
  {
   "cell_type": "code",
   "execution_count": null,
   "id": "2a79be6c-7d27-48a0-b4ae-e4475eadcc5d",
   "metadata": {},
   "outputs": [],
   "source": [
    "println(\"this will pirnt on a new line in the terminal\")"
   ]
  },
  {
   "cell_type": "markdown",
   "id": "3f324e20-7735-419f-ba17-d7056290ba1c",
   "metadata": {},
   "source": [
    "\n",
    "### Variables"
   ]
  },
  {
   "cell_type": "markdown",
   "id": "2b664fa6-7bf6-4995-b471-bf04cef4609a",
   "metadata": {},
   "source": [
    "There are two kinds of variables in Kotlin var and val. The var is mutable and val is unmutable, and acts like a constant."
   ]
  },
  {
   "cell_type": "code",
   "execution_count": null,
   "id": "746df063-4a56-45a9-bccc-7b843e6e7cb0",
   "metadata": {},
   "outputs": [],
   "source": [
    "//var is mutable and can be reassigned\n",
    "var myVarable = 1\n",
    "\n",
    "//val is unmutable and cannot be reassigned\n",
    "val myOtherVariable = 2"
   ]
  },
  {
   "cell_type": "markdown",
   "id": "e83776a8-71b2-4f9c-b742-bd85c67dab88",
   "metadata": {},
   "source": [
    "\n",
    "### Strings"
   ]
  },
  {
   "cell_type": "markdown",
   "id": "c59e0fff-fe5d-4059-b289-3332806065c1",
   "metadata": {},
   "source": [
    "##### Combining strings"
   ]
  },
  {
   "cell_type": "markdown",
   "id": "bd5f786d-70d5-4604-aa2a-014d5b64de50",
   "metadata": {},
   "source": [
    "Strings can be combined by using the + symbol."
   ]
  },
  {
   "cell_type": "code",
   "execution_count": null,
   "id": "8c377897-0a8d-46d4-ba6a-d23a479eb9c7",
   "metadata": {},
   "outputs": [],
   "source": [
    "var stringOne: String = \"Joe\"\n",
    "var stringTwo: String = \"Soap\"\n",
    "var stringThree: String = stringOne + \" \" + stringTwo"
   ]
  },
  {
   "cell_type": "markdown",
   "id": "bf37df47-81fe-45a6-b28f-c16e13fc73e8",
   "metadata": {},
   "source": [
    "##### String templates"
   ]
  },
  {
   "cell_type": "markdown",
   "id": "094423bf-0472-4ae1-b18a-ff3826dcc1e6",
   "metadata": {},
   "source": [
    "String interpolation allows easy manipulation of strings by using the $ symbol. "
   ]
  },
  {
   "cell_type": "code",
   "execution_count": null,
   "id": "5da2b983-9e45-40ec-b33a-9faa0583512f",
   "metadata": {},
   "outputs": [],
   "source": [
    "var color: String = \"brown\"\n",
    "var animal: String = \"dog\"\n",
    "print(\"Butch is a $color $animal.\")"
   ]
  },
  {
   "cell_type": "code",
   "execution_count": null,
   "id": "b08d4580-0b94-4c20-a13e-572359003db3",
   "metadata": {},
   "outputs": [],
   "source": []
  }
 ],
 "metadata": {
  "kernelspec": {
   "display_name": "",
   "name": ""
  },
  "language_info": {
   "name": ""
  }
 },
 "nbformat": 4,
 "nbformat_minor": 5
}
