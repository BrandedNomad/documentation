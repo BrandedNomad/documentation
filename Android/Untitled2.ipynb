{
 "cells": [
  {
   "cell_type": "markdown",
   "id": "7c3d09dc-52ee-4a09-a43e-f1b8de8f466a",
   "metadata": {},
   "source": [
    "# Android CookBook"
   ]
  },
  {
   "cell_type": "markdown",
   "id": "56a34961-aabd-41ce-8805-810c9f2ab27f",
   "metadata": {},
   "source": [
    "### Accessing images in drawable dynamically"
   ]
  },
  {
   "cell_type": "code",
   "execution_count": null,
   "id": "a756cc80-745b-47e0-9182-7ea764360719",
   "metadata": {},
   "outputs": [],
   "source": []
  }
 ],
 "metadata": {
  "kernelspec": {
   "display_name": "",
   "name": ""
  },
  "language_info": {
   "name": ""
  }
 },
 "nbformat": 4,
 "nbformat_minor": 5
}
