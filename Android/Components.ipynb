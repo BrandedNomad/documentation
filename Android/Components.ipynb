{
 "cells": [
  {
   "cell_type": "markdown",
   "id": "4c0c3959-870a-412c-9b5d-d3385275eaf5",
   "metadata": {},
   "source": [
    "# Components"
   ]
  },
  {
   "cell_type": "markdown",
   "id": "8e8aa830-91da-499b-b628-126c314db236",
   "metadata": {},
   "source": [
    "### Layouts"
   ]
  },
  {
   "cell_type": "markdown",
   "id": "ad8be0c0-f1b3-40d4-a875-328a3123c363",
   "metadata": {},
   "source": [
    "Android Layout is used to define the user interface that holds the UI controls or widgets that will appear on the screen of an android application or activity screen. Generally, every application is a combination of View and ViewGroup. As we know, an android application contains a large number of activities and we can say each activity is one page of the application. So, each activity contains multiple user interface components and those components are the instances of the View and ViewGroup. All the elements in a layout are built using a hierarchy of View and ViewGroup objects.\n",
    "\n",
    "__View__\n",
    "\n",
    "A View is defined as the user interface which is used to create interactive UI components such as TextView, ImageView, EditText, RadioButton, etc., and is responsible for event handling and drawing. They are Generally Called Widgets.\n",
    "\n",
    "__ViewGroup__\n",
    "\n",
    "A ViewGroup act as a base class for layouts and layouts parameters that hold other Views or ViewGroups and to define the layout properties. They are Generally Called layouts.\n",
    "\n",
    "__Layouts:__\n",
    "1. Linear\n",
    "2. Relative\n",
    "3. Table \n",
    "4. Constraint\n",
    "5. Frame\n",
    "6. Web View\n",
    "7. List View\n",
    "8. Grid View"
   ]
  },
  {
   "cell_type": "markdown",
   "id": "4f4d884b-be34-4c4d-a61b-e2aafc523139",
   "metadata": {},
   "source": [
    "#### Linear Layout\n",
    "\n",
    "LinearLayout is a type of view group which is responsible for holding views in it either Horizontally or vertically. It is a type of Layout where one can arrange groups either Horizontally or Vertically."
   ]
  },
  {
   "cell_type": "code",
   "execution_count": null,
   "id": "56ee4951-56b1-4639-acc3-be4b04e87168",
   "metadata": {},
   "outputs": [],
   "source": [
    "<?xml version=\"1.0\" encoding=\"utf-8\"?>\n",
    "<LinearLayout xmlns:android=\"http://schemas.android.com/apk/res/android\"\n",
    "    xmlns:app=\"http://schemas.android.com/apk/res-auto\"\n",
    "    xmlns:tools=\"http://schemas.android.com/tools\"\n",
    "    android:layout_width=\"match_parent\"\n",
    "    android:layout_height=\"match_parent\"\n",
    "    tools:context=\".MainActivity\"\n",
    "    android:orientation=\"vertical\"/>"
   ]
  },
  {
   "cell_type": "markdown",
   "id": "72121cd0-38bb-43d0-87fe-5f45466cecf1",
   "metadata": {},
   "source": [
    "##### *Setting the orientation of components*"
   ]
  },
  {
   "cell_type": "markdown",
   "id": "2ff4da45-1740-4382-a69f-899446cac5bf",
   "metadata": {},
   "source": [
    "Two options: __vertical__ and __horizontal__"
   ]
  },
  {
   "cell_type": "code",
   "execution_count": null,
   "id": "7174a1ef-1131-4bb4-9c3b-a9bf2066e23e",
   "metadata": {},
   "outputs": [],
   "source": [
    "android:orientation=\"vertical\""
   ]
  },
  {
   "cell_type": "markdown",
   "id": "8c47e567-9d04-445c-bfa9-d7ff33832391",
   "metadata": {},
   "source": [
    "Coponents in a vertical layout will be stacked one upun another int a vertical fashion\n",
    "\n",
    "example:\n",
    "\n",
    "A\n",
    "\n",
    "B\n",
    "\n",
    "C\n",
    "\n",
    "D\n",
    "\n",
    "E"
   ]
  },
  {
   "cell_type": "code",
   "execution_count": null,
   "id": "1fb492bf-1058-403b-b8ca-816cc89d55da",
   "metadata": {},
   "outputs": [],
   "source": [
    "android:orientation=\"horizontal\""
   ]
  },
  {
   "cell_type": "markdown",
   "id": "28502e48-61f3-4e1c-a8dd-110a963bfcee",
   "metadata": {},
   "source": [
    "Components in a horizontal layout will be stacked next to eachother in a horizontal fashion\n",
    "\n",
    "Example: ABCDE"
   ]
  },
  {
   "cell_type": "markdown",
   "id": "133d198c-abc1-48e1-bc84-7521b3655a9a",
   "metadata": {},
   "source": [
    "##### *Configuring the layout options*"
   ]
  },
  {
   "cell_type": "markdown",
   "id": "1871ef9b-b6a0-4781-bdda-94727ed3eb7e",
   "metadata": {},
   "source": [
    "Three options __wrap_content__ , __match_parent__, __custom__"
   ]
  },
  {
   "cell_type": "markdown",
   "id": "397a4655-f2e1-42a2-b07e-738733f6a188",
   "metadata": {},
   "source": [
    "__wrap_content__ will set the width or heigh to the width and height of the content"
   ]
  },
  {
   "cell_type": "code",
   "execution_count": null,
   "id": "1d7f7341-fd60-4c9e-884f-a77fbc2b3f25",
   "metadata": {},
   "outputs": [],
   "source": [
    "android:layout_width=\"wrap_content\"\n",
    "android:layout_height=\"wrap_content\""
   ]
  },
  {
   "cell_type": "markdown",
   "id": "3095745b-6c74-49bc-8151-511bde2f16fb",
   "metadata": {},
   "source": [
    "__match_parent__ will set the width or height of component to the parent component or screen."
   ]
  },
  {
   "cell_type": "code",
   "execution_count": null,
   "id": "7b6a46cc-a69d-46a7-9f1c-41e052f23831",
   "metadata": {},
   "outputs": [],
   "source": [
    "android:layout_width=\"match_parent\"\n",
    "android:layout_height=\"match_parent\""
   ]
  },
  {
   "cell_type": "markdown",
   "id": "2afaa5ef-6989-4892-99a3-912839c32b33",
   "metadata": {},
   "source": [
    "__custom__ size uses pixels to set a custom height or width"
   ]
  },
  {
   "cell_type": "code",
   "execution_count": null,
   "id": "9b7bd514-d535-4242-9372-054a828a65dd",
   "metadata": {},
   "outputs": [],
   "source": [
    "android:layout_width=\"match_parent\"\n",
    "android:layout_height=\"match_parent\""
   ]
  },
  {
   "cell_type": "markdown",
   "id": "b39b6b9d-c2b5-409d-9665-7d515f43e2c0",
   "metadata": {},
   "source": [
    "#### Relative Layouts\n",
    "\n",
    "RelativeLayout is a layout in which we can arrange views/widgets according to the position of other view/widgets. It is independent of horizontal and vertical view and we can arrange it according to one’s satisfaction."
   ]
  },
  {
   "cell_type": "code",
   "execution_count": null,
   "id": "f8c7af87-8875-49de-b47d-635e23adb9aa",
   "metadata": {},
   "outputs": [],
   "source": [
    "<RelativeLayout\n",
    "    android:layout_width=\"wrap_content\"\n",
    "    android:layout_height=\"wrap_content\">\n",
    "\n",
    "    <!--ImageView, TextView, ButtonView\n",
    "        etc with specified position-->\n",
    "     \n",
    "</RelativeLayout>"
   ]
  },
  {
   "cell_type": "markdown",
   "id": "8593a6cb-23db-4094-977a-cfab52407683",
   "metadata": {},
   "source": [
    "##### *Possitioning Elements*"
   ]
  },
  {
   "cell_type": "markdown",
   "id": "18d59c8a-1297-4128-97bc-d42e118a0a61",
   "metadata": {},
   "source": [
    "In the relative layout, elements are positioned relative to each other and so each element will specifify it's own possition relative to the other elements using those elements id's. This is accomplished  by using the __android:layout__ property. \n",
    "\n",
    "layout properties:\n",
    "* layout_toRightOf, \n",
    "* layout_toLeftOf, \n",
    "* layout_below, \n",
    "* layout_alignParentTop, \n",
    "* layout_top, \n",
    "* layout_alignParentLeft, \n",
    "* layout_alignParentRight \n"
   ]
  },
  {
   "cell_type": "code",
   "execution_count": null,
   "id": "89539dd7-0257-4382-afb2-068413565443",
   "metadata": {},
   "outputs": [],
   "source": [
    "<?xml version=\"1.0\" encoding=\"utf-8\"?>\n",
    "<RelativeLayout\n",
    "    xmlns:android=\"http://schemas.android.com/apk/res/android\"\n",
    "    android:layout_width=\"match_parent\"\n",
    "    android:layout_height=\"match_parent\"\n",
    "    android:background=\"@color/white\">\n",
    " \n",
    "    <ImageView\n",
    "        android:id=\"@+id/image_gfg\"\n",
    "        android:layout_width=\"100dp\"\n",
    "        android:layout_height=\"110dp\"\n",
    "        android:layout_marginLeft=\"10dp\"\n",
    "        android:layout_marginTop=\"10dp\"\n",
    "        android:layout_marginRight=\"10dp\"\n",
    "        android:scaleType=\"centerCrop\"\n",
    "        android:src=\"@drawable/gfg\" />\n",
    " \n",
    "    <TextView\n",
    "        android:id=\"@+id/gfg_text\"\n",
    "        android:layout_width=\"wrap_content\"\n",
    "        android:layout_height=\"wrap_content\"\n",
    "        android:layout_marginLeft=\"10dp\"\n",
    "        android:layout_toRightOf=\"@id/image_gfg\"\n",
    "        android:paddingTop=\"5dp\"\n",
    "        android:text=\"Geeks For Geeks\"\n",
    "        android:textColor=\"#004d00\"\n",
    "        android:textSize=\"32sp\"\n",
    "        android:textStyle=\"bold\" />\n",
    " \n",
    "    <TextView\n",
    "        android:id=\"@+id/gfg_location\"\n",
    "        android:layout_width=\"wrap_content\"\n",
    "        android:layout_height=\"wrap_content\"\n",
    "        android:layout_below=\"@id/gfg_text\"\n",
    "        android:layout_marginLeft=\"10dp\"\n",
    "        android:layout_toRightOf=\"@id/image_gfg\"\n",
    "        android:text=\"Noida,UttarPradesh\"\n",
    "        android:textColor=\"#00b300\"\n",
    "        android:textSize=\"25sp\" />\n",
    " \n",
    "    <TextView\n",
    "        android:layout_width=\"wrap_content\"\n",
    "        android:layout_height=\"wrap_content\"\n",
    "        android:layout_below=\"@id/gfg_location\"\n",
    "        android:layout_marginLeft=\"10dp\"\n",
    "        android:layout_toRightOf=\"@id/image_gfg\"\n",
    "        android:text=\"Portal for CS Student\"\n",
    "        android:textColor=\"#009900\"\n",
    "        android:textSize=\"24sp\" />\n",
    "     \n",
    "</RelativeLayout>"
   ]
  },
  {
   "cell_type": "markdown",
   "id": "6c87357f-cb1b-4884-8a16-1c1aabbeef8c",
   "metadata": {},
   "source": [
    "#### Table Layouts\n",
    "\n",
    "Android TableLayout is a ViewGroup subclass which is used to display the child View elements in rows and columns. It will arrange all the children elements into rows and columns and does not display any border lines in between rows, columns or cells.\n",
    "\n",
    "The working of TableLayout is almost similar to HTML table and it contains as many columns as row with the most cells."
   ]
  },
  {
   "cell_type": "markdown",
   "id": "1a32735f-5630-4af4-b9b0-111f27ecdc22",
   "metadata": {},
   "source": [
    "##### *Declaring a Table Layout*"
   ]
  },
  {
   "cell_type": "markdown",
   "id": "65379a09-4606-4080-9a38-03a1c6433755",
   "metadata": {},
   "source": [
    "The TableLayout can be defined using <TableLayout> like below:"
   ]
  },
  {
   "cell_type": "code",
   "execution_count": null,
   "id": "6077cd08-cd2f-4773-b121-33d695df691c",
   "metadata": {},
   "outputs": [],
   "source": [
    "<TableLayout xmlns:android=\"http://schemas.android.com/apk/res/android\"\n",
    "    android:layout_width=\"match_parent\"\n",
    "    android:layout_height=\"match_parent\"\n",
    "    android:layout_marginTop=\"10dp\"\n",
    "    android:paddingLeft=\"5dp\"\n",
    "    android:paddingRight=\"5dp\">\n",
    "   \n",
    "    // Add Table rows here\n",
    "</TableLayout>"
   ]
  },
  {
   "cell_type": "markdown",
   "id": "9fd67423-7eb9-4777-914b-8fdc4e9e98cf",
   "metadata": {},
   "source": [
    "and TableRow can be defined using"
   ]
  },
  {
   "cell_type": "code",
   "execution_count": null,
   "id": "06c3877c-7dff-4622-9c54-fd275d5718e3",
   "metadata": {},
   "outputs": [],
   "source": [
    "<TableRow android:background=\"#51B435\" android:padding=\"10dp\">\n",
    "        <TextView\n",
    "            android:layout_width=\"wrap_content\"\n",
    "            android:layout_height=\"wrap_content\"\n",
    "            android:layout_weight=\"1\"\n",
    "            android:text=\"Rank\" />\n",
    "</TableRow>"
   ]
  },
  {
   "cell_type": "markdown",
   "id": "e28ba39c-cfe5-4d5f-8f00-77bbb8fd5b75",
   "metadata": {},
   "source": [
    "An __example__ table"
   ]
  },
  {
   "cell_type": "code",
   "execution_count": null,
   "id": "8d832de7-1c27-4678-a1f1-45240f82ebcc",
   "metadata": {},
   "outputs": [],
   "source": [
    "<?xml version=\"1.0\" encoding=\"utf-8\"?>\n",
    "<TableLayout xmlns:android=\"http://schemas.android.com/apk/res/android\"\n",
    "    android:layout_width=\"match_parent\"\n",
    "    android:layout_height=\"match_parent\"\n",
    "    android:layout_marginTop=\"10dp\"\n",
    "    android:paddingLeft=\"5dp\"\n",
    "    android:paddingRight=\"5dp\">\n",
    "  \n",
    "    <TextView\n",
    "        android:id=\"@+id/txt\"\n",
    "        android:layout_width=\"wrap_content\"\n",
    "        android:layout_height=\"wrap_content\"\n",
    "        android:text=\"ICC Ranking of Players:\"\n",
    "        android:textSize = \"20dp\"\n",
    "        android:textStyle=\"bold\">\n",
    "  \n",
    "    </TextView>\n",
    "  \n",
    "  \n",
    "    <TableRow android:background=\"#51B435\" android:padding=\"10dp\">\n",
    "        <TextView\n",
    "            android:layout_width=\"wrap_content\"\n",
    "            android:layout_height=\"wrap_content\"\n",
    "            android:layout_weight=\"1\"\n",
    "            android:text=\"Rank\" />\n",
    "        <TextView\n",
    "            android:layout_width=\"wrap_content\"\n",
    "            android:layout_height=\"wrap_content\"\n",
    "            android:layout_weight=\"1\"\n",
    "            android:text=\"Player\" />\n",
    "        <TextView\n",
    "            android:layout_width=\"wrap_content\"\n",
    "            android:layout_height=\"wrap_content\"\n",
    "            android:layout_weight=\"1\"\n",
    "            android:text=\"Team\" />\n",
    "        <TextView\n",
    "            android:layout_width=\"wrap_content\"\n",
    "            android:layout_height=\"wrap_content\"\n",
    "            android:layout_weight=\"1\"\n",
    "            android:text=\"Points\" />\n",
    "    </TableRow>\n",
    "    <TableRow android:background=\"#F0F7F7\" android:padding=\"5dp\">\n",
    "        <TextView\n",
    "            android:layout_width=\"wrap_content\"\n",
    "            android:layout_height=\"wrap_content\"\n",
    "            android:layout_weight=\"1\"\n",
    "            android:text=\"1\" />\n",
    "        <TextView\n",
    "            android:layout_width=\"wrap_content\"\n",
    "            android:layout_height=\"wrap_content\"\n",
    "            android:layout_weight=\"1\"\n",
    "            android:text=\"Virat Kohli\" />\n",
    "        <TextView\n",
    "            android:layout_width=\"wrap_content\"\n",
    "            android:layout_height=\"wrap_content\"\n",
    "            android:layout_weight=\"1\"\n",
    "            android:text=\"IND\" />\n",
    "        <TextView\n",
    "            android:layout_width=\"wrap_content\"\n",
    "            android:layout_height=\"wrap_content\"\n",
    "            android:layout_weight=\"1\"\n",
    "            android:text=\"895\" />\n",
    "    </TableRow>\n",
    "    <TableRow android:background=\"#F0F7F7\" android:padding=\"5dp\">\n",
    "        <TextView\n",
    "            android:layout_width=\"wrap_content\"\n",
    "            android:layout_height=\"wrap_content\"\n",
    "            android:layout_weight=\"1\"\n",
    "            android:text=\"2\" />\n",
    "        <TextView\n",
    "            android:layout_width=\"wrap_content\"\n",
    "            android:layout_height=\"wrap_content\"\n",
    "            android:layout_weight=\"1\"\n",
    "            android:text=\"Rohit Sharma\" />\n",
    "        <TextView\n",
    "            android:layout_width=\"wrap_content\"\n",
    "            android:layout_height=\"wrap_content\"\n",
    "            android:layout_weight=\"1\"\n",
    "            android:text=\"IND\" />\n",
    "        <TextView\n",
    "            android:layout_width=\"wrap_content\"\n",
    "            android:layout_height=\"wrap_content\"\n",
    "            android:layout_weight=\"1\"\n",
    "            android:text=\"863\" />\n",
    "  \n",
    "    </TableRow>\n",
    "    <TableRow android:background=\"#F0F7F7\" android:padding=\"5dp\">\n",
    "        <TextView\n",
    "            android:layout_width=\"wrap_content\"\n",
    "            android:layout_height=\"wrap_content\"\n",
    "            android:layout_weight=\"1\"\n",
    "            android:text=\"3\" />\n",
    "        <TextView\n",
    "            android:layout_width=\"wrap_content\"\n",
    "            android:layout_height=\"wrap_content\"\n",
    "            android:layout_weight=\"1\"\n",
    "            android:text=\"Faf du Plessis\" />\n",
    "        <TextView\n",
    "            android:layout_width=\"wrap_content\"\n",
    "            android:layout_height=\"wrap_content\"\n",
    "            android:layout_weight=\"1\"\n",
    "            android:text=\"PAK\" />\n",
    "        <TextView\n",
    "            android:layout_width=\"wrap_content\"\n",
    "            android:layout_height=\"wrap_content\"\n",
    "            android:layout_weight=\"1\"\n",
    "            android:text=\"834\" />\n",
    "  \n",
    "    </TableRow>\n",
    "  \n",
    "    <TableRow android:background=\"#F0F7F7\" android:padding=\"5dp\">\n",
    "        <TextView\n",
    "            android:layout_width=\"wrap_content\"\n",
    "            android:layout_height=\"wrap_content\"\n",
    "            android:layout_weight=\"1\"\n",
    "            android:text=\"4\" />\n",
    "        <TextView\n",
    "            android:layout_width=\"wrap_content\"\n",
    "            android:layout_height=\"wrap_content\"\n",
    "            android:layout_weight=\"1\"\n",
    "            android:text=\"Steven Smith\" />\n",
    "        <TextView\n",
    "            android:layout_width=\"wrap_content\"\n",
    "            android:layout_height=\"wrap_content\"\n",
    "            android:layout_weight=\"1\"\n",
    "            android:text=\"AUS\" />\n",
    "        <TextView\n",
    "            android:layout_width=\"wrap_content\"\n",
    "            android:layout_height=\"wrap_content\"\n",
    "            android:layout_weight=\"1\"\n",
    "            android:text=\"820\" />\n",
    "  \n",
    "    </TableRow>\n",
    "  \n",
    "    <TableRow android:background=\"#F0F7F7\" android:padding=\"5dp\">\n",
    "        <TextView\n",
    "            android:layout_width=\"wrap_content\"\n",
    "            android:layout_height=\"wrap_content\"\n",
    "            android:layout_weight=\"1\"\n",
    "            android:text=\"5\" />\n",
    "        <TextView\n",
    "            android:layout_width=\"wrap_content\"\n",
    "            android:layout_height=\"wrap_content\"\n",
    "            android:layout_weight=\"1\"\n",
    "            android:text=\"Ross Taylor\" />\n",
    "        <TextView\n",
    "            android:layout_width=\"wrap_content\"\n",
    "            android:layout_height=\"wrap_content\"\n",
    "            android:layout_weight=\"1\"\n",
    "            android:text=\"NZ\" />\n",
    "        <TextView\n",
    "            android:layout_width=\"wrap_content\"\n",
    "            android:layout_height=\"wrap_content\"\n",
    "            android:layout_weight=\"1\"\n",
    "            android:text=\"817\" />\n",
    "  \n",
    "    </TableRow>\n",
    "  \n",
    "</TableLayout>"
   ]
  },
  {
   "cell_type": "markdown",
   "id": "433f524c-b83e-42c4-a0e5-56b2eda18ce4",
   "metadata": {},
   "source": [
    "#### Constraint Layouts"
   ]
  },
  {
   "cell_type": "markdown",
   "id": "f91030e9-8e67-4b40-a439-c9d7181d95a3",
   "metadata": {},
   "source": [
    "Constraint Layout is a layout on Android that gives you adaptable and flexible ways to create views for your app. This allows you to create large, complex, dynamic and responsive views in a flat hierarchy. "
   ]
  },
  {
   "cell_type": "code",
   "execution_count": null,
   "id": "bd3f69cc-dd04-4df8-bb60-c5e89c83b20d",
   "metadata": {},
   "outputs": [],
   "source": []
  },
  {
   "cell_type": "markdown",
   "id": "65440079-af28-495a-81ef-1d3f495a0fcf",
   "metadata": {},
   "source": [
    "|Property|Description|\n",
    "|:--- |---:|\n",
    "|android:id |This is used to give a unique id to the layout.|\n",
    "|app:layout_constraintBottom_toBottomOf|This is used to constrain the view with respect to the bottom position.|\n",
    "|app:layout_constraintLeft_toLeftOf|This attribute is used to constrain the view with respect to the left position.|\n",
    "|app:layout_constraintRight_toRightOf|This attribute is used to constrain the view with respect to the right position.| \n",
    "|app:layout_constraintTop_toTopOf|This attribute is used to constrain the view with respect to the top position.|"
   ]
  },
  {
   "cell_type": "markdown",
   "id": "9db4312c-a33c-4a9a-92ab-5f7dd73effc3",
   "metadata": {},
   "source": [
    "##### *Creating a constraint Layout*"
   ]
  },
  {
   "cell_type": "code",
   "execution_count": null,
   "id": "21463479-f3eb-46e9-9056-83e346539279",
   "metadata": {},
   "outputs": [],
   "source": [
    "<?xml version=\"1.0\" encoding=\"utf-8\"?>\n",
    "<androidx.constraintlayout.widget.ConstraintLayout xmlns:android=\"http://schemas.android.com/apk/res/android\"\n",
    "    xmlns:app=\"http://schemas.android.com/apk/res-auto\"\n",
    "    xmlns:tools=\"http://schemas.android.com/tools\"\n",
    "    android:id=\"@+id/boss\"\n",
    "    android:layout_width=\"match_parent\"\n",
    "    android:layout_height=\"match_parent\"\n",
    "    tools:context=\".MainActivity\">\n",
    "\n",
    "    <Button\n",
    "        android:id=\"@+id/button\"\n",
    "        android:layout_width=\"wrap_content\"\n",
    "        android:layout_height=\"wrap_content\"\n",
    "        android:layout_marginStart=\"148dp\"\n",
    "        android:layout_marginTop=\"48dp\"\n",
    "        android:text=\"Button\"\n",
    "        app:layout_constraintStart_toStartOf=\"parent\"\n",
    "        app:layout_constraintTop_toTopOf=\"parent\" />\n",
    "\n",
    "    <Button\n",
    "        android:id=\"@+id/button2\"\n",
    "        android:layout_width=\"wrap_content\"\n",
    "        android:layout_height=\"wrap_content\"\n",
    "        android:layout_marginStart=\"156dp\"\n",
    "        android:layout_marginTop=\"148dp\"\n",
    "        android:text=\"Button\"\n",
    "        app:layout_constraintStart_toStartOf=\"parent\"\n",
    "        app:layout_constraintTop_toBottomOf=\"@+id/button\" />\n",
    "        \n",
    "</androidx.constraintlayout.widget.ConstraintLayout>"
   ]
  },
  {
   "cell_type": "markdown",
   "id": "fdebbf2c-25e0-48b8-8f49-914e15d60f6c",
   "metadata": {},
   "source": [
    "### TextViews"
   ]
  },
  {
   "cell_type": "markdown",
   "id": "4e2df8b3-0d0b-44e7-b360-8c0c3bb1853d",
   "metadata": {},
   "source": [
    "##### *TextView Attributes*\n",
    "\n",
    "|Atribute|Description|\n",
    "|:---|---:|\n",
    "|android:text|The text to display|\n",
    "|android:textSize|The size of the text|\n",
    "|android:textColor|Sets the color of the text|\n",
    "|android:textAlignment|Aligns the text within the bounding box|\n",
    "|android:textAllCaps|Present the text in ALL CAPS. |\n",
    "|android:textFontWeight|Weight for the font used in the TextView. |\n",
    "|android:textStyle|Style (normal, bold, italic, bold|italic) for the text. |\n",
    "|android:fontFamily|Font family (named by string or as a font resource reference) for the text. |\n",
    "|android:background|Sets background color|\n",
    "|android:capitalize|If set, specifies that this TextView has a textual input method and should automatically capitalize what the user types. |\n",
    "|android:typeface|Typeface (normal, sans, serif, monospace) for the text. |\n",
    "|android:letterSpacing|Text letter-spacing. |\n",
    "|android:lineHeight|Explicit height between lines of text. "
   ]
  },
  {
   "cell_type": "markdown",
   "id": "f4521ea6-f547-47d4-a83b-2185b0bf4be6",
   "metadata": {},
   "source": [
    "##### *Creating a textView*"
   ]
  },
  {
   "cell_type": "code",
   "execution_count": null,
   "id": "7c5a9022-9b1a-434f-a23d-d76cac9f604d",
   "metadata": {},
   "outputs": [],
   "source": [
    " <TextView\n",
    "        android:id=\"@+id/textView1\"\n",
    "        android:layout_width=\"wrap_content\"\n",
    "        android:layout_height=\"wrap_content\"\n",
    "        android:text=\"Hello World!\"/>"
   ]
  },
  {
   "cell_type": "markdown",
   "id": "e5855288-5d12-4462-b707-8f7430e2ad3f",
   "metadata": {},
   "source": [
    "### Buttons"
   ]
  },
  {
   "cell_type": "markdown",
   "id": "a084cf1f-312d-4f6f-b502-6791585c2ba4",
   "metadata": {},
   "source": [
    "#### Push Button"
   ]
  },
  {
   "cell_type": "markdown",
   "id": "0e39c8af-8fba-4494-a557-1332eabb9b03",
   "metadata": {},
   "source": [
    "#### Check Box"
   ]
  },
  {
   "cell_type": "code",
   "execution_count": null,
   "id": "a9b47760-9cce-4b52-98d2-ed3f5f0d7b7c",
   "metadata": {},
   "outputs": [],
   "source": [
    "<CheckBox\n",
    "        android:id=\"@+id/checkBox\"\n",
    "        android:layout_width=\"match_parent\"\n",
    "        android:layout_height=\"wrap_content\"\n",
    "        android:text=\"CheckBox\" />"
   ]
  },
  {
   "cell_type": "markdown",
   "id": "8c754271-c6f5-4279-a6b6-0c2593430c0d",
   "metadata": {},
   "source": [
    "##### *Getting the CheckBox status*\n",
    "\n",
    "The status of the checkbox can be accesed using the __isChecked__ property "
   ]
  },
  {
   "cell_type": "code",
   "execution_count": null,
   "id": "a5e1bedc-1543-4415-8498-20bf6b701f29",
   "metadata": {},
   "outputs": [],
   "source": [
    "package com.example.edittexts\n",
    "\n",
    "import androidx.appcompat.app.AppCompatActivity\n",
    "import android.os.Bundle\n",
    "import android.view.View\n",
    "import android.widget.CheckBox\n",
    "\n",
    "class MainActivity : AppCompatActivity() {\n",
    "\n",
    "    lateinit var checkBox: CheckBox\n",
    "    lateinit var cbResult: String\n",
    "\n",
    "\n",
    "    override fun onCreate(savedInstanceState: Bundle?) {\n",
    "        super.onCreate(savedInstanceState)\n",
    "        setContentView(R.layout.activity_main)\n",
    "\n",
    "        checkBox = findViewById(R.id.checkBox)\n",
    "\n",
    "\n",
    "        checkBox.setOnClickListener{\n",
    "            if(checkBox.isChecked){ //returns true if it is checked\n",
    "                cbResult = \"Yes\"\n",
    "            }else {\n",
    "                cbResult = \"No\"\n",
    "            }\n",
    "\n",
    "        }\n",
    "    }\n",
    "}"
   ]
  },
  {
   "cell_type": "markdown",
   "id": "67e12637-6432-4ab7-b03c-35fe3f215dd5",
   "metadata": {},
   "source": [
    "#### Radio Button\n",
    "\n",
    "Radio buttons are created wthin a group, the user can only choose one option from the group. If no option is selected, a default option is selected"
   ]
  },
  {
   "cell_type": "markdown",
   "id": "cd14f11d-74bd-4eb2-b8ae-09e09b1f8607",
   "metadata": {},
   "source": [
    "##### *Creating a RadioButton Group*"
   ]
  },
  {
   "cell_type": "code",
   "execution_count": null,
   "id": "f641882c-82fa-4c6b-a5c6-aebbd558eed4",
   "metadata": {},
   "outputs": [],
   "source": [
    "<RadioGroup\n",
    "        android:layout_width=\"match_parent\"\n",
    "        android:layout_height=\"match_parent\" />"
   ]
  },
  {
   "cell_type": "markdown",
   "id": "7ae5d148-8a56-413c-8d4b-2fd0c52ae098",
   "metadata": {},
   "source": [
    "##### *Adding Radio Buttons to the Group*"
   ]
  },
  {
   "cell_type": "code",
   "execution_count": null,
   "id": "f3f5a453-429f-4e62-9be0-fcc71c7a6045",
   "metadata": {},
   "outputs": [],
   "source": [
    "<RadioGroup\n",
    "        android:layout_width=\"match_parent\"\n",
    "        android:layout_height=\"match_parent\" >\n",
    "\n",
    "        <RadioButton\n",
    "            android:id=\"@+id/radioButton\"\n",
    "            android:layout_width=\"match_parent\"\n",
    "            android:layout_height=\"wrap_content\"\n",
    "            android:text=\"RadioButton\"\n",
    "            android:checked=\"true\"/>\n",
    "\n",
    "        <RadioButton\n",
    "            android:id=\"@+id/radioButton2\"\n",
    "            android:layout_width=\"match_parent\"\n",
    "            android:layout_height=\"wrap_content\"\n",
    "            android:text=\"RadioButton\" />\n",
    "    </RadioGroup>"
   ]
  },
  {
   "cell_type": "markdown",
   "id": "8d7b732c-44ee-42dd-b8c2-49ce44689946",
   "metadata": {},
   "source": [
    "##### *Getting a Radio Button's Status*\n",
    "\n",
    "A radio buttons status can be retrieved by using the __isChecked__ property. However unlike with the check boxes, the onclick listener is set on the Radio Group, and not on the individual radio buttons. "
   ]
  },
  {
   "cell_type": "code",
   "execution_count": null,
   "id": "7ef154dc-cdba-4b92-817e-f81c61962063",
   "metadata": {},
   "outputs": [],
   "source": [
    "class MainActivity : AppCompatActivity() {\n",
    "\n",
    "\n",
    "    lateinit var rGroup: RadioGroup\n",
    "    lateinit var rButtonOne: RadioButton\n",
    "    lateinit var rButtonTwo: RadioButton\n",
    "\n",
    "    override fun onCreate(savedInstanceState: Bundle?) {\n",
    "        super.onCreate(savedInstanceState)\n",
    "        setContentView(R.layout.activity_main)\n",
    "\n",
    "        rGroup.setOnClickListener{\n",
    "            if(rButtonOne.isChecked){\n",
    "                //do something\n",
    "            } else if (rButtonTwo.isChecked){\n",
    "                //do something\n",
    "            }\n",
    "        }\n",
    "\n",
    "\n",
    "    }\n",
    "}"
   ]
  },
  {
   "cell_type": "markdown",
   "id": "0ae5b68c-76f9-4790-8b2c-a3226f5bf198",
   "metadata": {},
   "source": [
    "#### ToggleButton"
   ]
  },
  {
   "cell_type": "markdown",
   "id": "fe926413-80fb-4bb6-b900-149469fc0c88",
   "metadata": {},
   "source": [
    "##### *Creating a ToggleButton*"
   ]
  },
  {
   "cell_type": "code",
   "execution_count": null,
   "id": "7ccf5b28-bc8a-40a0-843e-1e0350a38956",
   "metadata": {},
   "outputs": [],
   "source": [
    "<ToggleButton\n",
    "        android:id=\"@+id/toggleButton\"\n",
    "        android:layout_width=\"match_parent\"\n",
    "        android:layout_height=\"wrap_content\"\n",
    "        android:text=\"ToggleButton\" />"
   ]
  },
  {
   "cell_type": "markdown",
   "id": "6c6254f9-9567-459b-a31a-14922d784dc7",
   "metadata": {},
   "source": [
    "##### *Getting the status of a toggle button*\n",
    "\n",
    "The status of a toggle button can be retrieved by a __setOnCheckedChangeListener__ on the button"
   ]
  },
  {
   "cell_type": "code",
   "execution_count": null,
   "id": "3ef19d3a-7be0-4759-a943-9e7ac808ac45",
   "metadata": {},
   "outputs": [],
   "source": [
    "class MainActivity : AppCompatActivity() {\n",
    "\n",
    "    lateinit var toggleButton: ToggleButton\n",
    "\n",
    "\n",
    "    override fun onCreate(savedInstanceState: Bundle?) {\n",
    "        super.onCreate(savedInstanceState)\n",
    "        setContentView(R.layout.activity_main)\n",
    "\n",
    "        toggleButton.findViewById<ToggleButton>(R.id.toggleB)\n",
    "\n",
    "        toggleButton.setOnCheckedChangeListener {compoundButton, isChecked ->\n",
    "\n",
    "            if(isChecked){\n",
    "                //Do something\n",
    "            }\n",
    "            else {\n",
    "                //Do something\n",
    "            }\n",
    "        }\n",
    "\n",
    "    }\n",
    "}"
   ]
  },
  {
   "cell_type": "markdown",
   "id": "5d9a1d92-51ac-4e8e-b9f6-3dfcfacdd9fb",
   "metadata": {},
   "source": [
    "### AdapterViews\n",
    "\n",
    "AdapterViews are a class of views that makes use of Adapters to display data"
   ]
  },
  {
   "cell_type": "markdown",
   "id": "700c8984-a9f3-4ee1-bd4e-5795bbd3d78d",
   "metadata": {},
   "source": [
    "##### *What are Adapters?*\n",
    "\n",
    "Adapters in Android are basically a bridge between the UI components and the data source that fill data into the UI Component\n",
    "\n",
    "An adapter view, as its name suggests, is a View object. This means, you can add it to your activities the same way you add any other user interface widget. However, it is incapable of displaying any data on its own. Its contents are always determined by another object, an adapter.\n",
    "\n",
    "An adapter is an object of a class that implements the Adapter interface. It acts as a link between a data set and an adapter view, an object of a class that extends the abstract AdapterView class. The data set can be anything that presents data in a structured manner. Arrays, List objects, and Cursor objects are commonly used data sets.\n",
    "\n",
    "An adapter is responsible for retrieving data from the data set and for generating View objects based on that data. The generated View objects are then used to populate any adapter view that is bound to the adapter.\n",
    "\n",
    "You can create your own adapter classes from scratch, but most developers choose to use or extend adapter classes provided by the Android SDK, such as ArrayAdapter and SimpleCursorAdapter. In this tutorial, we focus on the ArrayAdapter class.\n",
    "\n",
    "Basicaly:\n",
    "* Converts the interface of a class into anohter interface the client expects\n",
    "* Converts data from one format into another"
   ]
  },
  {
   "cell_type": "markdown",
   "id": "5fb9121b-7907-45aa-a21c-1ff8d92c41eb",
   "metadata": {},
   "source": [
    "##### *How do Adapter Views Work?*\n",
    "\n",
    "Adapter views can display large data sets very efficiently. For instance, the ListView and GridView widgets can display millions of items without any noticeable lag while keeping memory and CPU usage very low. How do they do that? Different adapter views follow different strategies. However, here's what most of them usually do.\n",
    "\n",
    "* They render only those View objects that are either already on-screen or that are about to move on-screen. This way, the memory consumed by an adapter view can be constant and independent of the size of the data set.\n",
    "* They also allow developers to minimize expensive layout inflate operations and recycle existing View objects that have move off-screen. This keeps CPU consumption low.\n"
   ]
  },
  {
   "cell_type": "markdown",
   "id": "4abbe976-feb2-488c-8169-7bf37f03795f",
   "metadata": {},
   "source": []
  },
  {
   "cell_type": "markdown",
   "id": "3ded11c5-2ae0-4951-95bb-137624cff6b4",
   "metadata": {},
   "source": [
    "#### Spinners (AdapterViews)"
   ]
  },
  {
   "cell_type": "markdown",
   "id": "600ff677-84aa-4703-9858-422885af675e",
   "metadata": {},
   "source": [
    "Spinners provide a quick way to select value from a set"
   ]
  },
  {
   "cell_type": "markdown",
   "id": "3fab0767-f267-459c-86fe-8f13bfa6b579",
   "metadata": {},
   "source": [
    "##### *Creating a Spinner*"
   ]
  },
  {
   "cell_type": "markdown",
   "id": "30310eb3-7e5a-4921-bb88-680e11ca519b",
   "metadata": {},
   "source": [
    "First you'll need to create an __array__ in the __strings.xml__ file that resides in the __res > values__ folder."
   ]
  },
  {
   "cell_type": "code",
   "execution_count": null,
   "id": "7d236f19-8a21-490b-b2a4-1e5cf2bf0b1e",
   "metadata": {},
   "outputs": [],
   "source": [
    "<resources>\n",
    "    <string name=\"app_name\">spinner</string>\n",
    "    <string-array name=\"countries\">\n",
    "        <item>France</item>\n",
    "        <item>Us</item>\n",
    "        <item>Japan</item>\n",
    "        <item>Thailand</item>\n",
    "    </string-array>\n",
    "</resources>"
   ]
  },
  {
   "cell_type": "markdown",
   "id": "aa33bd9e-a4a7-4880-a975-c25c89712a9c",
   "metadata": {},
   "source": [
    "Next, create the Spinner "
   ]
  },
  {
   "cell_type": "code",
   "execution_count": null,
   "id": "387c7748-071d-4838-b7e9-cec5babe650a",
   "metadata": {},
   "outputs": [],
   "source": [
    "<Spinner\n",
    "        android:id=\"@+id/mySpinner\"\n",
    "        android:layout_width=\"match_parent\"\n",
    "        android:layout_height=\"wrap_content\"\n",
    "        app:layout_constraintStart_toStartOf=\"parent\"\n",
    "        app:layout_constraintTop_toTopOf=\"parent\"/>"
   ]
  },
  {
   "cell_type": "markdown",
   "id": "6822c8a8-be88-4896-86fc-513b425e3e7b",
   "metadata": {},
   "source": [
    "The spinner is a type of __AdapterView__ requires an __adapter__ to function. The spinner uses an __ArrayAdapter__ "
   ]
  },
  {
   "cell_type": "code",
   "execution_count": null,
   "id": "b2f2a26a-dd54-4028-b81a-3e7b04e7b99d",
   "metadata": {},
   "outputs": [],
   "source": [
    "package com.example.spinner\n",
    "\n",
    "import androidx.appcompat.app.AppCompatActivity\n",
    "import android.os.Bundle\n",
    "import android.view.View\n",
    "\n",
    "import android.widget.*\n",
    "import com.example.spinner.R\n",
    "\n",
    "//NOTE: the class inherits the AdapterView listener\n",
    "class MainActivity : AppCompatActivity(), AdapterView.OnItemSelectedListener {\n",
    "\n",
    "   //NOTE: for some reason if you declare the spinner varialbe here\n",
    "   //using lateinit you will get a variable not iniitated error\n",
    "   //not quite sure why this is, something to do with inheriting from AdapterView\n",
    "\n",
    "\n",
    "    override fun onCreate(savedInstanceState: Bundle?) {\n",
    "    \n",
    "        super.onCreate(savedInstanceState)\n",
    "        setContentView(R.layout.activity_main)\n",
    "\n",
    "\n",
    "        //initialize spinner\n",
    "        var spinner: Spinner = findViewById<Spinner>(R.id.mySpinner)\n",
    "\n",
    "        //instance of AdapterView.OnItemSelectedListener\n",
    "        spinner.onItemSelectedListener = this\n",
    "\n",
    "\n",
    "        // Create arrayAdapter\n",
    "        val arrayAdapter = ArrayAdapter.createFromResource(\n",
    "            this, //context\n",
    "            R.array.countries, //the array in strings.xml file\n",
    "            android.R.layout.simple_spinner_item //the item to display \n",
    "        )\n",
    "\n",
    "        //Set the adapter style\n",
    "        arrayAdapter.setDropDownViewResource(android.R.layout.simple_spinner_dropdown_item)\n",
    "\n",
    "        // connect the spinner view with the array adapter\n",
    "        spinner.adapter = arrayAdapter\n",
    "\n",
    "\n",
    "    }\n",
    "\n",
    "    // The following two methods are from the inherited adapterView listener class\n",
    "    // if these methods are not implemented you will get an error at runtime\n",
    "    \n",
    "    override fun onItemSelected(p0: AdapterView<*>?, p1: View?, p2: Int, p3: Long) {\n",
    "        print(\"this\")\n",
    "    }\n",
    "\n",
    "    override fun onNothingSelected(p0: AdapterView<*>?) {\n",
    "        print(\"this\")\n",
    "    }\n",
    "}"
   ]
  },
  {
   "cell_type": "markdown",
   "id": "b848707d-bac9-4d90-b2fa-403f8c9729f5",
   "metadata": {},
   "source": [
    "#### ListView (AdapterViews)\n",
    "\n",
    "Android __ListView__ is a view which groups several items and display them in a vertical scrollable list."
   ]
  },
  {
   "cell_type": "markdown",
   "id": "d0a73be1-2c18-4208-80e7-2e3f40fb5207",
   "metadata": {},
   "source": [
    "##### *Create the ListView*"
   ]
  },
  {
   "cell_type": "code",
   "execution_count": null,
   "id": "5288a35a-0669-417b-9370-3c317e581b4d",
   "metadata": {},
   "outputs": [],
   "source": [
    "<ListView\n",
    "        android:id=\"@+id/myListView\"\n",
    "        android:layout_width=\"match_parent\"\n",
    "        android:layout_height=\"match_parent\"\n",
    "        app:layout_constraintBottom_toBottomOf=\"parent\"\n",
    "        app:layout_constraintEnd_toEndOf=\"parent\"\n",
    "        app:layout_constraintStart_toStartOf=\"parent\"\n",
    "        app:layout_constraintTop_toTopOf=\"parent\" />"
   ]
  },
  {
   "cell_type": "markdown",
   "id": "53c1962b-7326-453f-b5e2-86e67f3888bc",
   "metadata": {},
   "source": [
    "##### *Create the Array*"
   ]
  },
  {
   "cell_type": "code",
   "execution_count": null,
   "id": "9b7cdfb6-0329-44e3-9468-c81919468b91",
   "metadata": {},
   "outputs": [],
   "source": [
    "<resources>\n",
    "    <string name=\"app_name\">listview</string>\n",
    "    <string-array name=\"countries\">\n",
    "        <item>England</item>\n",
    "        <item>Belgium</item>\n",
    "        <item>France</item>\n",
    "        <item>Sweden</item>\n",
    "        <item>Switzerland</item>\n",
    "        <item>Russia</item>\n",
    "        <item>Georgia</item>\n",
    "        <item>Malta</item>\n",
    "        <item>Estonia</item>\n",
    "        <item>Finland</item>\n",
    "        <item>Denmark</item>\n",
    "        <item>Scandinavia</item>\n",
    "        <item>Germany</item>\n",
    "        <item>China</item>\n",
    "        <item>Nigeria</item>\n",
    "        <item>Ethiopia</item>\n",
    "    </string-array>\n",
    "</resources>"
   ]
  },
  {
   "cell_type": "markdown",
   "id": "4ed45136-fee2-4e15-b63d-d40891d029dc",
   "metadata": {},
   "source": [
    "##### *Create the Adapter*"
   ]
  },
  {
   "cell_type": "code",
   "execution_count": null,
   "id": "901400e4-2de6-4b03-b780-6af0a0f563ac",
   "metadata": {},
   "outputs": [],
   "source": [
    "class MainActivity : AppCompatActivity() {\n",
    "    override fun onCreate(savedInstanceState: Bundle?) {\n",
    "        super.onCreate(savedInstanceState)\n",
    "        setContentView(R.layout.activity_main)\n",
    "\n",
    "        //Get the listView\n",
    "        var listView: ListView = findViewById(R.id.myListView)\n",
    "\n",
    "        //Get the Array datasource\n",
    "        var countryList = resources.getStringArray(R.array.countries)\n",
    "\n",
    "        //Create Adapter that will connect the listview and datasource\n",
    "        var arrayAdapter = ArrayAdapter(\n",
    "            this, //Context\n",
    "            android.R.layout.simple_list_item_1, //View item\n",
    "            countryList // The DataSource\n",
    "        )\n",
    "\n",
    "        //Set adapter on listview\n",
    "        listView.adapter = arrayAdapter\n",
    "    }\n",
    "}"
   ]
  },
  {
   "cell_type": "markdown",
   "id": "15923a74-ba5a-481b-9212-b64cd43a8442",
   "metadata": {},
   "source": [
    "##### *Set Click Listeners*"
   ]
  },
  {
   "cell_type": "code",
   "execution_count": null,
   "id": "4737381c-93c4-4028-891c-d3d7fb5678b2",
   "metadata": {},
   "outputs": [],
   "source": [
    "package com.example.listview\n",
    "\n",
    "import androidx.appcompat.app.AppCompatActivity\n",
    "import android.os.Bundle\n",
    "import android.widget.ArrayAdapter\n",
    "import android.widget.ListView\n",
    "import android.widget.Toast\n",
    "\n",
    "class MainActivity : AppCompatActivity() {\n",
    "    override fun onCreate(savedInstanceState: Bundle?) {\n",
    "        super.onCreate(savedInstanceState)\n",
    "        setContentView(R.layout.activity_main)\n",
    "\n",
    "        //Get the listView\n",
    "        var listView: ListView = findViewById(R.id.myListView)\n",
    "\n",
    "        //Get the Array datasource\n",
    "        var countryList = resources.getStringArray(R.array.countries)\n",
    "\n",
    "        //Create Adapter that will connect the listview and datasource\n",
    "        var arrayAdapter = ArrayAdapter(\n",
    "            this, //Context\n",
    "            android.R.layout.simple_list_item_1, //View item\n",
    "            countryList // The DataSource\n",
    "        )\n",
    "\n",
    "        //Set adapter on listview\n",
    "        listView.adapter = arrayAdapter\n",
    "\n",
    "        //SET THE CLICK LISTENER\n",
    "        \n",
    "        listView.setOnItemClickListener{adapterView, view, positionOfClickedItem,id ->\n",
    "\n",
    "            //Gets the item that was clicked on\n",
    "            val countryName:String = adapterView.getItemAtPosition(positionOfClickedItem).toString()\n",
    "            Toast.makeText(\n",
    "                this,\n",
    "                \"You selected $countryName\",\n",
    "                Toast.LENGTH_LONG\n",
    "            ).show()\n",
    "\n",
    "        }\n",
    "\n",
    "    }\n",
    " }"
   ]
  },
  {
   "cell_type": "markdown",
   "id": "e7a9e2a3-b457-4427-8c50-a8ca0ea97200",
   "metadata": {},
   "source": [
    "#### Recycler View\n",
    "\n",
    "The recycler View is a more advanced version of the list view with improved performance and memory management. Recycler Views can be horizontal or vertical."
   ]
  },
  {
   "cell_type": "markdown",
   "id": "1b9a86c5-1fbe-4a0a-941a-01626b6e50ee",
   "metadata": {},
   "source": [
    "##### *Creating a Recycler View*\n",
    "\n",
    "First, declare the __RecyclerView__"
   ]
  },
  {
   "cell_type": "code",
   "execution_count": null,
   "id": "280fe643-8ed6-434f-bf8a-74e0a859f1a5",
   "metadata": {},
   "outputs": [],
   "source": [
    "    <androidx.recyclerview.widget.RecyclerView\n",
    "        android:id=\"@+id/recyclerView\"\n",
    "        android:layout_width=\"match_parent\"\n",
    "        android:layout_height=\"match_parent\"\n",
    "        app:layout_constraintBottom_toBottomOf=\"parent\"\n",
    "        app:layout_constraintEnd_toEndOf=\"parent\"\n",
    "        app:layout_constraintStart_toStartOf=\"parent\"\n",
    "        app:layout_constraintTop_toTopOf=\"parent\" />"
   ]
  },
  {
   "cell_type": "markdown",
   "id": "34b4896a-fd67-436b-8fd1-671f57638da3",
   "metadata": {},
   "source": [
    "Next, Creating the individual __item view__ for the Recycler View, by creating a new Layout file in the resources folder."
   ]
  },
  {
   "cell_type": "code",
   "execution_count": null,
   "id": "00269c88-e8bb-4c90-8aa3-5257b862d880",
   "metadata": {},
   "outputs": [],
   "source": [
    "<?xml version=\"1.0\" encoding=\"utf-8\"?>\n",
    "<androidx.constraintlayout.widget.ConstraintLayout xmlns:android=\"http://schemas.android.com/apk/res/android\"\n",
    "    xmlns:app=\"http://schemas.android.com/apk/res-auto\"\n",
    "    xmlns:tools=\"http://schemas.android.com/tools\"\n",
    "    android:layout_width=\"match_parent\"\n",
    "    android:layout_height=\"wrap_content\">\n",
    "\n",
    "    <androidx.cardview.widget.CardView\n",
    "        android:layout_width=\"match_parent\"\n",
    "        android:layout_height=\"wrap_content\"\n",
    "        android:layout_margin=\"8dp\"\n",
    "        android:backgroundTint=\"#042898\"\n",
    "        app:cardCornerRadius=\"8dp\"\n",
    "        app:cardElevation=\"8dp\"\n",
    "        app:layout_constraintEnd_toEndOf=\"parent\"\n",
    "        app:layout_constraintStart_toStartOf=\"parent\"\n",
    "        app:layout_constraintTop_toTopOf=\"parent\">\n",
    "\n",
    "        <androidx.constraintlayout.widget.ConstraintLayout\n",
    "            android:layout_width=\"match_parent\"\n",
    "            android:layout_height=\"75dp\">\n",
    "\n",
    "            <de.hdodenhof.circleimageview.CircleImageView\n",
    "                android:id=\"@+id/countryImage\"\n",
    "                android:layout_width=\"60dp\"\n",
    "                android:layout_height=\"60dp\"\n",
    "                android:layout_marginStart=\"4dp\"\n",
    "                android:src=\"@drawable/hongkong\"\n",
    "                app:civ_border_color=\"#FF000000\"\n",
    "                app:civ_border_width=\"2dp\"\n",
    "                app:layout_constraintBottom_toBottomOf=\"parent\"\n",
    "                app:layout_constraintStart_toStartOf=\"parent\"\n",
    "                app:layout_constraintTop_toTopOf=\"parent\"\n",
    "                app:layout_constraintVertical_bias=\"0.466\" />\n",
    "\n",
    "            <TextView\n",
    "                android:id=\"@+id/countryName\"\n",
    "                android:layout_width=\"wrap_content\"\n",
    "                android:layout_height=\"wrap_content\"\n",
    "                android:layout_marginStart=\"8dp\"\n",
    "                android:text=\"TextView\"\n",
    "                android:textColor=\"#ffffff\"\n",
    "                android:textSize=\"24sp\"\n",
    "                android:textStyle=\"bold\"\n",
    "                app:layout_constraintBottom_toTopOf=\"@+id/countryDetail\"\n",
    "                app:layout_constraintStart_toEndOf=\"@+id/countryImage\"\n",
    "                app:layout_constraintTop_toTopOf=\"parent\" />\n",
    "\n",
    "            <TextView\n",
    "                android:id=\"@+id/countryDetail\"\n",
    "                android:layout_width=\"wrap_content\"\n",
    "                android:layout_height=\"wrap_content\"\n",
    "                android:layout_marginStart=\"8dp\"\n",
    "                android:text=\"TextView\"\n",
    "                android:textColor=\"#ffffff\"\n",
    "                android:textStyle=\"italic\"\n",
    "                app:layout_constraintBottom_toBottomOf=\"parent\"\n",
    "                app:layout_constraintStart_toEndOf=\"@+id/countryImage\"\n",
    "                app:layout_constraintTop_toBottomOf=\"@+id/countryName\" />\n",
    "\n",
    "        </androidx.constraintlayout.widget.ConstraintLayout>\n",
    "    </androidx.cardview.widget.CardView>\n",
    "</androidx.constraintlayout.widget.ConstraintLayout>"
   ]
  },
  {
   "cell_type": "markdown",
   "id": "2c651c01-4b56-474e-b523-ff68d72b0876",
   "metadata": {},
   "source": [
    "Then create a custom __Adapter__ "
   ]
  },
  {
   "cell_type": "code",
   "execution_count": null,
   "id": "a2a351c8-3146-43b9-91ab-ad58eb166409",
   "metadata": {},
   "outputs": [],
   "source": [
    "package com.example.reycycler\n",
    "\n",
    "import android.content.Context\n",
    "import android.view.LayoutInflater\n",
    "import android.view.View\n",
    "import android.view.ViewGroup\n",
    "import android.widget.TextView\n",
    "import android.widget.Toast\n",
    "import androidx.cardview.widget.CardView\n",
    "import androidx.recyclerview.widget.RecyclerView\n",
    "import de.hdodenhof.circleimageview.CircleImageView\n",
    "\n",
    "class CountriesAdapter(\n",
    "    var countryNameList: ArrayList<String>,\n",
    "    var detailsList: ArrayList<String>,\n",
    "    var imageList: ArrayList<Int>,//used for toast messages\n",
    "    var context: Context\n",
    "): RecyclerView.Adapter<CountriesAdapter.CountryViewHolder>() {\n",
    "\n",
    "    //custom view holder item\n",
    "    class CountryViewHolder(itemView: View): RecyclerView.ViewHolder(itemView){\n",
    "\n",
    "        var textViewCountryName : TextView = itemView.findViewById(R.id.countryName)\n",
    "        var textViewDetails: TextView = itemView.findViewById(R.id.countryDetail)\n",
    "        var imageView: CircleImageView = itemView.findViewById(R.id.countryImage)\n",
    "        var cardView: CardView = itemView.findViewById(R.id.countryCard)\n",
    "\n",
    "    }\n",
    "\n",
    "    //Over ride the RecyclerView methods to create\n",
    "\n",
    "    //Defines which view item to use for the list\n",
    "    //This is the custom view layout you created \n",
    "    override fun onCreateViewHolder(parent: ViewGroup, viewType: Int): CountryViewHolder {\n",
    "        \n",
    "        //Enter the custum layout as the first parameter of the .inflate method\n",
    "        val view: View = LayoutInflater.from(parent.context)\n",
    "            .inflate(R.layout.card_design,parent,false)\n",
    "\n",
    "        return CountryViewHolder(view)\n",
    "    }\n",
    "\n",
    "    //Populates the custom view with data and displays it\n",
    "    override fun onBindViewHolder(holder: CountryViewHolder, position: Int) {\n",
    "\n",
    "        //Populate data\n",
    "        holder.textViewCountryName.text = countryNameList.get(position)\n",
    "        holder.textViewDetails.text = detailsList.get(position)\n",
    "        holder.imageView.setImageResource(imageList.get(position))\n",
    "\n",
    "        //Set click listeners\n",
    "        holder.cardView.setOnClickListener{\n",
    "            Toast.makeText(\n",
    "                context,\n",
    "                \"You selected ${countryNameList.get(position)}\",\n",
    "                Toast.LENGTH_SHORT\n",
    "            ).show()\n",
    "        }\n",
    "\n",
    "    }\n",
    "\n",
    "    //Figures out how many items are in the data arrays\n",
    "    override fun getItemCount(): Int {\n",
    "        return countryNameList.size\n",
    "    }"
   ]
  },
  {
   "cell_type": "markdown",
   "id": "1d72b722-ee62-457c-898f-d193fa0fd698",
   "metadata": {},
   "source": [
    "Finally Implement the __RecyclerView__ "
   ]
  },
  {
   "cell_type": "code",
   "execution_count": null,
   "id": "8c88a428-329e-4cd2-81ce-ae43f336e3f9",
   "metadata": {},
   "outputs": [],
   "source": [
    "class MainActivity : AppCompatActivity() {\n",
    "\n",
    "\n",
    "\n",
    "    var countryNameList = ArrayList<String>()\n",
    "    var detailsList = ArrayList<String>()\n",
    "    var imageList = ArrayList<Int>()\n",
    "\n",
    "\n",
    "\n",
    "    override fun onCreate(savedInstanceState: Bundle?) {\n",
    "        super.onCreate(savedInstanceState)\n",
    "        setContentView(R.layout.activity_main)\n",
    "\n",
    "        //Retrieve the recyclerView\n",
    "        var recyclerView: RecyclerView = findViewById<RecyclerView>(R.id.recyclerView)\n",
    "\n",
    "        //Specify the layout\n",
    "        recyclerView.layoutManager = LinearLayoutManager(this)\n",
    "\n",
    "        //Populate the Arrays\n",
    "        countryNameList.add(\"England\")\n",
    "        countryNameList.add(\"Hong Kong\")\n",
    "        countryNameList.add(\"Singapore\")\n",
    "\n",
    "        detailsList.add(\"This is the flag of England\")\n",
    "        detailsList.add(\"This is the flag of Hong Kong\")\n",
    "        detailsList.add(\"This is the flag of Singapore\")\n",
    "\n",
    "        imageList.add(R.drawable.england)\n",
    "        imageList.add(R.drawable.hongkong)\n",
    "        imageList.add(R.drawable.singapore)\n",
    "\n",
    "        //initialize custom Adapter\n",
    "        var adapter: CountriesAdapter = CountriesAdapter(\n",
    "            countryNameList,\n",
    "            detailsList,\n",
    "            imageList,\n",
    "            this@MainActivity\n",
    "        )\n",
    "\n",
    "        //Set recycler view's adapter\n",
    "        recyclerView.adapter = adapter\n",
    "\n",
    "    }\n",
    "}"
   ]
  },
  {
   "cell_type": "markdown",
   "id": "a2405f7e-40eb-4448-b535-73d0e8f2d916",
   "metadata": {},
   "source": [
    "#### GridView\n",
    "\n",
    "Android GridView shows items in two-dimensional scrolling grid (rows & columns) and the grid items are not necessarily predetermined but they are automatically inserted to the layout using a List Adapter"
   ]
  },
  {
   "cell_type": "markdown",
   "id": "e1f35cc9-bba0-402c-94f6-f6b90d6da200",
   "metadata": {},
   "source": [
    "##### *Creating a GridView*\n",
    "\n",
    "First Declare the GridView layout"
   ]
  },
  {
   "cell_type": "code",
   "execution_count": null,
   "id": "668c7c48-ee3c-482c-a8de-2f52265fa235",
   "metadata": {},
   "outputs": [],
   "source": [
    "<androidx.constraintlayout.widget.ConstraintLayout xmlns:android=\"http://schemas.android.com/apk/res/android\"\n",
    "    xmlns:app=\"http://schemas.android.com/apk/res-auto\"\n",
    "    xmlns:tools=\"http://schemas.android.com/tools\"\n",
    "    android:layout_width=\"match_parent\"\n",
    "    android:layout_height=\"match_parent\"\n",
    "    tools:context=\".MainActivity\">\n",
    "\n",
    "    <GridView\n",
    "        android:id=\"@+id/gridView\"\n",
    "        android:layout_width=\"match_parent\"\n",
    "        android:layout_height=\"match_parent\"\n",
    "        android:gravity=\"center\"\n",
    "        android:numColumns=\"3\"\n",
    "        app:layout_constraintBottom_toBottomOf=\"parent\"\n",
    "        app:layout_constraintEnd_toEndOf=\"parent\"\n",
    "        app:layout_constraintStart_toStartOf=\"parent\"\n",
    "        app:layout_constraintTop_toTopOf=\"parent\" />\n",
    "</androidx.constraintlayout.widget.ConstraintLayout>"
   ]
  },
  {
   "cell_type": "markdown",
   "id": "c95d1433-3c1d-4e09-beeb-66d3864c61a4",
   "metadata": {},
   "source": [
    "Next create a custom layout for the grid view items"
   ]
  },
  {
   "cell_type": "code",
   "execution_count": null,
   "id": "34de2fbe-9b53-4167-a614-96b29a33f38d",
   "metadata": {},
   "outputs": [],
   "source": [
    "<?xml version=\"1.0\" encoding=\"utf-8\"?>\n",
    "<LinearLayout xmlns:android=\"http://schemas.android.com/apk/res/android\"\n",
    "    xmlns:app=\"http://schemas.android.com/apk/res-auto\"\n",
    "    android:layout_width=\"match_parent\"\n",
    "    android:layout_height=\"match_parent\"\n",
    "    android:orientation=\"vertical\"\n",
    "    android:gravity=\"center\"\n",
    "    android:padding=\"8dp\">\n",
    "\n",
    "    <ImageView\n",
    "        android:id=\"@+id/imageView\"\n",
    "        android:layout_width=\"100dp\"\n",
    "        android:layout_height=\"100dp\"\n",
    "        android:layout_weight=\"1\"\n",
    "        app:srcCompat=\"@drawable/cat1\" />\n",
    "\n",
    "    <TextView\n",
    "        android:id=\"@+id/textView\"\n",
    "        android:layout_width=\"wrap_content\"\n",
    "        android:layout_height=\"wrap_content\"\n",
    "        android:textColor=\"@color/black\"\n",
    "        android:layout_weight=\"1\"\n",
    "        android:text=\"TextView\" />\n",
    "</LinearLayout>"
   ]
  },
  {
   "cell_type": "markdown",
   "id": "b6c74ba4-f73b-44ee-8f72-0fb53bd9f7e5",
   "metadata": {},
   "source": [
    "Then Create a custom implementation of the BaseAdapter class"
   ]
  },
  {
   "cell_type": "code",
   "execution_count": null,
   "id": "e6f842af-76c5-46df-9905-cf0e0d59b224",
   "metadata": {},
   "outputs": [],
   "source": [
    "package com.example.grid\n",
    "\n",
    "import android.content.Context\n",
    "import android.view.LayoutInflater\n",
    "import android.view.View\n",
    "import android.view.ViewGroup\n",
    "import android.widget.BaseAdapter\n",
    "import android.widget.ImageView\n",
    "import android.widget.TextView\n",
    "\n",
    "class AnimalAdapter(\n",
    "    var context: Context,\n",
    "    var nameList: ArrayList<String>,\n",
    "    var imageList: ArrayList<Int>\n",
    ") : BaseAdapter() {\n",
    "\n",
    "\n",
    "    //Determines the amount of items in arrays\n",
    "    override fun getCount(): Int {\n",
    "        return nameList.size\n",
    "    }\n",
    "\n",
    "    override fun getItem(p0: Int): Any? {\n",
    "        return null //return null because this method is not implemented\n",
    "    }\n",
    "\n",
    "    override fun getItemId(p0: Int): Long {\n",
    "        return 0 //Return zero because this method is not implemented\n",
    "    }\n",
    "\n",
    "    //Create the Grid items and display them\n",
    "    override fun getView(position: Int, convertView: View?, parent: ViewGroup?): View {\n",
    "\n",
    "        //First inflate the custom layout\n",
    "        //@param: parent is the MainActivity Object\n",
    "        val view : View = LayoutInflater.from(parent!!.context)\n",
    "        .inflate(R.layout.custom_layout, parent,false)\n",
    "\n",
    "        //Then Get the required views from the inflated layout\n",
    "        var animalName: TextView = view.findViewById(R.id.textView)\n",
    "        var animalImage : ImageView = view.findViewById(R.id.imageView)\n",
    "\n",
    "        //next, populate the views with data\n",
    "        animalName.text = nameList.get(position)\n",
    "        animalImage.setImageResource(imageList.get(position))\n",
    "\n",
    "        //Finally return the view\n",
    "        return view\n",
    "\n",
    "    }\n",
    "\n",
    "}"
   ]
  },
  {
   "cell_type": "markdown",
   "id": "82103f0f-07a1-49a5-a778-b39ba8b58eae",
   "metadata": {},
   "source": [
    "Finally, implement it all in the MainActivity"
   ]
  },
  {
   "cell_type": "code",
   "execution_count": null,
   "id": "9bf71fdc-7d5c-408f-acfd-bde29a48b8c8",
   "metadata": {},
   "outputs": [],
   "source": [
    "package com.example.grid\n",
    "\n",
    "import androidx.appcompat.app.AppCompatActivity\n",
    "import android.os.Bundle\n",
    "import android.widget.GridView\n",
    "import android.widget.Toast\n",
    "\n",
    "class MainActivity : AppCompatActivity() {\n",
    "\n",
    "    lateinit var gridView: GridView\n",
    "    var nameList = ArrayList<String>()\n",
    "    var imageList = ArrayList<Int>()\n",
    "\n",
    "    override fun onCreate(savedInstanceState: Bundle?) {\n",
    "        super.onCreate(savedInstanceState)\n",
    "        setContentView(R.layout.activity_main)\n",
    "\n",
    "        //Retrieve the Gridview\n",
    "        gridView = findViewById(R.id.gridView)\n",
    "\n",
    "        //Populate Arrays with data\n",
    "        fillArray()\n",
    "\n",
    "        //Create Adapter\n",
    "        val adapter = AnimalAdapter(\n",
    "            this,\n",
    "            nameList,\n",
    "            imageList\n",
    "        )\n",
    "\n",
    "        //set gridviews adapter to use custom adapter\n",
    "        gridView.adapter = adapter\n",
    "\n",
    "        //set click listener\n",
    "        gridView.setOnItemClickListener{ adapterView, view, position, id ->\n",
    "            Toast.makeText(\n",
    "                applicationContext,\n",
    "                \"You have selected the ${nameList[position]}\",\n",
    "                Toast.LENGTH_SHORT\n",
    "            ).show()\n",
    "        }\n",
    "\n",
    "    }\n",
    "\n",
    "    //Helper Method for filling arrays\n",
    "    fun fillArray(){\n",
    "        nameList.add(\"Bird\")\n",
    "        nameList.add(\"Cat\")\n",
    "        nameList.add(\"Dog\")\n",
    "        nameList.add(\"Sheep\")\n",
    "        nameList.add(\"Lion\")\n",
    "        nameList.add(\"Elephant\")\n",
    "        nameList.add(\"Monkey\")\n",
    "        nameList.add(\"Rabbit\")\n",
    "\n",
    "        imageList.add(R.drawable.cat1)\n",
    "        imageList.add(R.drawable.cat2)\n",
    "        imageList.add(R.drawable.cat3)\n",
    "        imageList.add(R.drawable.cat4)\n",
    "        imageList.add(R.drawable.cat5)\n",
    "        imageList.add(R.drawable.cat6)\n",
    "        imageList.add(R.drawable.cat7)\n",
    "        imageList.add(R.drawable.cat8)\n",
    "\n",
    "    }\n",
    "}"
   ]
  },
  {
   "cell_type": "markdown",
   "id": "3fbc1e17-6429-40b6-8479-7c53a70b8e52",
   "metadata": {},
   "source": [
    "### Scroll View\n",
    "\n",
    "When an app has a layout content that migh tbe longer than the height of the device and that content should be vertically scrollable, then we need to use a ScrollView."
   ]
  },
  {
   "cell_type": "markdown",
   "id": "beb54202-4378-4fca-a527-afdf269622f4",
   "metadata": {},
   "source": [
    "##### *Creating a Vertical Scroll View*\n",
    "\n",
    "Scroll views can only have one child, and so all items are imbedded in a vertical linear layout"
   ]
  },
  {
   "cell_type": "code",
   "execution_count": null,
   "id": "f0b4db00-ec7c-4c47-a7a3-ec5f9bce2bc4",
   "metadata": {},
   "outputs": [],
   "source": [
    "<?xml version=\"1.0\" encoding=\"utf-8\"?>\n",
    "<ScrollView xmlns:android=\"http://schemas.android.com/apk/res/android\"\n",
    "    xmlns:app=\"http://schemas.android.com/apk/res-auto\"\n",
    "    xmlns:tools=\"http://schemas.android.com/tools\"\n",
    "    android:layout_width=\"match_parent\"\n",
    "    android:layout_height=\"match_parent\"\n",
    "    tools:context=\".MainActivity\">\n",
    "\n",
    "    <LinearLayout\n",
    "        android:layout_width=\"match_parent\"\n",
    "        android:layout_height=\"wrap_content\"\n",
    "        android:orientation=\"vertical\"\n",
    "        android:gravity=\"center\">\n",
    "\n",
    "        <Button\n",
    "            android:id=\"@+id/button1\"\n",
    "            android:layout_width=\"150dp\"\n",
    "            android:layout_height=\"150dp\"\n",
    "            android:text=\"Button\" />\n",
    "        <Button\n",
    "            android:id=\"@+id/button2\"\n",
    "            android:layout_width=\"150dp\"\n",
    "            android:layout_height=\"150dp\"\n",
    "            android:text=\"Button\" />\n",
    "        <Button\n",
    "            android:id=\"@+id/button3\"\n",
    "            android:layout_width=\"150dp\"\n",
    "            android:layout_height=\"150dp\"\n",
    "            android:text=\"Button\" />\n",
    "        <Button\n",
    "            android:id=\"@+id/button4\"\n",
    "            android:layout_width=\"150dp\"\n",
    "            android:layout_height=\"150dp\"\n",
    "            android:text=\"Button\" />\n",
    "        <Button\n",
    "            android:id=\"@+id/button5\"\n",
    "            android:layout_width=\"150dp\"\n",
    "            android:layout_height=\"150dp\"\n",
    "            android:text=\"Button\" />\n",
    "        <Button\n",
    "            android:id=\"@+id/button6\"\n",
    "            android:layout_width=\"150dp\"\n",
    "            android:layout_height=\"150dp\"\n",
    "            android:text=\"Button\" />\n",
    "        <Button\n",
    "            android:id=\"@+id/button7\"\n",
    "            android:layout_width=\"150dp\"\n",
    "            android:layout_height=\"150dp\"\n",
    "            android:text=\"Button\" />\n",
    "        <Button\n",
    "            android:id=\"@+id/button8\"\n",
    "            android:layout_width=\"150dp\"\n",
    "            android:layout_height=\"150dp\"\n",
    "            android:text=\"Button\" />\n",
    "        <Button\n",
    "            android:id=\"@+id/button9\"\n",
    "            android:layout_width=\"150dp\"\n",
    "            android:layout_height=\"150dp\"\n",
    "            android:text=\"Button\" />\n",
    "\n",
    "    </LinearLayout>\n",
    "</ScrollView>"
   ]
  },
  {
   "cell_type": "markdown",
   "id": "ed414f8b-7469-437f-85d2-68563e5c0454",
   "metadata": {},
   "source": [
    "##### *Creating a Horizontal ScrollView*\n",
    "\n",
    "You can create a Horizontal scrollView by __setting the orientation for the linear layout to \"Horizontal\"__ and then embedding it in a __HorizontalScrollView__ tag"
   ]
  },
  {
   "cell_type": "code",
   "execution_count": null,
   "id": "b5f47f4c-1585-48c9-a474-8c357685d8ad",
   "metadata": {},
   "outputs": [],
   "source": [
    "<?xml version=\"1.0\" encoding=\"utf-8\"?>\n",
    "<ScrollView xmlns:android=\"http://schemas.android.com/apk/res/android\"\n",
    "    xmlns:app=\"http://schemas.android.com/apk/res-auto\"\n",
    "    xmlns:tools=\"http://schemas.android.com/tools\"\n",
    "    android:layout_width=\"match_parent\"\n",
    "    android:layout_height=\"match_parent\"\n",
    "    tools:context=\".MainActivity\">\n",
    "\n",
    "    <HorizontalScrollView\n",
    "        android:layout_width=\"match_parent\"\n",
    "        android:layout_height=\"match_parent\">\n",
    "\n",
    "    \n",
    "\n",
    "        <LinearLayout\n",
    "            android:layout_width=\"match_parent\"\n",
    "            android:layout_height=\"wrap_content\"\n",
    "            android:orientation=\"horizontal\"\n",
    "            android:gravity=\"center\">\n",
    "\n",
    "            <Button\n",
    "                android:id=\"@+id/button1\"\n",
    "                android:layout_width=\"150dp\"\n",
    "                android:layout_height=\"150dp\"\n",
    "                android:text=\"Button\" />\n",
    "            <Button\n",
    "                android:id=\"@+id/button2\"\n",
    "                android:layout_width=\"150dp\"\n",
    "                android:layout_height=\"150dp\"\n",
    "                android:text=\"Button\" />\n",
    "            <Button\n",
    "                android:id=\"@+id/button3\"\n",
    "                android:layout_width=\"150dp\"\n",
    "                android:layout_height=\"150dp\"\n",
    "                android:text=\"Button\" />\n",
    "            <Button\n",
    "                android:id=\"@+id/button4\"\n",
    "                android:layout_width=\"150dp\"\n",
    "                android:layout_height=\"150dp\"\n",
    "                android:text=\"Button\" />\n",
    "            <Button\n",
    "                android:id=\"@+id/button5\"\n",
    "                android:layout_width=\"150dp\"\n",
    "                android:layout_height=\"150dp\"\n",
    "                android:text=\"Button\" />\n",
    "            <Button\n",
    "                android:id=\"@+id/button6\"\n",
    "                android:layout_width=\"150dp\"\n",
    "                android:layout_height=\"150dp\"\n",
    "                android:text=\"Button\" />\n",
    "            <Button\n",
    "                android:id=\"@+id/button7\"\n",
    "                android:layout_width=\"150dp\"\n",
    "                android:layout_height=\"150dp\"\n",
    "                android:text=\"Button\" />\n",
    "            <Button\n",
    "                android:id=\"@+id/button8\"\n",
    "                android:layout_width=\"150dp\"\n",
    "                android:layout_height=\"150dp\"\n",
    "                android:text=\"Button\" />\n",
    "            <Button\n",
    "                android:id=\"@+id/button9\"\n",
    "                android:layout_width=\"150dp\"\n",
    "                android:layout_height=\"150dp\"\n",
    "                android:text=\"Button\" />\n",
    "\n",
    "        </LinearLayout>\n",
    "\n",
    "    </HorizontalScrollView>\n",
    "</ScrollView>"
   ]
  },
  {
   "cell_type": "markdown",
   "id": "c878359f-067c-48fc-9bcc-5a7d42661b65",
   "metadata": {},
   "source": [
    "### Web View\n",
    "\n",
    "Android WebView is a system component for the Android operating system (OS) that allows Android apps to display content from the web directly inside an application."
   ]
  },
  {
   "cell_type": "markdown",
   "id": "15150705-f637-403d-833b-4c598346dc67",
   "metadata": {},
   "source": [
    "#### Creating a WebView "
   ]
  },
  {
   "cell_type": "markdown",
   "id": "db28fbdf-d38c-4ce5-b703-4889e517e473",
   "metadata": {},
   "source": [
    "##### *Declaring the WevView layout*"
   ]
  },
  {
   "cell_type": "code",
   "execution_count": null,
   "id": "dee53db2-5490-45f3-8e02-e7c62ca2e55a",
   "metadata": {},
   "outputs": [],
   "source": [
    "<?xml version=\"1.0\" encoding=\"utf-8\"?>\n",
    "<androidx.constraintlayout.widget.ConstraintLayout xmlns:android=\"http://schemas.android.com/apk/res/android\"\n",
    "    xmlns:app=\"http://schemas.android.com/apk/res-auto\"\n",
    "    xmlns:tools=\"http://schemas.android.com/tools\"\n",
    "    android:layout_width=\"match_parent\"\n",
    "    android:layout_height=\"match_parent\"\n",
    "    tools:context=\".MainActivity\">\n",
    "\n",
    "    <WebView\n",
    "        android:id=\"@+id/webView\"\n",
    "        android:layout_width=\"match_parent\"\n",
    "        android:layout_height=\"match_parent\"\n",
    "        app:layout_constraintBottom_toBottomOf=\"parent\"\n",
    "        app:layout_constraintEnd_toEndOf=\"parent\"\n",
    "        app:layout_constraintStart_toStartOf=\"parent\"\n",
    "        app:layout_constraintTop_toTopOf=\"parent\" />\n",
    "</androidx.constraintlayout.widget.ConstraintLayout>"
   ]
  },
  {
   "cell_type": "markdown",
   "id": "814bb878-c13b-431c-8bd5-37fb78f58fe0",
   "metadata": {},
   "source": [
    "##### *implementing the webview*"
   ]
  },
  {
   "cell_type": "code",
   "execution_count": null,
   "id": "6dfc4984-0d4c-43bb-9f91-9ddc522e38dc",
   "metadata": {},
   "outputs": [],
   "source": [
    "class MainActivity : AppCompatActivity() {\n",
    "\n",
    "    lateinit var webView: WebView\n",
    "\n",
    "    override fun onCreate(savedInstanceState: Bundle?) {\n",
    "        super.onCreate(savedInstanceState)\n",
    "        setContentView(R.layout.activity_main)\n",
    "\n",
    "        webView = findViewById(R.id.webView)\n",
    "\n",
    "        webView.webViewClient = WebViewClient()\n",
    "        webView.loadUrl(\"http://www.google.com\")\n",
    "\n",
    "    }\n",
    "\n",
    "}"
   ]
  },
  {
   "cell_type": "markdown",
   "id": "ed2a2e59-4e50-4d97-865d-256eae25b578",
   "metadata": {},
   "source": [
    "##### *Setting Permissions in the Manifest*"
   ]
  },
  {
   "cell_type": "code",
   "execution_count": null,
   "id": "130adb4d-a2e6-4071-9bc0-c6e6284e5af3",
   "metadata": {},
   "outputs": [],
   "source": [
    "<?xml version=\"1.0\" encoding=\"utf-8\"?>\n",
    "<manifest xmlns:android=\"http://schemas.android.com/apk/res/android\"\n",
    "    package=\"com.example.web\">\n",
    "    \n",
    "    \n",
    "    //Permission to access both internet and wifi\n",
    "    <uses-permission android:name=\"android.permission.INTERNET\"/>\n",
    "    <uses-permission android:name=\"android.permission.ACCESS_WIFI_STATE\"/>\n",
    "\n",
    "    <application\n",
    "        android:allowBackup=\"true\"\n",
    "        android:icon=\"@mipmap/ic_launcher\"\n",
    "        android:label=\"@string/app_name\"\n",
    "        android:roundIcon=\"@mipmap/ic_launcher_round\"\n",
    "        android:supportsRtl=\"true\"\n",
    "        android:theme=\"@style/Theme.Web\"\n",
    "        android:usesCleartextTraffic=\"true\"> //Needs to be added after Android 9\n",
    "        <activity\n",
    "            android:name=\".MainActivity\"\n",
    "            android:exported=\"true\">\n",
    "            <intent-filter>\n",
    "                <action android:name=\"android.intent.action.MAIN\" />\n",
    "\n",
    "                <category android:name=\"android.intent.category.LAUNCHER\" />\n",
    "            </intent-filter>\n",
    "        </activity>\n",
    "    </application>\n",
    "\n",
    "</manifest>"
   ]
  },
  {
   "cell_type": "markdown",
   "id": "ebd1b058-3cf3-4e9a-bcdd-cfe315f99e18",
   "metadata": {},
   "source": [
    "#### Webview Navigation\n",
    "\n",
    "##### *Implementing the goBack function*\n",
    "\n",
    "In the MainActivity file just below the main function, __override the onBackPressed function__"
   ]
  },
  {
   "cell_type": "code",
   "execution_count": null,
   "id": "57f6df0c-9e73-42e6-8524-0ddfcd1fdf61",
   "metadata": {},
   "outputs": [],
   "source": [
    "    override fun onBackPressed() {\n",
    "\n",
    "        if(webView.canGoBack()){\n",
    "            webView.goBack()\n",
    "        } else {\n",
    "            super.onBackPressed()\n",
    "        }\n",
    "    }"
   ]
  },
  {
   "cell_type": "markdown",
   "id": "3216a581-98c9-474c-aeca-be0f0eb20531",
   "metadata": {},
   "source": [
    "### Image View"
   ]
  },
  {
   "cell_type": "markdown",
   "id": "c263864f-8cd8-44c3-bc72-1ae52617c505",
   "metadata": {},
   "source": [
    "##### *Creating an ImageView*"
   ]
  },
  {
   "cell_type": "code",
   "execution_count": null,
   "id": "61a80e94-a0ba-4de3-956b-5449d26392ad",
   "metadata": {},
   "outputs": [],
   "source": [
    "<ImageView\n",
    "        android:id=\"@+id/img\"\n",
    "        android:layout_height=\"150dp\"\n",
    "        android:layout_width=\"wrap_content\"\n",
    "        android:src =\"@drawable/fish\"\n",
    "        android:scaleType=\"fitCenter\"\n",
    "        />"
   ]
  },
  {
   "cell_type": "markdown",
   "id": "d42a118b-2755-4607-90e6-fbc61bf77f54",
   "metadata": {},
   "source": [
    "##### *The image source*"
   ]
  },
  {
   "cell_type": "markdown",
   "id": "147d4a3b-f771-40d4-9f69-1ab14974691c",
   "metadata": {},
   "source": [
    "Images are placed in the __drawable folder__ and accessed in in the ImageView through the __android:src__ attribute"
   ]
  },
  {
   "cell_type": "markdown",
   "id": "9d879352-85a3-4746-b4d9-4b45860b5051",
   "metadata": {},
   "source": [
    "### Fragments"
   ]
  },
  {
   "cell_type": "markdown",
   "id": "93163914-f855-47ef-887c-e6a258556207",
   "metadata": {},
   "source": [
    "#### Creating Fragments"
   ]
  },
  {
   "cell_type": "markdown",
   "id": "a49964e2-b300-497a-ab6d-165ae9e7b764",
   "metadata": {},
   "source": [
    "##### *Create the fragment layout file*\n",
    "\n",
    "Save the layout in the Resources.layout folder"
   ]
  },
  {
   "cell_type": "code",
   "execution_count": null,
   "id": "c531379e-3c25-4960-9d41-5144834e8092",
   "metadata": {},
   "outputs": [],
   "source": [
    "<?xml version=\"1.0\" encoding=\"utf-8\"?>\n",
    "<androidx.constraintlayout.widget.ConstraintLayout xmlns:android=\"http://schemas.android.com/apk/res/android\"\n",
    "    xmlns:app=\"http://schemas.android.com/apk/res-auto\"\n",
    "    android:layout_width=\"match_parent\"\n",
    "    android:layout_height=\"match_parent\"\n",
    "    android:background=\"#9A0606\">\n",
    "\n",
    "    <TextView\n",
    "        android:id=\"@+id/textView\"\n",
    "        android:layout_width=\"wrap_content\"\n",
    "        android:layout_height=\"wrap_content\"\n",
    "        android:text=\"A new fragment\"\n",
    "        android:textColor=\"#FFFEFE\"\n",
    "        android:textSize=\"50dp\"\n",
    "        app:layout_constraintBottom_toBottomOf=\"parent\"\n",
    "        app:layout_constraintEnd_toEndOf=\"parent\"\n",
    "        app:layout_constraintHorizontal_bias=\"0.5\"\n",
    "        app:layout_constraintStart_toStartOf=\"parent\"\n",
    "        app:layout_constraintTop_toTopOf=\"parent\" />\n",
    "</androidx.constraintlayout.widget.ConstraintLayout>"
   ]
  },
  {
   "cell_type": "markdown",
   "id": "95df06b5-4123-4768-ae28-881f19b71bd8",
   "metadata": {},
   "source": [
    "##### *Create a fragment class*\n",
    "\n",
    "To create a fragment class you'll need to import the __androidx.fragment.app.Fragment__ package\n",
    "\n"
   ]
  },
  {
   "cell_type": "code",
   "execution_count": null,
   "id": "581afac5-754e-4fa4-8919-531775e98ea5",
   "metadata": {},
   "outputs": [],
   "source": [
    "package com.example.fragment\n",
    "\n",
    "//First import the following:\n",
    "import androidx.fragment.app.Fragment\n",
    "\n",
    "import android.os.Bundle\n",
    "import android.view.LayoutInflater\n",
    "import android.view.View\n",
    "import android.view.ViewGroup\n",
    "\n",
    "//Extend with Fragment()\n",
    "class FragmentExample:Fragment() {\n",
    "\n",
    "    //overRide the onCreateView\n",
    "    override fun onCreateView(\n",
    "        inflater: LayoutInflater,\n",
    "        container: ViewGroup?,\n",
    "        savedInstanceState: Bundle?\n",
    "    ): View? {\n",
    "\n",
    "        //Return the inflated fragment\n",
    "        return inflater.inflate(\n",
    "            R.layout.fragment_new, //The layout to inflate\n",
    "            container, //the container within which the fragement is attached\n",
    "            false\n",
    "        )\n",
    "\n",
    "    }\n",
    "\n",
    "}"
   ]
  },
  {
   "cell_type": "markdown",
   "id": "1fa6c77e-a71e-4f36-b38e-ff6397b3f69f",
   "metadata": {},
   "source": [
    "##### *Create a fragment container*\n",
    "\n",
    "Add the __FragmentContainerView__ to the activity where the fragment will be displayed.\n",
    "\n",
    "The __android:name__ attribute is used to specifify the name of the fragment to display in the container"
   ]
  },
  {
   "cell_type": "markdown",
   "id": "2bfd9940-3ce4-4606-ba13-c5da3d5ab5a8",
   "metadata": {},
   "source": [
    "<?xml version=\"1.0\" encoding=\"utf-8\"?>\n",
    "<androidx.constraintlayout.widget.ConstraintLayout  \n",
    "    xmlns:android=\"http://schemas.android.com/apk/res/android\"\n",
    "    xmlns:app=\"http://schemas.android.com/apk/res-auto\"\n",
    "    xmlns:tools=\"http://schemas.android.com/tools\"\n",
    "    android:layout_width=\"match_parent\"\n",
    "    android:layout_height=\"match_parent\"\n",
    "    tools:context=\".MainActivity\">\n",
    "\n",
    "    <androidx.fragment.app.FragmentContainerView\n",
    "        android:id=\"@+id/fragmentContainerView\"\n",
    "        android:name=\"com.example.fragment.FragmentExample\"\n",
    "        android:layout_width=\"300dp\"\n",
    "        android:layout_height=\"300dp\"\n",
    "        android:layout_marginStart=\"55dp\"\n",
    "        android:layout_marginTop=\"151dp\"\n",
    "        android:layout_marginEnd=\"56dp\"\n",
    "        android:layout_marginBottom=\"152dp\"\n",
    "        app:layout_constraintBottom_toBottomOf=\"parent\"\n",
    "        app:layout_constraintEnd_toEndOf=\"parent\"\n",
    "        app:layout_constraintStart_toStartOf=\"parent\"\n",
    "        app:layout_constraintTop_toTopOf=\"parent\" />\n",
    "</androidx.constraintlayout.widget.ConstraintLayout>"
   ]
  },
  {
   "cell_type": "markdown",
   "id": "012e8ada-5cc4-4ecc-a0d8-2aec8828e9cd",
   "metadata": {},
   "source": [
    "### User Interactions"
   ]
  },
  {
   "cell_type": "markdown",
   "id": "87d04b46-6605-4af8-87fd-6c6dd6af836f",
   "metadata": {},
   "source": [
    "#### Toast Messages"
   ]
  },
  {
   "cell_type": "markdown",
   "id": "169a0666-ea8d-41ab-8fb3-5fe57c6aae6e",
   "metadata": {},
   "source": [
    "##### *Creating a Toast Message*\n",
    "\n",
    "Toast messages are created programaticlay by using the __Toast__ object."
   ]
  },
  {
   "cell_type": "code",
   "execution_count": null,
   "id": "055dedf3-3dc4-452f-a5d9-b08db590d09d",
   "metadata": {},
   "outputs": [],
   "source": [
    "class MainActivity : AppCompatActivity() {\n",
    "\n",
    "    lateinit var showTaost: Button\n",
    "\n",
    "    override fun onCreate(savedInstanceState: Bundle?) {\n",
    "        super.onCreate(savedInstanceState)\n",
    "        setContentView(R.layout.activity_main)\n",
    "\n",
    "        showTaost = findViewById(R.id.btn)\n",
    "\n",
    "        showTaost.setOnClickListener{\n",
    "        \n",
    "        //Creating the Toast message\n",
    "            Toast.makeText(\n",
    "                this, //The application context\n",
    "                \"Here is to you!\", //the message\n",
    "                Toast.LENGTH_LONG //How long the message will be displayed\n",
    "            ).show() // Displays the toast message on the screen\n",
    "        }\n",
    "\n",
    "    }\n",
    "}"
   ]
  },
  {
   "cell_type": "markdown",
   "id": "8f229252-880f-492a-98a8-ea672d097152",
   "metadata": {},
   "source": [
    "#### Snackbar Messages\n",
    "\n",
    "Snackbars are lightweight widgets that are used to show messages in the bottom of the application with swiping enabled."
   ]
  },
  {
   "cell_type": "markdown",
   "id": "6fe4fdf9-054a-48bb-8c9c-93a1c26f1814",
   "metadata": {},
   "source": [
    "##### *Creating a Snackbar*\n",
    "\n",
    "Snackbars are created programmaticly using the __Snackbar__ object. "
   ]
  },
  {
   "cell_type": "code",
   "execution_count": null,
   "id": "f3a15d55-0648-4d02-8507-f98bc2134ffd",
   "metadata": {},
   "outputs": [],
   "source": [
    "class MainActivity : AppCompatActivity() {\n",
    "\n",
    "    lateinit var showSnack: Button\n",
    "    lateinit var myLayout: View //Snackbar requires a layout\n",
    "\n",
    "    override fun onCreate(savedInstanceState: Bundle?) {\n",
    "        super.onCreate(savedInstanceState)\n",
    "        setContentView(R.layout.activity_main)\n",
    "\n",
    "        showSnack = findViewById(R.id.btn)\n",
    "        myLayout = findViewById<View>(R.id.myLayout)\n",
    "\n",
    "        showSnack.setOnClickListener{\n",
    "            Snackbar.make( //creates the snackbar\n",
    "                myLayout, // the layout  (not the context)\n",
    "                \"Here is to you!\", // Message to display\n",
    "                Snackbar.LENGTH_INDEFINITE //time to display message for\n",
    "            ).setAction(\n",
    "                \"Close\", //Text to display for action\n",
    "                View.OnClickListener {\n",
    "                    //action to take once Snackbar is clicked\n",
    "                    //Default is to close the snackbar\n",
    "                }\n",
    "            ).show() //Displays the snack bar\n",
    "        }\n",
    "\n",
    "    }\n",
    "}"
   ]
  },
  {
   "cell_type": "markdown",
   "id": "199f59c3-ad7a-4b88-9936-53d6bf35446c",
   "metadata": {},
   "source": [
    "#### Dialogue Messages\n",
    "\n",
    "A dialog is a small window that prompts the user to make a decision or enter additional information. A dialog does not fill the screen and is normally used for modal events that require users to take an action before they can proceed"
   ]
  },
  {
   "cell_type": "markdown",
   "id": "caa590e5-a3cb-43f7-8513-253543d95af3",
   "metadata": {},
   "source": [
    "##### *Creating a dialog message*\n",
    "\n",
    "Dialogue messages are created programmaticaly using the __AlertDialog__ object."
   ]
  },
  {
   "cell_type": "code",
   "execution_count": null,
   "id": "d9b53aef-152a-4eef-aeef-ed5ab48b3cf6",
   "metadata": {},
   "outputs": [],
   "source": [
    "class MainActivity : AppCompatActivity() {\n",
    "\n",
    "    lateinit var showDialog: Button\n",
    "\n",
    "\n",
    "    override fun onCreate(savedInstanceState: Bundle?) {\n",
    "        super.onCreate(savedInstanceState)\n",
    "        setContentView(R.layout.activity_main)\n",
    "\n",
    "        showDialog = findViewById(R.id.btn)\n",
    "\n",
    "        showDialog.setOnClickListener{\n",
    "            showAlertDialog()\n",
    "        }\n",
    "\n",
    "    }\n",
    "\n",
    "    fun showAlertDialog(){\n",
    "        //Creates a dialogue builder\n",
    "        var alertDialog = AlertDialog.Builder(this)\n",
    "        \n",
    "        //creating the dialogue\n",
    "        alertDialog\n",
    "            .setTitle(\"Alert\")\n",
    "            .setMessage(\"This is an alert\")\n",
    "            .setIcon(R.drawable.warn)\n",
    "            .setCancelable(false) //prevents from closing\n",
    "            .setNegativeButton(\n",
    "                \"No\",\n",
    "                DialogInterface.OnClickListener{dialogInterface, which ->\n",
    "                    dialogInterface.cancel() //closes the dialog\n",
    "                }\n",
    "            )\n",
    "            .setPositiveButton(\n",
    "                \"Yes\",\n",
    "                DialogInterface.OnClickListener{dialogInterface, which ->\n",
    "                    showDialog.text = \"Yipee\"\n",
    "\n",
    "                }\n",
    "            )\n",
    "        \n",
    "        //Shows the dialog\n",
    "        alertDialog.create().show()\n",
    "\n",
    "    }\n",
    "}"
   ]
  },
  {
   "cell_type": "markdown",
   "id": "cac7248b-fd4e-439a-b3f9-e4135084f053",
   "metadata": {},
   "source": [
    "### Intents\n",
    "\n",
    "##### *What are intents?*\n",
    "\n",
    "An Intent is an object that provides runtime binding between separate components, such as two activities. Most often used ot pass data from one activity to another\n",
    "\n",
    "The intent represents an app's \"intent to do something\""
   ]
  },
  {
   "cell_type": "markdown",
   "id": "913bce13-6531-49d2-b755-cdd260aa98dc",
   "metadata": {},
   "source": [
    "#### Creating an Intent Object"
   ]
  },
  {
   "cell_type": "code",
   "execution_count": null,
   "id": "76984842-1567-44a4-ab07-c64c34a18a3b",
   "metadata": {},
   "outputs": [],
   "source": [
    " \n",
    " //Creat the intent object\n",
    " var intent = Intent(\n",
    "                this@MainActivity, //The first activity \n",
    "                secondActivity::class.java //the second activity\n",
    ")\n",
    "\n",
    "// Adding data to the intent object that can be accessed by the second activity          \n",
    "intent.putExtra(\"username\",userName)\n",
    "intent.putExtra(\"userage\",userAge)\n",
    "\n",
    "//The startActivity function willl execute the intent and navigate to the\n",
    "//second activity\n",
    "startActivity(intent)"
   ]
  },
  {
   "cell_type": "markdown",
   "id": "7a309190-377e-445c-9914-67db47ad125e",
   "metadata": {},
   "source": [
    "#### Accessing Data on the intent"
   ]
  },
  {
   "cell_type": "code",
   "execution_count": null,
   "id": "0196a13e-1ed1-412e-964c-fe0f52009fa0",
   "metadata": {},
   "outputs": [],
   "source": [
    "var userName: String = intent.getStringExtra(\"username\").toString()\n",
    "var userAge: Int = intent.getIntExtra(\"userage\",0)"
   ]
  },
  {
   "cell_type": "markdown",
   "id": "3b61c981-1d80-4c60-af15-5d8bbdad2990",
   "metadata": {},
   "source": [
    "### Application Lifecycle"
   ]
  },
  {
   "cell_type": "markdown",
   "id": "95b6a0e2-cbbf-468a-af5c-da08f5f12238",
   "metadata": {},
   "source": [
    "##### *What are Activities*\n",
    "\n",
    "An activity is ___a single, focused thing that the user can do__. Almost all activities interact with the user, so the Activity class takes care of __creating a window for you in which you can place your UI with setContentView(View)__. While activities are often presented to the user as full-screen windows, they can also be used in other ways: as floating windows (via a theme with R.attr.windowIsFloating set), Multi-Window mode or embedded into other windows. \n",
    "\n",
    "There are two methods almost all subclasses of Activity will implement:\n",
    "\n",
    "__onCreate(Bundle) is where you initialize your activity__. Most importantly, here you will usually __call setContentView(int) with a layout resource defining your UI__, and using __findViewById(int) to retrieve the widgets in that UI that you need to interact with programmatically__.\n",
    "onPause() is where you deal with the user pausing active interaction with the activity. Any changes made by the user should at this point be committed (usually to the ContentProvider holding the data). In this state the activity is still visible on screen.\n",
    "\n",
    "To be of use with Context.startActivity(), all activity classes must have a corresponding <activity> declaration in their package's AndroidManifest.xml"
   ]
  },
  {
   "cell_type": "markdown",
   "id": "5fcd728f-3500-4ee3-8384-ec47d1d8b197",
   "metadata": {},
   "source": [
    "##### *4 States of Activities*\n",
    "\n",
    "Activities in the system are __managed as activity stacks__. When a new activity is started, it is usually placed on the top of the current stack and becomes the running activity -- the previous activity always remains below it in the stack, and will not come to the foreground again until the new activity exits. There can be one or multiple activity stacks visible on screen.\n",
    "\n",
    "An activity has essentially four states:\n",
    "\n",
    "* If an activity is in the __foreground__ of the screen (at the highest position of the topmost stack), it is active or running. This is usually the activity that the user is currently interacting with.\n",
    "* If an activity has lost focus but is still presented to the user, it is __visible__. It is possible if a new non-full-sized or transparent activity has focus on top of your activity, another activity has higher position in multi-window mode, or the activity itself is not focusable in current windowing mode. Such activity is completely alive (it maintains all state and member information and remains attached to the window manager).\n",
    "* If an activity is completely obscured by another activity, it is __stopped or hidden__. It still retains all state and member information, however, it is no longer visible to the user so its window is hidden and it will often be killed by the system when memory is needed elsewhere.\n",
    "* The system can drop the activity from memory by either asking it to finish, or simply killing its process, making it __destroyed__. When it is displayed again to the user, it must be completely restarted and restored to its previous state.\n",
    "\n",
    "The following diagram shows the important state paths of an Activity. The square rectangles represent callback methods you can implement to perform operations when the Activity moves between states. The colored ovals are major states the Activity can be in."
   ]
  },
  {
   "cell_type": "markdown",
   "id": "b580235b-843a-4792-b6f2-d9a259d91110",
   "metadata": {},
   "source": [
    "![Android lifecycle paths](https://developer.android.com/images/activity_lifecycle.png)"
   ]
  },
  {
   "cell_type": "markdown",
   "id": "9a62e102-c6cd-4476-9213-9bcbabb2cd25",
   "metadata": {},
   "source": [
    "##### *3 Key loops*\n",
    "\n",
    "There are three key loops you may be interested in monitoring within your activity:\n",
    "\n",
    "* The __entire lifetime__ of an activity happens between the first call to __onCreate(Bundle) through to a single final call to onDestroy()__. An activity will do all setup of \"global\" state in onCreate(), and release all remaining resources in onDestroy(). For example, if it has a thread running in the background to download data from the network, it may create that thread in onCreate() and then stop the thread in onDestroy().\n",
    "* The __visible lifetime__ of an activity happens between a call to __onStart() until a corresponding call to onStop()__. During this time the user can see the activity on-screen, though it may not be in the foreground and interacting with the user. Between these two methods you can maintain resources that are needed to show the activity to the user. For example, you can register a BroadcastReceiver in onStart() to monitor for changes that impact your UI, and unregister it in onStop() when the user no longer sees what you are displaying. The onStart() and onStop() methods can be called multiple times, as the activity becomes visible and hidden to the user.\n",
    "* The __foreground lifetime__ of an activity happens between a call to __onResume() until a corresponding call to onPause()__. During this time the activity is in visible, active and interacting with the user. An activity can frequently go between the resumed and paused states -- for example when the device goes to sleep, when an activity result is delivered, when a new intent is delivered -- so the code in these methods should be fairly lightweight.\n",
    "\n",
    "The entire lifecycle of an activity is defined by the following Activity methods. All of these are hooks that you can override to do appropriate work when the activity changes state. All activities will implement onCreate(Bundle) to do their initial setup; many will also implement onPause() to commit changes to data and prepare to pause interacting with the user, and onStop() to handle no longer being visible on screen. You should always call up to your superclass when implementing these methods."
   ]
  },
  {
   "cell_type": "code",
   "execution_count": null,
   "id": "da966717-4503-42ee-aa0c-57164fe6bf8d",
   "metadata": {},
   "outputs": [],
   "source": [
    " public class Activity extends ApplicationContext {\n",
    " \n",
    "     protected void onCreate(Bundle savedInstanceState);\n",
    "\n",
    "     protected void onStart();\n",
    "\n",
    "     protected void onRestart();\n",
    "\n",
    "     protected void onResume();\n",
    "\n",
    "     protected void onPause();\n",
    "\n",
    "     protected void onStop();\n",
    "\n",
    "     protected void onDestroy();\n",
    "     \n",
    "     \n",
    "     //called when the activity is put in a bacground state by onStop(), in \n",
    "     // order to save any activity state as a bundle, that will be\n",
    "     // passed to onCreate if the activity has to be started again.\n",
    "     protected void onSavedInstanceState();\n",
    " }"
   ]
  },
  {
   "cell_type": "markdown",
   "id": "a518a650-3dc3-4887-bfea-b561987bfb7d",
   "metadata": {},
   "source": [
    "|Method|Description|Killable?|Next|\n",
    "|:----|----|----|----:|\n",
    "|__onCreate()__|Called when the activity is first created. This is where you should do all of your normal static set up: create views, bind data to lists, etc. This method also provides you with a Bundle containing the activity's previously frozen state, if there was one. Always followed by onStart().|No|onStart()|\n",
    "|__onRestart()__|Called after your activity has been stopped, prior to it being started again. Always followed by onStart()|No|onStart()|\n",
    "|__onStart()__| Called when the activity is becoming visible to the user. Followed by onResume() if the activity comes to the foreground, or onStop() if it becomes hidden.|No|onResume() or onStop()|\n",
    "|__onResume()__|Called when the activity will start interacting with the user. At this point your activity is at the top of its activity stack, with user input going to it.Always followed by onPause().|No|onPause()|\n",
    "|__onPause()__|Called when the activity loses foreground state, is no longer focusable or before transition to stopped/hidden or destroyed state. The activity is still visible to user, so it's recommended to keep it visually active and continue updating the UI. Implementations of this method must be very quick because the next activity will not be resumed until this method returns. Followed by either onResume() if the activity returns back to the front, or onStop() if it becomes invisible to the user.|Pre-Build.VERSION_CODES.HONEYCOMB|onResume() or onStop()|\n",
    "|__onStop()__|Called when the activity is no longer visible to the user. This may happen either because a new activity is being started on top, an existing one is being brought in front of this one, or this one is being destroyed. This is typically used to stop animations and refreshing the UI, etc. Followed by either onRestart() if this activity is coming back to interact with the user, or onDestroy() if this activity is going away. | Yes | onRestart() or onDestroy() |\n",
    "|__onDestroy()__|The final call you receive before your activity is destroyed. This can happen either because the activity is finishing (someone called Activity#finish on it), or because the system is temporarily destroying this instance of the activity to save space. You can distinguish between these two scenarios with the isFinishing() method.|Yes|nothing|"
   ]
  },
  {
   "cell_type": "markdown",
   "id": "2fd2697d-7c8d-4f43-8644-4b61a0d79d01",
   "metadata": {},
   "source": [
    "Note the \"Killable\" column in the above table -- __for those methods that are marked as being killable, after that method returns the process hosting the activity may be killed by the system at any time without another line of its code being executed__. Because of this, __you should use the onPause() method to write any persistent data (such as user edits) to storage__. In addition, __the method onSaveInstanceState(android.os.Bundle) is called before placing the activity in such a background state, allowing you to save away any dynamic instance state in your activity into the given Bundle, to be later received in onCreate(Bundle) if the activity needs to be re-created__. See the Process Lifecycle section for more information on how the lifecycle of a process is tied to the activities it is hosting. Note that it is important to save persistent data in onPause() instead of onSaveInstanceState(Bundle) because the latter is not part of the lifecycle callbacks, so will not be called in every situation as described in its documentation."
   ]
  },
  {
   "cell_type": "markdown",
   "id": "fde754c4-c2c9-4f62-8298-174212db53e0",
   "metadata": {},
   "source": [
    "##### *What happens when the device configuration changes?*\n",
    "\n",
    "If the configuration of the device (as defined by the __Resources.Configuration class__) changes, then anything displaying a user interface will need to update to match that configuration. Because Activity is the primary mechanism for interacting with the user, it includes special support for handling configuration changes.\n",
    "\n",
    "Unless you specify otherwise, a configuration change (such as a change in screen orientation, language, input devices, etc) __will cause your current activity to be destroyed__, going through the normal activity lifecycle process of onPause(), onStop(), and onDestroy() as appropriate. If the activity had been in the foreground or visible to the user, once onDestroy() is called in that instance then __a new instance of the activity will be created__, with whatever savedInstanceState the previous instance had generated from onSaveInstanceState(Bundle).\n",
    "\n",
    "This is done because any application resource, including layout files, can change based on any configuration value. Thus the only safe way to handle a configuration change is to re-retrieve all resources, including layouts, drawables, and strings. Because activities must already know how to save their state and re-create themselves from that state, this is a convenient way to have an activity restart itself with a new configuration."
   ]
  },
  {
   "cell_type": "markdown",
   "id": "5f3d7a3e-e021-411b-ae57-eee5cba838d2",
   "metadata": {},
   "source": [
    "##### *How to avoid restarting activity due to configuraiton changes*\n",
    "\n",
    "In some special cases, you may want to bypass restarting of your activity based on one or more types of configuration changes. This is done with the __android:configChanges attribute in its manifest__. For any types of configuration changes you say that you handle there, __you will receive a call to your current activity's onConfigurationChanged(Configuration) method instead of being restarted__. If a configuration change involves any that you do not handle, however, the activity will still be restarted and onConfigurationChanged(Configuration) will not be called."
   ]
  },
  {
   "cell_type": "markdown",
   "id": "385f2155-edae-4d25-91da-2a845e319ad0",
   "metadata": {},
   "source": [
    "#### Tracking Lifecycle methods during development"
   ]
  },
  {
   "cell_type": "markdown",
   "id": "bcc6e6b6-39c4-4abe-aea6-27efd24a6a6c",
   "metadata": {},
   "source": [
    "##### *Using Log.d() inside lifecycle methods to track lifecycle of activity*\n",
    "\n",
    "You can place a __Log.d()__ statement inside each of the lifecycle methods to see which methods are executed and in which order, and then log them when the application runs in the logcat console."
   ]
  },
  {
   "cell_type": "code",
   "execution_count": null,
   "id": "fd40fde1-71c1-433b-a095-a7c4e3093fcf",
   "metadata": {},
   "outputs": [],
   "source": [
    "package com.example.lifecycle\n",
    "\n",
    "import androidx.appcompat.app.AppCompatActivity\n",
    "import android.os.Bundle\n",
    "import android.os.PersistableBundle\n",
    "import android.util.Log\n",
    "\n",
    "class MainActivity : AppCompatActivity() {\n",
    "    override fun onCreate(savedInstanceState: Bundle?) {\n",
    "        super.onCreate(savedInstanceState)\n",
    "        setContentView(R.layout.activity_main)\n",
    "        Log.d(\"Message\",\"onCreate\")\n",
    "    }\n",
    "\n",
    "    override fun onStart() {\n",
    "        super.onStart()\n",
    "        Log.d(\"Message\",\"onStart\")\n",
    "    }\n",
    "\n",
    "    override fun onRestart() {\n",
    "        super.onRestart()\n",
    "        Log.d(\"Message\",\"onReStart\")\n",
    "    }\n",
    "\n",
    "    override fun onResume() {\n",
    "        super.onResume()\n",
    "        Log.d(\"Message\",\"onResume\")\n",
    "    }\n",
    "\n",
    "    override fun onPause() {\n",
    "        super.onPause()\n",
    "        Log.d(\"Message\",\"onPause\")\n",
    "    }\n",
    "\n",
    "    override fun onStop() {\n",
    "        super.onStop()\n",
    "        Log.d(\"Message\",\"onStop\")\n",
    "\n",
    "    }\n",
    "\n",
    "    override fun onDestroy() {\n",
    "        super.onDestroy()\n",
    "        Log.d(\"Message\",\"onDestroy\")\n",
    "    }\n",
    "\n",
    "\n",
    "    override fun onSaveInstanceState(outState: Bundle) {\n",
    "        super.onSaveInstanceState(outState)\n",
    "        Log.d(\"Message\",\"onSaveInstance\")\n",
    "    }\n",
    "}"
   ]
  },
  {
   "cell_type": "markdown",
   "id": "546dd79f-0226-49ad-b870-2e1b19ba9000",
   "metadata": {},
   "source": [
    "the output will look something like this:"
   ]
  },
  {
   "cell_type": "code",
   "execution_count": null,
   "id": "31cae4e8-c462-4894-8242-d0207d529621",
   "metadata": {},
   "outputs": [],
   "source": [
    "2021-12-04 11:27:57.359 20319-20319/com.example.lifecycle D/Message: onStop\n",
    "2021-12-04 11:27:57.367 20319-20319/com.example.lifecycle D/Message: onSaveInstance\n",
    "2021-12-04 11:28:45.220 20319-20319/com.example.lifecycle D/Message: onReStart\n",
    "2021-12-04 11:28:45.222 20319-20319/com.example.lifecycle D/Message: onStart\n",
    "2021-12-04 11:28:45.226 20319-20319/com.example.lifecycle D/Message: onResume"
   ]
  },
  {
   "cell_type": "markdown",
   "id": "2783fe51-6fb7-4fc0-a03a-df3a89df9704",
   "metadata": {},
   "source": [
    "##### *How do two activities' lifecycle methods interact?*\n",
    "\n",
    "When a second activity is launched, the first one is paused, then the second activity is started, the first activity is stopped once the second starts running"
   ]
  },
  {
   "cell_type": "code",
   "execution_count": null,
   "id": "a4963b7a-488a-4395-83dd-6a240afdb04a",
   "metadata": {},
   "outputs": [],
   "source": [
    "2021-12-04 11:27:57.359 20319-20319/com.example.lifecycle D/Message: First Activity onPause\n",
    "2021-12-04 11:27:57.367 20319-20319/com.example.lifecycle D/Message: Second Activity onCreate\n",
    "2021-12-04 11:28:45.220 20319-20319/com.example.lifecycle D/Message: Second Activity onStart()\n",
    "2021-12-04 11:28:45.222 20319-20319/com.example.lifecycle D/Message: Second Activity onResume()\n",
    "2021-12-04 11:28:45.226 20319-20319/com.example.lifecycle D/Message: First Activity onStop()"
   ]
  },
  {
   "cell_type": "markdown",
   "id": "83310db0-7d74-427b-ad68-8ca5487f32e3",
   "metadata": {},
   "source": [
    "### Fragment Lifecycle"
   ]
  },
  {
   "cell_type": "markdown",
   "id": "8d58c43e-e6c2-4d43-8ca6-f4b13ac1025b",
   "metadata": {},
   "source": [
    "##### *Tracking lifcycle changes*\n",
    "\n",
    "The fragment Lifecycle can be tracked by placing __Log__ statements inside the lifecycle methods"
   ]
  },
  {
   "cell_type": "code",
   "execution_count": null,
   "id": "47fa061f-f064-4142-bcea-ccdd6d120a97",
   "metadata": {},
   "outputs": [],
   "source": [
    "package com.example.fragment\n",
    "\n",
    "import android.content.Context\n",
    "import android.os.Bundle\n",
    "import android.util.Log\n",
    "import android.view.LayoutInflater\n",
    "import android.view.View\n",
    "import android.view.ViewGroup\n",
    "import androidx.fragment.app.Fragment\n",
    "\n",
    "class FragmentExample:Fragment() {\n",
    "\n",
    "    override fun onAttach(context: Context) {\n",
    "        super.onAttach(context)\n",
    "        Log.i(\"fragmentx\",\"onAttach\")\n",
    "    }\n",
    "\n",
    "    override fun onCreate(savedInstanceState: Bundle?) {\n",
    "        super.onCreate(savedInstanceState)\n",
    "        Log.i(\"fragmentx\",\"onCreate\")\n",
    "    }\n",
    "\n",
    "    override fun onCreateView(\n",
    "        inflater: LayoutInflater,\n",
    "        container: ViewGroup?,\n",
    "        savedInstanceState: Bundle?\n",
    "    ): View? {\n",
    "\n",
    "        Log.i(\"fragmentx\",\"onCreateView\")\n",
    "\n",
    "        return inflater.inflate(\n",
    "            R.layout.fragment_new,\n",
    "            container,\n",
    "            false\n",
    "        )\n",
    "\n",
    "    }\n",
    "\n",
    "    override fun onViewCreated(view: View, savedInstanceState: Bundle?) {\n",
    "        super.onViewCreated(view, savedInstanceState)\n",
    "        Log.i(\"fragmentx\",\"onCreated\")\n",
    "    }\n",
    "\n",
    "    override fun onStart() {\n",
    "        super.onStart()\n",
    "        Log.i(\"fragmentx\",\"onStart\")\n",
    "    }\n",
    "\n",
    "    override fun onResume() {\n",
    "        super.onResume()\n",
    "        Log.i(\"fragmentx\",\"onResume\")\n",
    "    }\n",
    "\n",
    "    override fun onPause() {\n",
    "        super.onPause()\n",
    "        Log.i(\"fragmentx\",\"onPause\")\n",
    "    }\n",
    "\n",
    "    override fun onStop() {\n",
    "        super.onStop()\n",
    "        Log.i(\"fragmentx\",\"onStop\")\n",
    "    }\n",
    "\n",
    "    override fun onDestroyView() {\n",
    "        super.onDestroyView()\n",
    "        Log.i(\"fragmentx\",\"onDestroyView\")\n",
    "    }\n",
    "\n",
    "    override fun onDestroy() {\n",
    "        super.onDestroy()\n",
    "        Log.i(\"fragmentx\",\"onDestroy\")\n",
    "    }\n",
    "\n",
    "    override fun onDetach() {\n",
    "        super.onDetach()\n",
    "        Log.i(\"fragmentx\",\"onDetach\")\n",
    "    }\n",
    "\n",
    "\n",
    "}"
   ]
  },
  {
   "cell_type": "markdown",
   "id": "6943cd52-2513-42f2-90bd-20c3d9acdaff",
   "metadata": {},
   "source": [
    "The output looks something like this"
   ]
  },
  {
   "cell_type": "code",
   "execution_count": null,
   "id": "1092ab46-b96a-4f17-a0ca-d73ec5d29441",
   "metadata": {},
   "outputs": [],
   "source": [
    "2021-12-04 13:40:15.041 32243-32243/com.example.fragment I/fragmentx: onAttach\n",
    "2021-12-04 13:40:15.042 32243-32243/com.example.fragment I/fragmentx: onCreate\n",
    "2021-12-04 13:40:15.049 32243-32243/com.example.fragment I/fragmentx: onCreateView\n",
    "2021-12-04 13:40:15.060 32243-32243/com.example.fragment I/fragmentx: onCreated\n",
    "2021-12-04 13:40:15.062 32243-32243/com.example.fragment I/fragmentx: onStart\n",
    "2021-12-04 13:40:15.067 32243-32243/com.example.fragment I/fragmentx: onResume\n",
    "2021-12-04 13:41:12.369 32243-32243/com.example.fragment I/fragmentx: onPause\n",
    "2021-12-04 13:41:13.068 32243-32243/com.example.fragment I/fragmentx: onStop"
   ]
  },
  {
   "cell_type": "markdown",
   "id": "8d318be4-b415-4503-9b47-76fa093fa5bb",
   "metadata": {},
   "source": [
    "Interaction between Activity and Fragment lifecycle"
   ]
  },
  {
   "cell_type": "code",
   "execution_count": null,
   "id": "953b4930-739d-4cfa-be19-9fe9062d0095",
   "metadata": {},
   "outputs": [],
   "source": [
    "2021-12-04 13:57:51.625 7104-7104/com.example.fragment I/fragmentx: onAttach\n",
    "2021-12-04 13:57:51.626 7104-7104/com.example.fragment I/fragmentx: onCreate\n",
    "2021-12-04 13:57:51.628 7104-7104/com.example.fragment I/fragmentx: main onCreate\n",
    "2021-12-04 13:57:51.632 7104-7104/com.example.fragment I/fragmentx: onCreateView\n",
    "2021-12-04 13:57:51.643 7104-7104/com.example.fragment I/fragmentx: onCreated\n",
    "2021-12-04 13:57:51.646 7104-7104/com.example.fragment I/fragmentx: onStart\n",
    "2021-12-04 13:57:51.646 7104-7104/com.example.fragment I/fragmentx: main onStart\n",
    "2021-12-04 13:57:51.650 7104-7104/com.example.fragment I/fragmentx: main onResume\n",
    "2021-12-04 13:57:51.650 7104-7104/com.example.fragment I/fragmentx: onResume\n",
    "2021-12-04 13:59:44.625 7104-7104/com.example.fragment I/fragmentx: onPause\n",
    "2021-12-04 13:59:44.626 7104-7104/com.example.fragment I/fragmentx: main onPause\n",
    "2021-12-04 13:59:45.334 7104-7104/com.example.fragment I/fragmentx: onStop\n",
    "2021-12-04 13:59:45.336 7104-7104/com.example.fragment I/fragmentx: main onStop\n",
    "2021-12-04 14:00:08.614 7104-7104/com.example.fragment I/fragmentx: onDestroyView"
   ]
  },
  {
   "cell_type": "markdown",
   "id": "42eceb02-6f37-408c-83df-5ada7d357cd1",
   "metadata": {},
   "source": [
    "### Services"
   ]
  },
  {
   "cell_type": "markdown",
   "id": "69a3c348-48d2-48f1-aafa-76e9df1e2759",
   "metadata": {},
   "source": [
    "A Service is an application component that can perform log-running operations in the bacground\n",
    "\n",
    "Services do not have a user interface\n",
    "\n",
    "Another application component can start a service"
   ]
  },
  {
   "cell_type": "markdown",
   "id": "2dde8b82-ee60-45c4-a69b-6ef1fc5eeef0",
   "metadata": {},
   "source": [
    "#### Types of Services\n",
    "\n",
    "##### *Foreground Services*\n",
    "\n",
    "Foreground services are services that the user can see and interact with, like download statuses etc.\n",
    "\n",
    "##### *Background Services*\n",
    "\n",
    "Background services are services that the user don't see or interact with directly, like an image compression service that runs in the background when a user saves an image to their phone\n",
    "\n",
    "##### *Bound Services*\n",
    "\n",
    "Dependend on the component that calls the service, when the component stops, so does the service. This is a client-server relationship. Like a music player, that has services that supply the player with data."
   ]
  },
  {
   "cell_type": "markdown",
   "id": "ae1bd86a-3d5f-43cc-ba1c-36a3fac240b7",
   "metadata": {},
   "source": [
    "#### Creating a Service using a service Class"
   ]
  },
  {
   "cell_type": "markdown",
   "id": "f491d42e-b6cb-41f1-848a-4835b69aa251",
   "metadata": {},
   "source": [
    "##### *What are Service Classes*\n",
    "\n",
    "Takes on the whole service by itself. Used for small tasks as it uses the applications main thread, which will slow down the application if the task is too big\n",
    "\n",
    "##### *Create a Service class*\n",
    "\n",
    "The class extends the Service() class"
   ]
  },
  {
   "cell_type": "code",
   "execution_count": null,
   "id": "7370ebdf-9863-4b69-82b4-5e0cf54ac5e0",
   "metadata": {},
   "outputs": [],
   "source": [
    "package com.example.services\n",
    "\n",
    "import android.app.Service\n",
    "import android.content.Intent\n",
    "import android.os.IBinder\n",
    "import android.util.Log\n",
    "\n",
    "class ClassicServicesExample: Service() {\n",
    "\n",
    "    //For creating a bound service\n",
    "    override fun onBind(p0: Intent?): IBinder? {\n",
    "        return null //not implemented\n",
    "    }\n",
    "\n",
    "    override fun onCreate() {\n",
    "        super.onCreate()\n",
    "    }\n",
    "\n",
    "    //The operations that run once the service has started\n",
    "    override fun onStartCommand(intent: Intent?, flags: Int, startId: Int): Int {\n",
    "\n",
    "        Log.d(\"Service\",\"Classic service is created\")\n",
    "        Log.d(\"Service Thread\",Thread.currentThread().name)\n",
    "\n",
    "        //The stopSelf() command will stop services automatically\n",
    "        //once the service has finished it's task\n",
    "        //stopSelf()\n",
    "\n",
    "        return super.onStartCommand(intent, flags, startId)\n",
    "    }\n",
    "\n",
    "    //Operations that run when the service stops\n",
    "    override fun onDestroy() {\n",
    "        super.onDestroy()\n",
    "        Log.d(\"Service\",\"Classic service has stopped\")\n",
    "    }\n",
    "}"
   ]
  },
  {
   "cell_type": "markdown",
   "id": "a042c9f0-9bc2-4b41-954f-ea45ad4b33ac",
   "metadata": {},
   "source": [
    "##### *Register service in the Manifest file*\n",
    "\n",
    "Place the entry just below the closing </activity> tag"
   ]
  },
  {
   "cell_type": "code",
   "execution_count": null,
   "id": "9e36eb80-a5f1-4c6d-a91c-c4bbe73dbf70",
   "metadata": {},
   "outputs": [],
   "source": [
    "<service android:name=\".ClassicServicesExample\"/>"
   ]
  },
  {
   "cell_type": "markdown",
   "id": "e3299c6c-c8ba-41d5-8b31-b272d266026b",
   "metadata": {},
   "source": [
    "##### *Implement service in Activity class*"
   ]
  },
  {
   "cell_type": "code",
   "execution_count": null,
   "id": "d6e5fa36-b483-40d4-8450-90889ca8fcb0",
   "metadata": {},
   "outputs": [],
   "source": [
    "package com.example.services\n",
    "\n",
    "import android.content.Intent\n",
    "import androidx.appcompat.app.AppCompatActivity\n",
    "import android.os.Bundle\n",
    "import android.widget.Button\n",
    "\n",
    "class MainActivity : AppCompatActivity() {\n",
    "\n",
    "    lateinit var startClassicService: Button\n",
    "    lateinit var stopClassicService: Button\n",
    "\n",
    "    override fun onCreate(savedInstanceState: Bundle?) {\n",
    "        super.onCreate(savedInstanceState)\n",
    "        setContentView(R.layout.activity_main)\n",
    "\n",
    "        startClassicService = findViewById(R.id.btnStart)\n",
    "        stopClassicService = findViewById(R.id.btnStop)\n",
    "\n",
    "        startClassicService.setOnClickListener{\n",
    "        \n",
    "            //create an intent for the service\n",
    "           val intent = Intent(\n",
    "               this@MainActivity,\n",
    "               ClassicServicesExample::class.java //the service class file\n",
    "           )\n",
    "            //The start service function calls the method on the\n",
    "            //onStartCommand Service class\n",
    "            startService(intent)\n",
    "\n",
    "        }\n",
    "\n",
    "        stopClassicService.setOnClickListener{\n",
    "        \n",
    "            //create an intent for the service\n",
    "            val intent = Intent(\n",
    "                this@MainActivity,\n",
    "                ClassicServicesExample::class.java\n",
    "            )\n",
    "            \n",
    "            //stopService calls the onDestroy method of the Service class\n",
    "            stopService(intent)\n",
    "        }\n",
    "\n",
    "        \n",
    "    }\n",
    "\n",
    "\n",
    "}"
   ]
  },
  {
   "cell_type": "markdown",
   "id": "1570f9b1-8625-4470-a761-7c25fe6cb7f1",
   "metadata": {},
   "source": [
    "#### Creating a Service Using a JobIntentService Class"
   ]
  },
  {
   "cell_type": "markdown",
   "id": "ca45304f-7afc-42f8-850a-020d9fed0b28",
   "metadata": {},
   "source": [
    "##### *What are JobIntentService Classes*\n",
    "\n",
    "A sub-class of the Services class, that does not use the application's main thread, it creates work threads by requesting resources from the Operating System. The Job Intent Service Class is used in \"long-term\" background services"
   ]
  },
  {
   "cell_type": "markdown",
   "id": "3c601768-3db7-42f1-abc1-3c17e6750f06",
   "metadata": {},
   "source": [
    "##### *Creating a JobIntentService Class*"
   ]
  },
  {
   "cell_type": "code",
   "execution_count": null,
   "id": "91efc76c-6cab-4c97-b51f-6bd8ecf0bed1",
   "metadata": {},
   "outputs": [],
   "source": [
    "package com.example.services\n",
    "\n",
    "import android.content.Context\n",
    "import android.content.Intent\n",
    "import android.util.Log\n",
    "import androidx.core.app.JobIntentService\n",
    "\n",
    "class JobIntentServiceExample: JobIntentService() {\n",
    "\n",
    "    //This is where tasks are specified\n",
    "    override fun onHandleWork(intent: Intent) {\n",
    "        Log.d(\"Service\",\"JobIntentService has started\")\n",
    "        Log.d(\"Service Thread\",Thread.currentThread().name)\n",
    "    }\n",
    "    \n",
    "    //companion object properties and methods will only be accessible through\n",
    "    //the class and will not be inherited by children. \n",
    "    companion object{\n",
    "        fun myBackgroundService(context: Context, intent:Intent){\n",
    "            //Queues the work\n",
    "            enqueueWork(\n",
    "                context,\n",
    "                JobIntentServiceExample::class.java, //the class\n",
    "                1, //job Id\n",
    "                intent //work to be done\n",
    "            )\n",
    "\n",
    "        }\n",
    "    }\n",
    "\n",
    "    override fun onDestroy() {\n",
    "        super.onDestroy()\n",
    "        Log.d(\"Service\",\"Job Intent Service has stopped\")\n",
    "    }\n",
    "}"
   ]
  },
  {
   "cell_type": "markdown",
   "id": "c24a3d00-4c6c-4f82-963a-586775a866e8",
   "metadata": {},
   "source": [
    "##### *Register Service and Set Permissions in Manifest file*"
   ]
  },
  {
   "cell_type": "code",
   "execution_count": null,
   "id": "a9444e13-ceb8-476a-8bf3-7e73b9490b4b",
   "metadata": {},
   "outputs": [],
   "source": [
    "<manifest>\n",
    "    <uses-permission android:name=\"android.permission.WAKE_LOCK\"/>\n",
    "    ...\n",
    "    <application>\n",
    "        ...\n",
    "        <service\n",
    "                    android:name=\".JobIntentServiceExample\"\n",
    "                    android:permission=\"android.permission.BIND_JOB_SERVICE\"/>\n",
    "    </application>\n",
    "</manifest>"
   ]
  },
  {
   "cell_type": "markdown",
   "id": "93704296-ee7e-4eb3-9bf9-9f2c7d3f4173",
   "metadata": {},
   "source": [
    "##### *Implement Service in Activity class*"
   ]
  },
  {
   "cell_type": "code",
   "execution_count": null,
   "id": "45c0be7c-cf3d-4f70-8a7f-056e7cd2a715",
   "metadata": {},
   "outputs": [],
   "source": [
    "package com.example.services\n",
    "\n",
    "import android.content.Intent\n",
    "import androidx.appcompat.app.AppCompatActivity\n",
    "import android.os.Bundle\n",
    "import android.widget.Button\n",
    "\n",
    "class MainActivity : AppCompatActivity() {\n",
    "\n",
    " \n",
    "    lateinit var startJobIntentService: Button\n",
    "\n",
    "\n",
    "    override fun onCreate(savedInstanceState: Bundle?) {\n",
    "        super.onCreate(savedInstanceState)\n",
    "        setContentView(R.layout.activity_main)\n",
    "\n",
    "\n",
    "        startJobIntentService = findViewById(R.id.btnJob)\n",
    "\n",
    "\n",
    "        startJobIntentService.setOnClickListener{\n",
    "            val intent = Intent(\n",
    "                this@MainActivity,\n",
    "                JobIntentServiceExample::class.java\n",
    "            )\n",
    "            \n",
    "            //Instead of startService call the custom method on class\n",
    "            //that implements enqueueWork()\n",
    "            //No need to stop Service as it will stop on its own\n",
    "            JobIntentServiceExample.myBackgroundService(\n",
    "                this@MainActivity,\n",
    "                intent\n",
    "            )\n",
    "        }\n",
    "    }\n",
    "\n",
    "\n",
    "}"
   ]
  },
  {
   "cell_type": "markdown",
   "id": "6bc7b5b7-2127-4733-858c-5151b3abdee3",
   "metadata": {},
   "source": [
    "### Recievers"
   ]
  },
  {
   "cell_type": "markdown",
   "id": "defb8e64-cc1e-4cf2-b5f8-b861e63d7763",
   "metadata": {},
   "source": [
    "The OS broadcasts events to applications that have subscribed to receive a particular event"
   ]
  },
  {
   "cell_type": "markdown",
   "id": "81010f9a-4d21-4582-829f-0ad63616ec76",
   "metadata": {},
   "source": [
    "#### Creating a Broadcast Receiver\n",
    "\n",
    "There are two ways to create a broadcast receiver 1. The Manifest File, or 2. A Java class. \n",
    "\n",
    "Note that for API 26 and later, Broadcast Receivers must be implemented with a Java class."
   ]
  },
  {
   "cell_type": "markdown",
   "id": "267fade4-b94f-46c3-8237-c1c88cdb1696",
   "metadata": {},
   "source": [
    " \n",
    "\n",
    "##### *First Create a Receiver Class*\n",
    "\n",
    "The class should extend teh BroadcastReceiver() class and implement it's onReceive method. \n",
    "\n",
    "The onReceive() method is called anytime a registered event is broadcast."
   ]
  },
  {
   "cell_type": "code",
   "execution_count": null,
   "id": "6bbb108b-e0a8-49bd-92ac-feda48706c47",
   "metadata": {},
   "outputs": [],
   "source": [
    "package com.example.receiver\n",
    "\n",
    "import android.content.BroadcastReceiver\n",
    "import android.content.Context\n",
    "import android.content.Intent\n",
    "import android.widget.Toast\n",
    "\n",
    "class BroadcastExample: BroadcastReceiver() {\n",
    "\n",
    "    override fun onReceive(context: Context?, intent: Intent?) {\n",
    "        \n",
    "      //There is a boolean variable on the intent that indicates the\n",
    "      //state of the event called \"state\"\n",
    "        val isAirplaneMode: Boolean = intent!!.getBooleanExtra(\n",
    "            \"state\",\n",
    "            false\n",
    "        )\n",
    "\n",
    "        //What to do once event is received\n",
    "        if(isAirplaneMode){\n",
    "            Toast.makeText(\n",
    "                context,\n",
    "                \"The device is in airplane mode\",\n",
    "                Toast.LENGTH_LONG\n",
    "            ).show()\n",
    "        } else {\n",
    "            Toast.makeText(\n",
    "                context,\n",
    "                \"The device is not in airplane mode\",\n",
    "                Toast.LENGTH_LONG\n",
    "            ).show()\n",
    "        }\n",
    "\n",
    "\n",
    "    }\n",
    "}"
   ]
  },
  {
   "cell_type": "markdown",
   "id": "3a5eb0f2-79ee-4c5a-9109-ae4b2b50e025",
   "metadata": {},
   "source": [
    "##### *If api 26 and above, implement receiver in the activity class*"
   ]
  },
  {
   "cell_type": "code",
   "execution_count": null,
   "id": "63a3767a-4801-48f6-a25a-9b680d2b9546",
   "metadata": {},
   "outputs": [],
   "source": [
    "class MainActivity : AppCompatActivity() {\n",
    "    \n",
    "    //implement class\n",
    "    var receiver = BroadcastExample()\n",
    "\n",
    "    override fun onCreate(savedInstanceState: Bundle?) {\n",
    "        super.onCreate(savedInstanceState)\n",
    "        setContentView(R.layout.activity_main)\n",
    "\n",
    "        //create a filter\n",
    "        val filter = IntentFilter()\n",
    "        \n",
    "        //Add the action to filter for\n",
    "        filter.addAction(Intent.ACTION_AIRPLANE_MODE_CHANGED)\n",
    "        \n",
    "        //Register the receiver\n",
    "        this.registerReceiver(receiver,filter)\n",
    "    }\n",
    "\n",
    "    //implement the method onsTart()\n",
    "    override fun onStart() {\n",
    "        super.onStart()\n",
    "        val filter = IntentFilter()\n",
    "        filter.addAction(Intent.ACTION_AIRPLANE_MODE_CHANGED)\n",
    "        this.registerReceiver(receiver,filter)\n",
    "    }\n",
    "\n",
    "    //Cleanup receiver onStop\n",
    "    override fun onStop() {\n",
    "        super.onStop()\n",
    "        this.unregisterReceiver(receiver)\n",
    "    }\n",
    "\n",
    "\n",
    "}"
   ]
  },
  {
   "cell_type": "markdown",
   "id": "5878946e-8543-4a31-977f-fcaba5c492bc",
   "metadata": {},
   "source": [
    "##### *for api 25 and below, register receiver in manifest file*\n",
    "\n",
    "When android:exported is set to false, the app will only be able to receive events from within the app itself."
   ]
  },
  {
   "cell_type": "code",
   "execution_count": null,
   "id": "906811cb-3eee-4889-9151-e379d82ac608",
   "metadata": {},
   "outputs": [],
   "source": [
    "<manifest xmlns:android=\"http://schemas.android.com/apk/res/android\"\n",
    "    package=\"com.example.receiver\">\n",
    "\n",
    "    <application\n",
    "        ...\n",
    "        <activity\n",
    "            ...\n",
    "        </activity>\n",
    "\n",
    "        <receiver\n",
    "            android:name=\".BroadcastExample\"\n",
    "            android:exported=\"true\"> \n",
    "            <intent-filter>\n",
    "                <action android:name=\"android.intent.action.AIRPLANE_MODE\"/>\n",
    "            </intent-filter>\n",
    "        </receiver>\n",
    "        \n",
    "    </application>\n",
    "</manifest>"
   ]
  },
  {
   "cell_type": "markdown",
   "id": "8a88e170-c15d-42a5-b19d-a6def54692e8",
   "metadata": {},
   "source": [
    "### View Binding\n",
    "\n",
    "##### *Specifiy view binding in the build.gradle (module view)*"
   ]
  },
  {
   "cell_type": "code",
   "execution_count": null,
   "id": "4f705310-b6f0-463f-ba00-90a2fb72b379",
   "metadata": {},
   "outputs": [],
   "source": [
    "android {\n",
    "    buildFeatures{\n",
    "        viewBinding = true\n",
    "    }\n",
    "}"
   ]
  },
  {
   "cell_type": "markdown",
   "id": "80c09192-91de-4b2a-b257-37a7a015cbc7",
   "metadata": {},
   "source": [
    "##### *implement binding in activity class*\n",
    "\n",
    "NOTE: in order to be able to access a view on the mainBinding, the view must have an id specified."
   ]
  },
  {
   "cell_type": "code",
   "execution_count": null,
   "id": "c352667e-eda1-45d0-99ed-e005ec2562f8",
   "metadata": {},
   "outputs": [],
   "source": [
    "lateinit var mainBinding: ActivityMainBinding\n",
    "\n",
    "override fun onCreate(savedInstanceState: Bundle?){\n",
    "    super.onCreate(savedInstanceState)\n",
    "    \n",
    "    //The mainBinding object will now represent the MainActivity object\n",
    "    mainBinding = ActivityMainBinding.inflate(layoutInflator)\n",
    "    val view = mainBinding.root\n",
    "    \n",
    "    setContentView(view)\n",
    "    \n",
    "    mainBinding.button.setOnClickListener {\n",
    "        mainBinding.myTextView.text = \"hello\"\n",
    "    }\n",
    "\n",
    "}"
   ]
  },
  {
   "cell_type": "markdown",
   "id": "7d15c732-56d7-4677-8f28-a764a736e7bf",
   "metadata": {},
   "source": [
    "### Storing Data\n",
    "\n",
    "#### SharedPreferences Class\n",
    "\n",
    "Used to store primitive data types, such as: integer, float, Boolean, string, long, in the form of a key,value pair\n",
    "\n",
    "It is managed by an adroid framework and it can be accessed anywhere within the app to read or write data into the file\n",
    "\n",
    "##### *Saving data in local storage using shared preferences*"
   ]
  },
  {
   "cell_type": "code",
   "execution_count": null,
   "id": "dee182c9-4615-4ab5-a253-be5e20b3ffe6",
   "metadata": {},
   "outputs": [],
   "source": [
    "package com.example.savedata\n",
    "\n",
    "import android.content.Context\n",
    "import android.content.SharedPreferences\n",
    "import androidx.appcompat.app.AppCompatActivity\n",
    "import android.os.Bundle\n",
    "import android.widget.EditText\n",
    "import android.widget.Toast\n",
    "import java.util.prefs.AbstractPreferences\n",
    "\n",
    "class MainActivity : AppCompatActivity() {\n",
    "\n",
    "    lateinit var sharedPreferences: SharedPreferences\n",
    "    lateinit var text: EditText\n",
    "    var name:String? = null\n",
    "\n",
    "\n",
    "    override fun onCreate(savedInstanceState: Bundle?) {\n",
    "        super.onCreate(savedInstanceState)\n",
    "        setContentView(R.layout.activity_main)\n",
    "\n",
    "        text = findViewById(R.id.myText)\n",
    "\n",
    "    }\n",
    "\n",
    "    //The onPause method is a good place to save date\n",
    "    override fun onPause() {\n",
    "        super.onPause()\n",
    "        saveData()\n",
    "    }\n",
    "    \n",
    "    //The onResume method is a good place to restore data\n",
    "    override fun onResume() {\n",
    "        super.onResume()\n",
    "        retrieveData()\n",
    "    }\n",
    "\n",
    "    \n",
    "    fun saveData(){\n",
    "        //Chreate a sharedPreferences object\n",
    "        //\"saveData\" is the name of the preferences, you can name it what you like\n",
    "        //MODE_PRIVATE prevents applications outside of app to access data\n",
    "        sharedPreferences = this.getSharedPreferences(\"saveData\", Context.MODE_PRIVATE)\n",
    "\n",
    "        //Retrieves data to be saved\n",
    "        name = text.text.toString()\n",
    "\n",
    "        //Creates an editor object\n",
    "        //that is used to edite the sharedpreferences\n",
    "        val editor = sharedPreferences.edit()\n",
    "\n",
    "        //Adds data to the editor object (Key, Value)\n",
    "        editor.putString(\"key name\",name)\n",
    "\n",
    "        //stores data\n",
    "        editor.apply()\n",
    "\n",
    "        Toast.makeText(\n",
    "            applicationContext,\n",
    "            \"Data has been saved!\",\n",
    "            Toast.LENGTH_LONG\n",
    "        ).show()\n",
    "    }\n",
    "\n",
    "    fun retrieveData(){\n",
    "        //Chreate a sharedPreferences object\n",
    "        //MODE_PRIVATE prevents applications outside of app to access data\n",
    "        sharedPreferences = this.getSharedPreferences(\"saveData\", Context.MODE_PRIVATE)\n",
    "\n",
    "        //Retrieved saved data. Takes two arguments 1.) the key and 2.) default value\n",
    "        name = sharedPreferences.getString(\"key name\",null)\n",
    "        text.setText(name)\n",
    "\n",
    "    }\n",
    "    \n",
    "}"
   ]
  }
 ],
 "metadata": {
  "kernelspec": {
   "display_name": "",
   "name": ""
  },
  "language_info": {
   "name": ""
  }
 },
 "nbformat": 4,
 "nbformat_minor": 5
}
