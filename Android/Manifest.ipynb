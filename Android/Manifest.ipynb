{
 "cells": [
  {
   "cell_type": "markdown",
   "id": "0cfe32bf-0255-4795-87c5-190c556182a0",
   "metadata": {},
   "source": [
    "# Manifest"
   ]
  },
  {
   "cell_type": "code",
   "execution_count": null,
   "id": "91757306-6e0d-4de9-ac1b-478dc5129706",
   "metadata": {},
   "outputs": [],
   "source": [
    "<?xml version=\"1.0\" encoding=\"utf-8\"?>\n",
    "<manifest xmlns:android=\"http://schemas.android.com/apk/res/android\"\n",
    "    package=\"com.example.myapplication\">\n",
    "    \n",
    "    <uses-permission android:name=\"android.permission.CALL_PHONE\"/>\n",
    "\n",
    "    <application\n",
    "        android:allowBackup=\"true\"\n",
    "        android:icon=\"@mipmap/ic_launcher\"\n",
    "        android:label=\"@string/app_name\"\n",
    "        android:roundIcon=\"@mipmap/ic_launcher_round\"\n",
    "        android:supportsRtl=\"true\"\n",
    "        android:theme=\"@style/Theme.MyApplication\">\n",
    "        <activity\n",
    "            android:name=\".MainActivity\"\n",
    "            android:exported=\"true\">\n",
    "            <intent-filter>\n",
    "                <action android:name=\"android.intent.action.MAIN\" />\n",
    "\n",
    "                <category android:name=\"android.intent.category.LAUNCHER\" />\n",
    "            </intent-filter>\n",
    "        </activity>\n",
    "    </application>\n",
    "\n",
    "</manifest>"
   ]
  },
  {
   "cell_type": "markdown",
   "id": "4ffed999-ca96-4536-b82a-fb9f0dfa28e5",
   "metadata": {},
   "source": [
    "### Activities\n",
    "\n",
    "##### *Adding an activity*\n",
    "\n",
    "The activity tag is used to add an activity to the application. If an activity exists, but is not added to the manifest file, then the app will not know that the activity exists.\n"
   ]
  },
  {
   "cell_type": "code",
   "execution_count": null,
   "id": "b04ebeb8-cfc2-41f5-95d4-46ea91e227d6",
   "metadata": {},
   "outputs": [],
   "source": [
    " <activity\n",
    "            android:name=\".MainActivity\"\n",
    "            android:exported=\"true\">\n",
    "            <intent-filter>\n",
    "                <action android:name=\"android.intent.action.MAIN\" />\n",
    "\n",
    "                <category android:name=\"android.intent.category.LAUNCHER\" />\n",
    "            </intent-filter>\n",
    "        </activity>"
   ]
  },
  {
   "cell_type": "markdown",
   "id": "a6cc5ccb-5061-4938-a1be-ecfa89b2c6b4",
   "metadata": {},
   "source": [
    "##### *Intent filters*"
   ]
  },
  {
   "cell_type": "code",
   "execution_count": null,
   "id": "a5e80457-7c06-4557-91d9-2b35eb1f531c",
   "metadata": {},
   "outputs": [],
   "source": [
    "<intent-filter>\n",
    "        <action android:name=\"android.intent.action.MAIN\" />\n",
    "\n",
    "        <category android:name=\"android.intent.category.LAUNCHER\" />\n",
    "</intent-filter>"
   ]
  }
 ],
 "metadata": {
  "kernelspec": {
   "display_name": "",
   "name": ""
  },
  "language_info": {
   "name": ""
  }
 },
 "nbformat": 4,
 "nbformat_minor": 5
}
