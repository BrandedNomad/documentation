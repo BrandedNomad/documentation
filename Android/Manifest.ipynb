{
 "cells": [
  {
   "cell_type": "markdown",
   "id": "0cfe32bf-0255-4795-87c5-190c556182a0",
   "metadata": {},
   "source": [
    "# Manifest"
   ]
  },
  {
   "cell_type": "code",
   "execution_count": null,
   "id": "9f8c7915-8eca-44f8-a04a-44bdcb285a44",
   "metadata": {},
   "outputs": [],
   "source": [
    "<?xml version=\"1.0\" encoding=\"utf-8\"?>\n",
    "<manifest xmlns:android=\"http://schemas.android.com/apk/res/android\"\n",
    "    package=\"com.example.myapplication\">\n",
    "    \n",
    "    <uses-permission android:name=\"android.permission.CALL_PHONE\"/>\n",
    "\n",
    "    <application\n",
    "        android:allowBackup=\"true\"\n",
    "        android:icon=\"@mipmap/ic_launcher\"\n",
    "        android:label=\"@string/app_name\"\n",
    "        android:roundIcon=\"@mipmap/ic_launcher_round\"\n",
    "        android:supportsRtl=\"true\"\n",
    "        android:theme=\"@style/Theme.MyApplication\">\n",
    "        <activity\n",
    "            android:name=\".MainActivity\"\n",
    "            android:exported=\"true\">\n",
    "            <intent-filter>\n",
    "                <action android:name=\"android.intent.action.MAIN\" />\n",
    "\n",
    "                <category android:name=\"android.intent.category.LAUNCHER\" />\n",
    "            </intent-filter>\n",
    "        </activity>\n",
    "    </application>\n",
    "\n",
    "</manifest>"
   ]
  }
 ],
 "metadata": {
  "kernelspec": {
   "display_name": "",
   "name": ""
  },
  "language_info": {
   "name": ""
  }
 },
 "nbformat": 4,
 "nbformat_minor": 5
}
