{
 "cells": [
  {
   "cell_type": "markdown",
   "id": "d32377bf-ca83-40f9-80f4-781890bb9176",
   "metadata": {},
   "source": [
    "# Android Operating System"
   ]
  },
  {
   "cell_type": "markdown",
   "id": "75a2f031-a359-44b8-9bc6-e4d02dfbd1ca",
   "metadata": {},
   "source": [
    "### Android Architecture\n",
    "\n",
    "Android uses a layered architecture. Each l\n",
    "\n",
    "1. Applications\n",
    "2. Application Framework\n",
    "3. Android Runtime\n",
    "4. Libraries\n",
    "5. Hardware abstraction Layer\n",
    "6. Linux Kernel"
   ]
  },
  {
   "cell_type": "markdown",
   "id": "3694f47c-6abf-4e4b-9884-a8df33e028e4",
   "metadata": {},
   "source": [
    "#### Applications Layer\n",
    "\n",
    "Standard applications that comes with OS. All written in JAVA/KOTLIN, and uses JNI calls to C/C++\n",
    "\n",
    "Applications:\n",
    "1. Home: Main screen\n",
    "2. Contacts: Contact Database\n",
    "3. Calender: Track shecdules\n",
    "4. Camera: takes photos & video\n",
    "5. Phone: Dial phone numbers\n",
    "6. Browser: view web pages\n",
    "7. Email reader: Gmail & others\n",
    "8. Media player: Play media\n",
    "9. SMS/MMS: Instant messaging"
   ]
  },
  {
   "cell_type": "markdown",
   "id": "da77447f-fef4-4bf5-bb0a-520c003d5eb4",
   "metadata": {},
   "source": [
    "#### Application Framework\n",
    "\n",
    "Provides services that are essential to the Android platform\n",
    "\n",
    "Services:\n",
    "1. Activity Manager: Application lifecycle & common navigation stack\n",
    "2. Window manager: Manages the toplevel window's look and behaviour\n",
    "3. View System: Lists, grids, text boxes, buttons, etc\n",
    "4. Content Providers: Inter application data sharing\n",
    "5. Package Manager: Manages application packages\n",
    "6. Telephony Manager: State of telephony services\n",
    "7. Resource Manager: Manges non-code resources: strings, graphics, & layouts files\n",
    "8. Notification Manager: Notify users when events occur\n",
    "9. Location Manager: Access system location services"
   ]
  },
  {
   "cell_type": "markdown",
   "id": "128ac956-c6db-497b-aac6-d9341b552852",
   "metadata": {},
   "source": [
    "#### Android Runtime"
   ]
  },
  {
   "cell_type": "markdown",
   "id": "780cddf3-3442-4429-8441-cbe37f5387d7",
   "metadata": {},
   "source": [
    "Supports concurrently executing Java apps on mobile device\n",
    "\n",
    "contains\n",
    "1. Virtual Machine\n",
    "2. Core libraries\n",
    "\n",
    "Virtual Machine: \n",
    "\n",
    "* provides a managed runtime environment:\n",
    "** Executes byecode generated form Java source code as a application inside a host OS & supports a single process\n",
    "** Created when a process is started & destroyed when it exists\n",
    "\n",
    "* An android app typically runs in its own procss, inside its own VM instance\n",
    "\n",
    "* Android apps typically written in Java, but don't run in a standard Java VM \n",
    "\n",
    "* Bytecodes executed in Dalvik VM \"register mahine\"\n",
    "** dx program transfomrs java classes into .dex-formatted bytecodes\n",
    "** Just in time JIT compiler available\n",
    "** Dalvik is being phasted out fro the \"Android Runtime (ART): ART uses an \"ahead-of-time\" compiler & has better garbage collection.\n",
    "\n",
    "Core Libraries\n",
    "* Core Java classes: \n",
    "** java.*, javax.*\n",
    "\n",
    "\n",
    "Java Threads\n",
    "1. A java Thread is a unit of computation that runs in the context of a process\n",
    "2. The threads in a process can communicate with each ohter via shared objects or message passing\n",
    "3. Threads communicating with thread in different processes require IPC\n",
    "4. Each Java Thread has a stack(eg. stack of activation records), a program counter (keeps track of where the thread is in it;s computation), & other registers (unique state)\n",
    "5. The heap (used for allocating memory when creating a new thread) & static areas are shared across Threads (common state)\n",
    "6. Java synchonization mechanisms can be used to prevent race conditions (problems that occur when two or more threads try to access the same state)\n",
    "\n",
    "* android.* classes\n",
    "** GUI\n",
    "** User Interface\n",
    "** System\n",
    "** Application\n",
    "** Connectivity\n",
    "\n",
    "* android concurrency frameworks\n",
    "** Handlers, Messages, & Runnables (HaMeR): Allows operations to run in one or more background threads that publish their results to the UI thread. (eg. download of an image)\n",
    "** AsyncTask: Allows operations to run in one or more background threads & publish results to the UI thread without manipulating threads or handlers\n",
    "\n",
    "* Android Services framework\n",
    "** Android services allow computations & communication to run in the background (services that doesn't require user interaction)"
   ]
  },
  {
   "cell_type": "markdown",
   "id": "38132ea4-5d0f-40e3-bd60-12e1d8671860",
   "metadata": {},
   "source": [
    "#### Libraries\n",
    "\n",
    "Libraries\n",
    "* Surface Manager: Display management\n",
    "* OpenGL|ES: Graphic engines\n",
    "* SSL: Secure sockets layer\n",
    "* Media Framework: audio/video streaming\n",
    "* FreeType: Rendering fonts\n",
    "* SGL: Graphics engine\n",
    "* SQLite: Relational Database Engine\n",
    "* WebKit: Web Browser Engine\n",
    "* Libc: System C library, bionic libc, provides system interfaces to system servics\n",
    "\n",
    "\n",
    "Although Android apps are writting in Java APIs, the implementations of these APIs are often written using native C &C++ available via the JNI (Java Native Interface)\n",
    "\n",
    "The JNI defines a way for managed code(written in Java) to interact with native code (written in C/C++). It's vendor-neutral has support for loading code form dynamic shared libraries, and while cumbersome at times is reasonably efficient.\n",
    "\n",
    "NDK (Native Development Kit) allows apps to be implemented using native-code langauges such as c & c++: Developing applications in native code may optimize performance by minimizing latency, maximizing throughput & conserving resources. (usually done when writing system services, like a security manager)\n",
    "\n"
   ]
  },
  {
   "cell_type": "markdown",
   "id": "939e34c2-03d9-4037-9ab0-9c40ea5bc12c",
   "metadata": {},
   "source": [
    "#### Hardware Abstraction Layer (HAL)"
   ]
  },
  {
   "cell_type": "markdown",
   "id": "946e6313-19e1-4a3a-b2dc-51acbd800ab7",
   "metadata": {},
   "source": [
    "The HAL helps to seperate concerns\n",
    "* Android platform logic from hardware\n",
    "* The Android HAL is a user space c/c++ library layer that proveds access to operating system kernel. It basicly acts as an interface that provides access to hardware drivers"
   ]
  },
  {
   "cell_type": "markdown",
   "id": "571de46c-e171-4669-b158-b1585a16d942",
   "metadata": {},
   "source": [
    "#### Linux Kernel"
   ]
  },
  {
   "cell_type": "markdown",
   "id": "4dae2a13-f5d9-4677-a08b-7652183c24f3",
   "metadata": {},
   "source": [
    "Optimized for power conservation & local IPC\n",
    "\n",
    "Written in C language\n",
    "\n",
    "Provides Unix mechanisms to manage mobile device resources\n",
    "\n",
    "* Virtual memory, processes, and thread management\n",
    "* Network and inter-process communication stack (OSI)\n",
    "* Device driver framework\n",
    "\n",
    "Provides Adroid specific kernel enhancements\n",
    "* Binder optimized IPC (Inter Process Communiattion)\n",
    "* Android shared memory\n",
    "* Power management (allows applications to control when the device sleeps vs. wakes)\n",
    "* Low memory killer (Kills memory as available memory becomes low)"
   ]
  },
  {
   "cell_type": "markdown",
   "id": "4a380d3a-4960-4a0c-94b8-674285635657",
   "metadata": {},
   "source": [
    "### Application Building Blocks\n",
    "\n",
    "1. Activity\n",
    "2. IntentReceiver\n",
    "3. Service\n",
    "4. ContentProvider"
   ]
  },
  {
   "cell_type": "markdown",
   "id": "cbafd610-be4d-469c-95bb-a2c861fb968a",
   "metadata": {},
   "source": [
    "#### Activity\n",
    "\n",
    "UI components typically corresponding to one screen"
   ]
  },
  {
   "cell_type": "markdown",
   "id": "af745879-f27b-4c3d-ba08-698c35bfcf62",
   "metadata": {},
   "source": [
    "#### IntentReceiver\n",
    "\n",
    "Responds to notifications or status changes. CAn wake up your process"
   ]
  },
  {
   "cell_type": "markdown",
   "id": "9db58b59-8270-4001-b8b3-3945eb7fbb55",
   "metadata": {},
   "source": [
    "#### Service\n",
    "\n",
    "Faceless task that run in the background"
   ]
  },
  {
   "cell_type": "markdown",
   "id": "a6a05763-9434-448d-9e7b-d8b0b3410bac",
   "metadata": {},
   "source": [
    "#### ContentProvider\n",
    "\n",
    "Enable applications to share data"
   ]
  }
 ],
 "metadata": {
  "kernelspec": {
   "display_name": "",
   "name": ""
  },
  "language_info": {
   "name": ""
  }
 },
 "nbformat": 4,
 "nbformat_minor": 5
}
