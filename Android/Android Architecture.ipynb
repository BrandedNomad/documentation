{
 "cells": [
  {
   "cell_type": "markdown",
   "id": "12271c25-48bd-4718-b931-196348b606b2",
   "metadata": {},
   "source": [
    "# Android Architecture\n",
    "\n",
    "Application architecture is a way of designing classes and the relationship between them so that they are easier to work with and to update or maintain. Architecture implements the Seperation of Concerns principle which states that an application should be devidided into units, each with a single responsibillity. An application architecture devides an application into classes by seperating concerns."
   ]
  },
  {
   "cell_type": "markdown",
   "id": "5ea64978-72d8-4134-998a-b4a8de1059c5",
   "metadata": {},
   "source": [
    "### MVVM\n",
    "\n",
    "![MVVM Architecture](https://miro.medium.com/max/3372/1*itYWsxQTfq7xTuvIMrVhYg.png)"
   ]
  },
  {
   "cell_type": "markdown",
   "id": "228d4ef8-6654-4ac0-8bcb-1e3d51839e38",
   "metadata": {},
   "source": [
    "#### UI Controller\n",
    "\n",
    "The __UI Controller__ is responsible for any user interface related tasks, like displaying views or capturing user input. The UI controller executes all of the draw commands that puts the views on the screen\n",
    "\n",
    "#### View Model\n",
    "\n",
    "##### *What is a ViewModel*\n",
    "\n",
    "Holds all of the data needed for the UI and prepare it for display through simple calculations and transformations. The View Model class also contains instances of the LiveData class, which is needed to communicate information from the ViewModel to the UI controller.\n",
    "\n",
    "Another feature of the ViewModel is that it survives configuration changes, where fragments and views do not. This means that the current state of the data will survive and it reduces the need to rely on savedInstanceState\n",
    "\n",
    "\n",
    "##### *Create a View Model*\n",
    "\n",
    "View models are created for and associated with a single fragment, view, or activity.\n",
    "\n",
    "1. Add Dependencies\n",
    "\n",
    "Add the lifecycle dependency to the app gradle file"
   ]
  },
  {
   "cell_type": "code",
   "execution_count": null,
   "id": "b95a28d9-eac3-4b3c-bc10-8ce4b3438c2a",
   "metadata": {},
   "outputs": [],
   "source": [
    "dependencies {\n",
    "    ...\n",
    "    // Lifecycles\n",
    "    implementation 'androidx.lifecycle:lifecycle-extensions:2.2.0'\n",
    "    ...\n",
    "}"
   ]
  },
  {
   "cell_type": "markdown",
   "id": "5acc98f3-8b43-4280-892a-0e2ea2e61cf7",
   "metadata": {},
   "source": [
    "2. Create a ViewModel Class\n",
    "\n",
    "Subclass the ViewModel class. "
   ]
  },
  {
   "cell_type": "code",
   "execution_count": null,
   "id": "39a364aa-1c9b-4536-8445-0bc04361851a",
   "metadata": {},
   "outputs": [],
   "source": [
    "package com.example.android.guesstheword.screens.game\n",
    "\n",
    "import android.util.Log\n",
    "import androidx.lifecycle.ViewModel\n",
    "\n",
    "class GameViewModel: ViewModel() {\n",
    "    init{\n",
    "        Log.i(\"GameViewModel\",\"GameViewModel created\")\n",
    "    }\n",
    "\n",
    "    override fun onCleared() {\n",
    "        super.onCleared()\n",
    "        Log.i(\"GameViewModel\",\"GameViewModel Destroyed\")\n",
    "    }\n",
    "\n",
    "\n",
    "}"
   ]
  },
  {
   "cell_type": "markdown",
   "id": "200751e2-d181-4513-b7bd-d28839bda5ba",
   "metadata": {},
   "source": [
    "3. Associate UI Controller and ViewModel\n",
    "\n",
    "The UI Controller is simply the fragment or activity class. Create an instance of the ViewModel inside of the fragment class using the viewModelProvider inside of the onCreateView() method"
   ]
  },
  {
   "cell_type": "code",
   "execution_count": null,
   "id": "8c78827c-3fe3-4153-9541-c7b8c1eb36ec",
   "metadata": {},
   "outputs": [],
   "source": [
    "viewModel = ViewModelProvider(this).get(GameViewModel::class.java)"
   ]
  },
  {
   "cell_type": "markdown",
   "id": "912b5e6f-c2cf-4b9b-94e5-3bc051046f12",
   "metadata": {},
   "source": [
    "##### *What is the LiveData class?*\n",
    "\n",
    "The liveData class is an observable data holder class tha tis lifecycle-aware. The liveData object wraps around data and acts like a subject that is observed by an observer which then calls a specified method whenever the subject changes.\n",
    "\n",
    "In the ViewModel, the LiveData class is used to automatically update the UIController, whenever state changes."
   ]
  },
  {
   "cell_type": "markdown",
   "id": "1a974dba-ed81-4aac-a040-fd64fb25301e",
   "metadata": {},
   "source": [
    "##### *Implementing LiveData class*\n",
    "\n",
    "1. Declare LiveData variable in the ViewModel class and initialize it in the constructor"
   ]
  },
  {
   "cell_type": "code",
   "execution_count": null,
   "id": "9619517b-5832-4d55-a2f1-bf1c4d7723bf",
   "metadata": {},
   "outputs": [],
   "source": [
    "    var word = MutableLiveData<String>()\n",
    "    \n",
    "    init{\n",
    "        ...\n",
    "        word.value = wordList.removeAt(0)\n",
    "    }"
   ]
  },
  {
   "cell_type": "markdown",
   "id": "558609dc-e9e4-4235-afad-896c43a2b047",
   "metadata": {},
   "source": [
    "2. Encapsulate the LiveData variable\n",
    "\n",
    "By making it private and declaring a new unmutable LiveData variable that uses a backing field to create a getter method that will return a value"
   ]
  },
  {
   "cell_type": "code",
   "execution_count": null,
   "id": "fc73f062-d20b-4183-aed4-5a9736a80d4d",
   "metadata": {},
   "outputs": [],
   "source": [
    "private var _score = MutableLiveData<Int>()\n",
    "    val score: LiveData<Int>\n",
    "        get() = _score"
   ]
  },
  {
   "cell_type": "markdown",
   "id": "802c342b-9009-4bee-bf47-3ba811bbdffa",
   "metadata": {},
   "source": [
    "3. Connect the Observer\n",
    "\n",
    "In the Fragment class, connect the observer. The observer will observe the livedata object for any state changes, and then execute the specified function if it occurs"
   ]
  },
  {
   "cell_type": "code",
   "execution_count": null,
   "id": "d504d566-6520-4d96-be33-618172f3d288",
   "metadata": {},
   "outputs": [],
   "source": [
    "viewModel.word.observe(viewLifecycleOwner,Observer{ newWord ->\n",
    "\n",
    "        binding.wordText.text = newWord\n",
    "        \n",
    "})"
   ]
  },
  {
   "cell_type": "markdown",
   "id": "0e55d0e2-5073-4d28-82d7-1c4cfd4c0a48",
   "metadata": {},
   "source": [
    "##### *Creating a ViewModel Factory*\n",
    "\n",
    "Sometimes a view model needs to be initialized with a value when it is created, and so a viewModel factory can be used to accomplish this. The following block of code is a fragment class that displays the final score at the end of the Game. "
   ]
  },
  {
   "cell_type": "code",
   "execution_count": null,
   "id": "56122f20-11ce-4046-9f03-e976fd1d2ad7",
   "metadata": {},
   "outputs": [],
   "source": [
    "class ScoreFragment : Fragment() {\n",
    "\n",
    "    override fun onCreateView(\n",
    "            inflater: LayoutInflater,\n",
    "            container: ViewGroup?,\n",
    "            savedInstanceState: Bundle?\n",
    "    ): View? {\n",
    "\n",
    "        // Inflate view and obtain an instance of the binding class.\n",
    "        val binding: ScoreFragmentBinding = DataBindingUtil.inflate(\n",
    "                inflater,\n",
    "                R.layout.score_fragment,\n",
    "                container,\n",
    "                false\n",
    "        )\n",
    "\n",
    "        // Get args using by navArgs property delegate\n",
    "        val scoreFragmentArgs by navArgs<ScoreFragmentArgs>()\n",
    "        binding.scoreText.text = scoreFragmentArgs.score.toString()\n",
    "        binding.playAgainButton.setOnClickListener { onPlayAgain() }\n",
    "\n",
    "        return binding.root\n",
    "    }\n",
    "\n",
    "    private fun onPlayAgain() {\n",
    "        findNavController().navigate(ScoreFragmentDirections.actionRestart())\n",
    "    }\n",
    "}"
   ]
  },
  {
   "cell_type": "markdown",
   "id": "f52fac78-c972-4386-9966-3bdd3d7d2503",
   "metadata": {},
   "source": [
    "To refactor this class into a UI controller and a ViewModel, we need to create a Factory that will initialize the viewModel with the Final score value on creation\n",
    "\n",
    "1. Create the ViewModel Class\n",
    "\n",
    "In the same folder as the fragment class, create the ViewModel class"
   ]
  },
  {
   "cell_type": "code",
   "execution_count": null,
   "id": "b6da8a63-3336-46c6-b474-b3651c3a8157",
   "metadata": {},
   "outputs": [],
   "source": [
    "class ScoreViewModel(finalScore:Int): ViewModel() {\n",
    "\n",
    "    var _finalScore:Int = 0\n",
    "\n",
    "    init{\n",
    "        _finalScore = finalScore\n",
    "    }\n",
    "}"
   ]
  },
  {
   "cell_type": "markdown",
   "id": "5517ce6a-5580-4730-8517-80a58c0995a3",
   "metadata": {},
   "source": [
    "2. Creat the ViewModel Factory\n",
    "\n",
    "In the same folder as the fragment class, create the ViewModelFactory class"
   ]
  },
  {
   "cell_type": "code",
   "execution_count": null,
   "id": "219b5795-c425-43e2-8d1d-b41f1a5fba53",
   "metadata": {},
   "outputs": [],
   "source": [
    "class ScoreViewModelFactory(private val finalScore: Int) : ViewModelProvider.Factory {\n",
    "    \n",
    "    //The create method returns the viewModel\n",
    "    override fun <T : ViewModel?> create(modelClass: Class<T>): T {\n",
    "        if (modelClass.isAssignableFrom(ScoreViewModel::class.java)) {\n",
    "            // TODO Construct and return the ScoreViewModel\n",
    "            return ScoreViewModel(finalScore) as T\n",
    "        }\n",
    "        throw IllegalArgumentException(\"Unknown ViewModel class\")\n",
    "    }\n",
    "}"
   ]
  },
  {
   "cell_type": "markdown",
   "id": "92cf0660-74c3-45dc-a8f9-39727eb4c53e",
   "metadata": {},
   "source": [
    "3. Initialize the Factory in the UIController Fragment"
   ]
  },
  {
   "cell_type": "code",
   "execution_count": null,
   "id": "222944a0-1163-40b4-9d8a-cb02e97f25f9",
   "metadata": {},
   "outputs": [],
   "source": [
    "class ScoreFragment : Fragment() {\n",
    "    \n",
    "    //Declare the viewModel variables\n",
    "    private lateinit var viewModel: ScoreViewModel\n",
    "    private lateinit var viewModelFactory:ScoreViewModelFactory\n",
    "\n",
    "    override fun onCreateView(\n",
    "            inflater: LayoutInflater,\n",
    "            container: ViewGroup?,\n",
    "            savedInstanceState: Bundle?\n",
    "    ): View? {\n",
    "\n",
    "        // Inflate view and obtain an instance of the binding class.\n",
    "        val binding: ScoreFragmentBinding = DataBindingUtil.inflate(\n",
    "                inflater,\n",
    "                R.layout.score_fragment,\n",
    "                container,\n",
    "                false\n",
    "        )\n",
    "\n",
    "\n",
    "\n",
    "        // Get args using by navArgs property delegate\n",
    "        val scoreFragmentArgs by navArgs<ScoreFragmentArgs>()\n",
    "\n",
    "\n",
    "        //Create Factory by passing in the score\n",
    "        viewModelFactory = ScoreViewModelFactory(scoreFragmentArgs.score)\n",
    "        \n",
    "        //Pass the Factory into the viewModelProvider to create\n",
    "        //the viewModel\n",
    "        viewModel = ViewModelProvider(this,viewModelFactory).get(ScoreViewModel::class.java)\n",
    "\n",
    "        binding.scoreText.text = viewModel._finalScore.toString()\n",
    "        binding.playAgainButton.setOnClickListener { onPlayAgain() }\n",
    "\n",
    "\n",
    "        return binding.root\n",
    "    }\n",
    "\n",
    "    private fun onPlayAgain() {\n",
    "        findNavController().navigate(ScoreFragmentDirections.actionRestart())\n",
    "    }"
   ]
  },
  {
   "cell_type": "markdown",
   "id": "f13e6685-d138-4780-ad3e-572499f82cf3",
   "metadata": {},
   "source": [
    "##### *Bypassing the UIController by binding to the ViewModel*\n",
    "\n",
    "1. Add Data tag to layout file\n",
    "\n",
    "Create a data variable for the viewModel you want to add."
   ]
  },
  {
   "cell_type": "code",
   "execution_count": null,
   "id": "8a412f8c-5723-499c-853e-e8cc6afa5769",
   "metadata": {},
   "outputs": [],
   "source": [
    "<layout xmlns:android=\"http://schemas.android.com/apk/res/android\"\n",
    "    xmlns:app=\"http://schemas.android.com/apk/res-auto\"\n",
    "    xmlns:tools=\"http://schemas.android.com/tools\">\n",
    "\n",
    "    <data>\n",
    "        <variable\n",
    "            name=\"gameViewModel\"\n",
    "            type=\"com.example.android.guesstheword.screens.game.GameViewModel\" />\n",
    "    </data>\n",
    "\n",
    "    <androidx.constraintlayout.widget.ConstraintLayout\n",
    "        android:id=\"@+id/game_layout\"\n",
    "        android:layout_width=\"match_parent\"\n",
    "        android:layout_height=\"match_parent\"\n",
    "        tools:context=\".screens.game.GameFragment\">\n",
    "\n",
    "\n",
    "\n",
    "        <TextView\n",
    "            android:id=\"@+id/word_is_text\"\n",
    "            android:layout_width=\"wrap_content\"\n",
    "            android:layout_height=\"wrap_content\"\n",
    "            android:layout_marginBottom=\"16dp\"\n",
    "            android:fontFamily=\"sans-serif\"\n",
    "            android:text=\"@string/word_is\"\n",
    "            android:textColor=\"@color/black_text_color\"\n",
    "            android:textSize=\"14sp\"\n",
    "            android:textStyle=\"normal\"\n",
    "            app:layout_constraintBottom_toTopOf=\"@+id/word_text\"\n",
    "            app:layout_constraintEnd_toEndOf=\"parent\"\n",
    "            app:layout_constraintHorizontal_bias=\"0.5\"\n",
    "            app:layout_constraintStart_toStartOf=\"parent\"\n",
    "            app:layout_constraintTop_toTopOf=\"parent\"\n",
    "            app:layout_constraintVertical_chainStyle=\"packed\" />\n",
    "\n",
    "        <TextView\n",
    "            android:id=\"@+id/word_text\"\n",
    "            android:layout_width=\"wrap_content\"\n",
    "            android:layout_height=\"wrap_content\"\n",
    "            android:animateLayoutChanges=\"true\"\n",
    "            android:fontFamily=\"sans-serif\"\n",
    "            android:textAppearance=\"@style/TextAppearance.AppCompat.Headline\"\n",
    "            android:textColor=\"@color/black_text_color\"\n",
    "            android:textSize=\"34sp\"\n",
    "            android:textStyle=\"normal\"\n",
    "            app:layout_constraintBottom_toTopOf=\"@+id/score_text\"\n",
    "            app:layout_constraintEnd_toEndOf=\"parent\"\n",
    "            app:layout_constraintHorizontal_bias=\"0.5\"\n",
    "            app:layout_constraintStart_toStartOf=\"parent\"\n",
    "            app:layout_constraintTop_toBottomOf=\"@+id/word_is_text\"\n",
    "            app:layout_constraintVertical_chainStyle=\"packed\"\n",
    "            tools:text=\"&quot;Tuna&quot;\" />\n",
    "\n",
    "        <TextView\n",
    "            android:id=\"@+id/timer_text\"\n",
    "            android:layout_width=\"wrap_content\"\n",
    "            android:layout_height=\"wrap_content\"\n",
    "            android:layout_marginStart=\"8dp\"\n",
    "            android:layout_marginEnd=\"8dp\"\n",
    "            android:layout_marginBottom=\"8dp\"\n",
    "            android:fontFamily=\"sans-serif\"\n",
    "            android:textColor=\"@color/grey_text_color\"\n",
    "            android:textSize=\"14sp\"\n",
    "            android:textStyle=\"normal\"\n",
    "            app:layout_constraintBottom_toTopOf=\"@+id/score_text\"\n",
    "            app:layout_constraintEnd_toEndOf=\"parent\"\n",
    "            app:layout_constraintStart_toStartOf=\"parent\"\n",
    "            tools:text=\"0:00\" />\n",
    "\n",
    "        <TextView\n",
    "            android:id=\"@+id/score_text\"\n",
    "            android:layout_width=\"wrap_content\"\n",
    "            android:layout_height=\"wrap_content\"\n",
    "            android:layout_marginStart=\"8dp\"\n",
    "            android:layout_marginEnd=\"8dp\"\n",
    "            android:fontFamily=\"sans-serif\"\n",
    "            android:textColor=\"@color/grey_text_color\"\n",
    "            android:textSize=\"14sp\"\n",
    "            android:textStyle=\"normal\"\n",
    "            app:layout_constraintBottom_toTopOf=\"@+id/guideline\"\n",
    "            app:layout_constraintEnd_toEndOf=\"parent\"\n",
    "            app:layout_constraintStart_toStartOf=\"parent\"\n",
    "            tools:text=\"Score: 2\" />\n",
    "\n",
    "        <Button\n",
    "            android:id=\"@+id/skip_button\"\n",
    "            android:layout_width=\"wrap_content\"\n",
    "            android:layout_height=\"wrap_content\"\n",
    "            android:layout_marginStart=\"16dp\"\n",
    "            android:text=\"@string/skip\"\n",
    "            android:theme=\"@style/SkipButton\"\n",
    "            app:layout_constraintBottom_toBottomOf=\"parent\"\n",
    "            app:layout_constraintEnd_toStartOf=\"@+id/correct_button\"\n",
    "            app:layout_constraintHorizontal_bias=\"0.5\"\n",
    "            app:layout_constraintHorizontal_chainStyle=\"spread_inside\"\n",
    "            app:layout_constraintStart_toStartOf=\"parent\"\n",
    "            app:layout_constraintTop_toTopOf=\"@+id/guideline\" />\n",
    "\n",
    "        <androidx.constraintlayout.widget.Guideline\n",
    "            android:id=\"@+id/guideline\"\n",
    "            android:layout_width=\"wrap_content\"\n",
    "            android:layout_height=\"wrap_content\"\n",
    "            android:orientation=\"horizontal\"\n",
    "            app:layout_constraintGuide_end=\"96dp\" />\n",
    "\n",
    "        <Button\n",
    "            android:id=\"@+id/correct_button\"\n",
    "            android:layout_width=\"wrap_content\"\n",
    "            android:layout_height=\"wrap_content\"\n",
    "            android:layout_marginEnd=\"16dp\"\n",
    "            android:text=\"@string/got_it\"\n",
    "            android:theme=\"@style/GoButton\"\n",
    "            android:onClick=\"@{() -> gameViewModel.onSkip()}\"\n",
    "            app:layout_constraintBottom_toBottomOf=\"parent\"\n",
    "            app:layout_constraintEnd_toEndOf=\"parent\"\n",
    "            app:layout_constraintHorizontal_bias=\"0.5\"\n",
    "            app:layout_constraintStart_toEndOf=\"@+id/skip_button\"\n",
    "            app:layout_constraintTop_toTopOf=\"@+id/guideline\" />\n",
    "\n",
    "    </androidx.constraintlayout.widget.ConstraintLayout>\n",
    "</layout>"
   ]
  },
  {
   "cell_type": "markdown",
   "id": "006e15c0-1cb9-4018-87c4-eba37bf51e0b",
   "metadata": {},
   "source": [
    "2. Add viewModel to binding\n",
    "\n",
    "In the fragment class, just after the binding has be initilized, add the ViewModel to the binding variable created above"
   ]
  },
  {
   "cell_type": "code",
   "execution_count": null,
   "id": "dcdbd681-6598-425f-8424-2e0dc0b89810",
   "metadata": {},
   "outputs": [],
   "source": [
    "binding.gameViewModel = viewModel"
   ]
  },
  {
   "cell_type": "markdown",
   "id": "ca8eb38a-83af-487c-9ed7-f50354fb0f10",
   "metadata": {},
   "source": [
    "3. Add onClick listeners directly to component\n",
    "\n",
    "In the layout file add the onClick listener directly to the component. Now when the button is clicked, it will call the viewModel directly, so no need for the UIController to set or handle onClick events."
   ]
  },
  {
   "cell_type": "code",
   "execution_count": null,
   "id": "02f26ed2-34af-4946-901b-c82728eaea84",
   "metadata": {},
   "outputs": [],
   "source": [
    " <Button\n",
    "            android:id=\"@+id/correct_button\"\n",
    "            android:layout_width=\"wrap_content\"\n",
    "            android:layout_height=\"wrap_content\"\n",
    "            android:layout_marginEnd=\"16dp\"\n",
    "            android:text=\"@string/got_it\"\n",
    "            android:theme=\"@style/GoButton\"\n",
    "            ...\n",
    "            android:onClick=\"@{() -> gameViewModel.onCorrect()}\"\n",
    "            ...\n",
    "            app:layout_constraintBottom_toBottomOf=\"parent\"\n",
    "            app:layout_constraintEnd_toEndOf=\"parent\"\n",
    "            app:layout_constraintHorizontal_bias=\"0.5\"\n",
    "            app:layout_constraintStart_toEndOf=\"@+id/skip_button\"\n",
    "            app:layout_constraintTop_toTopOf=\"@+id/guideline\" />"
   ]
  },
  {
   "cell_type": "markdown",
   "id": "c5ff2eb9-40e5-48f6-bf89-1033c6c88b14",
   "metadata": {},
   "source": [
    "##### *LiveData binding the ViewModel*\n",
    "\n",
    "This is done to automatically update information fields like textviews, etc\n",
    "\n",
    "1. Bind viewModel and set the life cycle owner\n",
    "\n",
    "NOTE: remember to first add the data variable directly to the layout file."
   ]
  },
  {
   "cell_type": "code",
   "execution_count": null,
   "id": "00de4f38-2251-4635-8775-72d4ad15a105",
   "metadata": {},
   "outputs": [],
   "source": [
    "binding.gameViewModel = viewModel\n",
    "binding.setLifecycleOwner(this)"
   ]
  },
  {
   "cell_type": "markdown",
   "id": "a53f15a9-4c8c-423d-9297-6cb758e0134f",
   "metadata": {},
   "source": [
    "2. Add the binding field to the view\n",
    "\n",
    "This will automatically keep the UI in sync with the live data without the need for setting up an observer in the fragment class"
   ]
  },
  {
   "cell_type": "code",
   "execution_count": null,
   "id": "7b4e8e15-126b-479c-b9b2-d5eb2a59be72",
   "metadata": {},
   "outputs": [],
   "source": [
    "<TextView\n",
    "            android:id=\"@+id/word_text\"\n",
    "            android:layout_width=\"wrap_content\"\n",
    "            android:layout_height=\"wrap_content\"\n",
    "            android:animateLayoutChanges=\"true\"\n",
    "            android:fontFamily=\"sans-serif\"\n",
    "            android:textAppearance=\"@style/TextAppearance.AppCompat.Headline\"\n",
    "            android:textColor=\"@color/black_text_color\"\n",
    "            android:textSize=\"34sp\"\n",
    "            android:textStyle=\"normal\"\n",
    "            ...\n",
    "            android:text=\"@{gameViewModel.word}\"\n",
    "            ...\n",
    "            app:layout_constraintBottom_toTopOf=\"@+id/score_text\"\n",
    "            app:layout_constraintEnd_toEndOf=\"parent\"\n",
    "            app:layout_constraintHorizontal_bias=\"0.5\"\n",
    "            app:layout_constraintStart_toStartOf=\"parent\"\n",
    "            app:layout_constraintTop_toBottomOf=\"@+id/word_is_text\"\n",
    "            app:layout_constraintVertical_chainStyle=\"packed\"\n",
    "            tools:text=\"&quot;Tuna&quot;\" />"
   ]
  }
 ],
 "metadata": {
  "kernelspec": {
   "display_name": "",
   "name": ""
  },
  "language_info": {
   "name": ""
  }
 },
 "nbformat": 4,
 "nbformat_minor": 5
}
