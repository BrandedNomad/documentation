{
 "cells": [
  {
   "cell_type": "markdown",
   "id": "7c3d09dc-52ee-4a09-a43e-f1b8de8f466a",
   "metadata": {},
   "source": [
    "# Android CookBook"
   ]
  },
  {
   "cell_type": "markdown",
   "id": "7b5a0d93-175c-4254-b936-be94f9ac38dd",
   "metadata": {},
   "source": [
    "### Accessing images in drawable dynamically"
   ]
  },
  {
   "cell_type": "markdown",
   "id": "4b82a704-1670-4c98-b025-e9f83b6ebbef",
   "metadata": {},
   "source": [
    "### Networking\n",
    "\n",
    "#### HTTP Requests\n",
    "\n",
    "##### *Simple HTTP Get Request*\n",
    "\n",
    "Using the java URL library. The following method returns a JSON object"
   ]
  },
  {
   "cell_type": "code",
   "execution_count": null,
   "id": "e269f8f1-f8f8-44ff-be30-63c38805c162",
   "metadata": {},
   "outputs": [],
   "source": [
    "val json = try { URL(endpoint).readText() } catch (e: Exception) { println(e) }"
   ]
  },
  {
   "cell_type": "markdown",
   "id": "a0166946-597e-4e05-a21c-1d196ec7b1ac",
   "metadata": {},
   "source": [
    "##### *Converting JSON objects to a kotlin data class object*\n",
    "\n",
    "First Add __GSON__ to dependencies"
   ]
  },
  {
   "cell_type": "markdown",
   "id": "75918b22-1df1-420b-bee9-6a7d13bf60aa",
   "metadata": {},
   "source": []
  },
  {
   "cell_type": "markdown",
   "id": "eb76f493-814d-49d8-8fa4-afb44fe49684",
   "metadata": {},
   "source": [
    "Next, create the __data class__ that is going to hold the data from the JSON object"
   ]
  },
  {
   "cell_type": "markdown",
   "id": "b18cea0f-4747-4b88-9693-842ef192790e",
   "metadata": {},
   "source": []
  },
  {
   "cell_type": "markdown",
   "id": "e706716b-bca6-4359-9d09-adc8788c0231",
   "metadata": {},
   "source": [
    "use __GSON.fromJson()__ method to convert from json to the data object. The method takes two arguments, the first is the JSON string, the second is the data class."
   ]
  },
  {
   "cell_type": "markdown",
   "id": "7829966e-9035-49e9-9672-7d96382e7a9d",
   "metadata": {},
   "source": [
    "fun main(){\n",
    "\n",
    "    var gson:Gson = Gson()\n",
    "    var endpoint:String = \"https://api.spoonacular.com/recipes/complexSearch?apiKey=db1bbeacfe6144e8b29f87f14b2a40&number=1&type=drink&diet=vegan&addRecipeInformation=true&fillIngredients=true\"\n",
    "\n",
    "    var response = URL(endpoint).readText()\n",
    "\n",
    "    var  = gson.fromJson(response,FoodRecipe::class.java)\n",
    "\n",
    "    println(x)\n",
    "\n",
    "}"
   ]
  }
 ],
 "metadata": {
  "kernelspec": {
   "display_name": "",
   "name": ""
  },
  "language_info": {
   "name": ""
  }
 },
 "nbformat": 4,
 "nbformat_minor": 5
}
