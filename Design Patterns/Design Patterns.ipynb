{
 "cells": [
  {
   "cell_type": "markdown",
   "id": "6e7abac1-0330-47b4-8085-866c1935c909",
   "metadata": {},
   "source": [
    "# Design Patterns"
   ]
  },
  {
   "cell_type": "markdown",
   "id": "6bedd5a1-fdbe-4acd-8f99-41f491f60f57",
   "metadata": {},
   "source": [
    "#### Singleton\n",
    "\n",
    "A pattern that restricts the instantiation of a class to one \"single\" instance and provides global access to that object.\n",
    "\n",
    "The basic pattern, goes like this:\n",
    "1. Call the singleton \n",
    "2. Checks if an instance allready exists\n",
    "3. if instance exists then it returns the instance\n",
    "4. if no instance exists then it creates an instance, stores it internally and returns it"
   ]
  },
  {
   "cell_type": "markdown",
   "id": "8005cb7f-0b2d-4515-a461-3a8db26a3c22",
   "metadata": {},
   "source": [
    "##### *Python*\n",
    "\n",
    "Python uses the __new__ function, instead of the __init__ function to create a singleton, otherwise the init function would be called every single time and create a new instance"
   ]
  },
  {
   "cell_type": "code",
   "execution_count": null,
   "id": "65754038-2d3c-4ebd-b3f5-81f089d17e75",
   "metadata": {},
   "outputs": [],
   "source": [
    "class MySingleton(object):\n",
    "    _instance = None\n",
    "    def __new__(self):\n",
    "        if not self._instance:\n",
    "            self._instance = super(MySingleton,self).__new__(self)\n",
    "            self.someVariable = \"someValue\"\n",
    "        return self._instance\n",
    "        \n",
    "# Create an instance\n",
    "x = MySingleton()\n",
    "\n",
    "          "
   ]
  },
  {
   "cell_type": "markdown",
   "id": "601f3e82-dfc8-4df1-96d1-efc1e755b0e3",
   "metadata": {},
   "source": [
    "##### *Javascript*"
   ]
  },
  {
   "cell_type": "code",
   "execution_count": null,
   "id": "c08f184e-98c8-48d3-b719-7ee19f7dce68",
   "metadata": {},
   "outputs": [],
   "source": [
    "let obj = (function(){\n",
    "    let objInstance;\n",
    "    function create(){\n",
    "        return {\n",
    "            name:\"there is only one\"\n",
    "\n",
    "        }\n",
    "    }\n",
    "\n",
    "    return {\n",
    "        getInstance: function(){\n",
    "            if(!objInstance){\n",
    "                objInstance = create();\n",
    "\n",
    "            }\n",
    "            return objInstance\n",
    "        }\n",
    "    }\n",
    "})()\n",
    "\n",
    "let obj1 = obj.getInstance();\n",
    "let obj2 = obj.getInstance()"
   ]
  },
  {
   "cell_type": "markdown",
   "id": "d7ac6387-7811-42f2-9e01-133bfac6534f",
   "metadata": {},
   "source": [
    "##### *Kotlin*\n",
    "\n",
    "By replacing the class keyword with object, Kotlin creates a singleton. \n",
    "\n",
    "Also, with singleton objects there is no need to create an instance, the object is referenced directly."
   ]
  },
  {
   "cell_type": "code",
   "execution_count": null,
   "id": "5d074d6e-2a5a-4abe-8c59-f9c63817d21c",
   "metadata": {},
   "outputs": [],
   "source": [
    "object UserProfile {\n",
    "    var name = \"john\"\n",
    "}\n",
    "\n",
    "//no need to instantiate object\n",
    "UserProfile.name\n"
   ]
  }
 ],
 "metadata": {
  "kernelspec": {
   "display_name": "",
   "name": ""
  },
  "language_info": {
   "name": ""
  }
 },
 "nbformat": 4,
 "nbformat_minor": 5
}
