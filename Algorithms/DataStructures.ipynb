{
 "cells": [
  {
   "cell_type": "markdown",
   "id": "6cd75439-ee93-4252-a17b-3ded9bc1daba",
   "metadata": {},
   "source": [
    "# Data Structures\n",
    "\n",
    "### A Node\n",
    "\n",
    "#### What is a node?\n",
    "\n",
    "A __node__ is a simple data structure that contains a value and a link to the next node. Nodes are used by other data structures\n",
    "\n",
    "#### Nodes in different langauges\n",
    "\n",
    "##### *Python*"
   ]
  },
  {
   "cell_type": "code",
   "execution_count": null,
   "id": "2a615111-96b3-48cc-ba1a-3f97ebb2d299",
   "metadata": {},
   "outputs": [],
   "source": [
    "class Node:\n",
    "    __init__(self,value, next_node = None):\n",
    "        self.value = value\n",
    "        self.next_node = next_node\n",
    "    \n",
    "    def get_value(self):\n",
    "        return self.value\n",
    "    \n",
    "    def get_next(self):\n",
    "        return self.next_node\n",
    "    \n",
    "    def set_value(self,value):\n",
    "        self.value = value\n",
    "    \n",
    "    def set_next(self,next_node):\n",
    "        self.next_node = next_node\n",
    "        "
   ]
  },
  {
   "cell_type": "markdown",
   "id": "637400f7-381b-407f-a26f-57b48631512f",
   "metadata": {},
   "source": [
    "##### *Javascript*"
   ]
  },
  {
   "cell_type": "code",
   "execution_count": null,
   "id": "9899b996-5779-467c-9321-1085e735cfb3",
   "metadata": {},
   "outputs": [],
   "source": [
    "class Node {\n",
    "    constructor(value, nextNode = null){\n",
    "        this.value = value\n",
    "        this.nextNode = nextNode\n",
    "    }\n",
    "    \n",
    "    getValue(){\n",
    "        return this.value\n",
    "    }\n",
    "    \n",
    "    getNext(){\n",
    "        return this.nextNode\n",
    "    }\n",
    "    \n",
    "    setValue(value){\n",
    "        this.value = value\n",
    "    }\n",
    "    \n",
    "    setNext(nextNode){\n",
    "        this.nextNode = nextNode\n",
    "    }\n",
    "}"
   ]
  },
  {
   "cell_type": "markdown",
   "id": "20261c81-a6ab-4835-b469-388b93cc0274",
   "metadata": {},
   "source": [
    "##### *Kotlin*"
   ]
  },
  {
   "cell_type": "code",
   "execution_count": null,
   "id": "ee87667e-01de-4c88-bc64-bbe2f64b6d38",
   "metadata": {},
   "outputs": [],
   "source": [
    "class Node<T:Any>(\n",
    "    var value:String?, \n",
    "    var nextNode: Node<T>? = null\n",
    "){\n",
    "\n",
    "    fun getValue():String? {\n",
    "        return this.value\n",
    "    }\n",
    "    \n",
    "    fun getNext():Node {\n",
    "        return this.nextNode\n",
    "    }\n",
    "    \n",
    "    fun setValue(value:String?){\n",
    "        this.value = value\n",
    "    }\n",
    "    \n",
    "    fun setNext(nextNode:Node<T>?){\n",
    "        this.nextNode = nextNode\n",
    "    }\n",
    "       \n",
    "}"
   ]
  },
  {
   "cell_type": "markdown",
   "id": "bd6145ed-7056-4cf4-a59f-19a6b3b26824",
   "metadata": {},
   "source": [
    "##### *C+*"
   ]
  },
  {
   "cell_type": "code",
   "execution_count": null,
   "id": "49e8ed2a-9275-485e-b124-200ac448e49f",
   "metadata": {},
   "outputs": [],
   "source": [
    "struct Node\n",
    "{\n",
    "   int data;\n",
    "   struct Node *next;\n",
    "};"
   ]
  },
  {
   "cell_type": "markdown",
   "id": "4daba4e4-246e-4fb8-892d-8353eeeceaf3",
   "metadata": {},
   "source": [
    "##### *Lua*"
   ]
  },
  {
   "cell_type": "code",
   "execution_count": null,
   "id": "67501db3-4ec5-4f5b-8302-956ddf3eddd1",
   "metadata": {},
   "outputs": [],
   "source": [
    "//Creating a Node object\n",
    "node = nil\n",
    "node = {next = node, value = v}\n",
    "\n",
    "\n",
    "//Asign values using the dot notation\n",
    "node.value = \"someValue\"\n",
    "node.next = node\n",
    "\n",
    "//Access values on object using dot notation\n",
    "node.next\n",
    "node.value"
   ]
  },
  {
   "cell_type": "markdown",
   "id": "d4254753-69a9-4900-9459-e5b242633818",
   "metadata": {},
   "source": [
    "### Linked Lists\n",
    "\n",
    "#### What is a linked list?\n",
    "\n",
    "A data structure that contains a head, tail and length. Linked lists consist of nodes, and each node has a value and a pointer to another node or null\n",
    "\n",
    "Unlike an Array, Linked lists do not have indices and so items in a linked list cannot be accessed randomly, only sequentially\n",
    "\n",
    "#### Why choose a Linked List over an Array?\n",
    "\n",
    "Arrays might by better at accessing items in an Array, however Linked Lists are much more effective at inserting and deleting items from the List due to the fact that Arrays are indexed and when something is inserted into an Array, everything in the Array has to be re-indexed. For this reason, Linked Lists are a better choice when you care more about insertion and deletion than accessing data, and you do not need random access.\n",
    "\n",
    "#### Linked Lists in different Languages\n",
    "\n",
    "##### *Python*"
   ]
  },
  {
   "cell_type": "markdown",
   "id": "fd63fad3-8aca-4c71-8216-c6f0317d4176",
   "metadata": {},
   "source": [
    "##### *Javascript*"
   ]
  },
  {
   "cell_type": "code",
   "execution_count": null,
   "id": "eb943f6a-ad55-4f4a-8f25-cf0098665cf7",
   "metadata": {},
   "outputs": [],
   "source": [
    "class Node {\n",
    "    constructor(value){\n",
    "        this.value = value\n",
    "        this.next = null\n",
    "    }\n",
    "}\n",
    "\n",
    "class LinkedList {\n",
    "    constructor(){\n",
    "        this.head = null;\n",
    "        this.tail = null;\n",
    "        this.length = 0;    \n",
    "    }\n",
    "    \n",
    "    push(value){\n",
    "        let newNode = new Node(value);\n",
    "        if(!this.head){\n",
    "            this.head = newNode;\n",
    "            this.tail = this.head;\n",
    "        } else {\n",
    "            \n",
    "            this.tail.next = newNode;\n",
    "            this.tail = newNode;\n",
    "        }\n",
    "        \n",
    "        this.length++;\n",
    "        retun this;\n",
    "    }\n",
    "    \n",
    "    pop(){\n",
    "        if(!this.head){\n",
    "            return undefined;\n",
    "        }\n",
    "        \n",
    "        let current = this.head;\n",
    "        let newTail = current;\n",
    "        \n",
    "        while(current.next){\n",
    "            newTail = current;\n",
    "            current = current.next;\n",
    "        }\n",
    "        \n",
    "        this.tail = newTail;\n",
    "        this.tail.next = null;\n",
    "        \n",
    "        this.length--;\n",
    "        if(this.length == 0){\n",
    "            this.head = null;\n",
    "            this.tail =  null;\n",
    "        }\n",
    "        \n",
    "        return current;\n",
    "    }\n",
    "}"
   ]
  }
 ],
 "metadata": {
  "kernelspec": {
   "display_name": "",
   "name": ""
  },
  "language_info": {
   "name": ""
  }
 },
 "nbformat": 4,
 "nbformat_minor": 5
}
