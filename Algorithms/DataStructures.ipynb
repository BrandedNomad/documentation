{
 "cells": [
  {
   "cell_type": "markdown",
   "id": "6cd75439-ee93-4252-a17b-3ded9bc1daba",
   "metadata": {},
   "source": [
    "#Data Structures\n",
    "\n",
    "### A Node\n",
    "\n",
    "#### What is a node?\n",
    "\n",
    "A __node__ is a simple data structure that contains a value and a link to the next node. Nodes are used by other data structures\n",
    "\n",
    "#### Nodes in different langauges\n",
    "\n",
    "##### *Python*"
   ]
  },
  {
   "cell_type": "code",
   "execution_count": null,
   "id": "2a615111-96b3-48cc-ba1a-3f97ebb2d299",
   "metadata": {},
   "outputs": [],
   "source": [
    "class Node:\n",
    "    __init__(self,value, next_node = None):\n",
    "        self.value = value\n",
    "        self.next_node = next_node\n",
    "    \n",
    "    def get_value(self):\n",
    "        return self.value\n",
    "    \n",
    "    def get_next(self):\n",
    "        return self.next_node\n",
    "    \n",
    "    def set_value(self,value):\n",
    "        self.value = value\n",
    "    \n",
    "    def set_next(self,next_node):\n",
    "        self.next_node = next_node\n",
    "        "
   ]
  },
  {
   "cell_type": "markdown",
   "id": "637400f7-381b-407f-a26f-57b48631512f",
   "metadata": {},
   "source": [
    "##### *Javascript*"
   ]
  },
  {
   "cell_type": "code",
   "execution_count": null,
   "id": "9899b996-5779-467c-9321-1085e735cfb3",
   "metadata": {},
   "outputs": [],
   "source": [
    "class Node {\n",
    "    constructor(value, nextNode = null){\n",
    "        this.value = value\n",
    "        this.nextNode = nextNode\n",
    "    }\n",
    "    \n",
    "    getValue(){\n",
    "        return this.value\n",
    "    }\n",
    "    \n",
    "    getNext(){\n",
    "        return this.nextNode\n",
    "    }\n",
    "    \n",
    "    setValue(value){\n",
    "        this.value = value\n",
    "    }\n",
    "    \n",
    "    setNext(nextNode){\n",
    "        this.nextNode = nextNode\n",
    "    }\n",
    "}"
   ]
  },
  {
   "cell_type": "markdown",
   "id": "20261c81-a6ab-4835-b469-388b93cc0274",
   "metadata": {},
   "source": [
    "##### *Kotlin*"
   ]
  },
  {
   "cell_type": "code",
   "execution_count": null,
   "id": "ee87667e-01de-4c88-bc64-bbe2f64b6d38",
   "metadata": {},
   "outputs": [],
   "source": [
    "class Node<T:Any>(\n",
    "    var value:String?, \n",
    "    var nextNode: Node<T>? = null\n",
    "){\n",
    "\n",
    "    fun getValue():String? {\n",
    "        return this.value\n",
    "    }\n",
    "    \n",
    "    fun getNext():Node {\n",
    "        return this.nextNode\n",
    "    }\n",
    "    \n",
    "    fun setValue(value:String?){\n",
    "        this.value = value\n",
    "    }\n",
    "    \n",
    "    fun setNext(nextNode:Node<T>?){\n",
    "        this.nextNode = nextNode\n",
    "    }\n",
    "       \n",
    "}"
   ]
  },
  {
   "cell_type": "markdown",
   "id": "bd6145ed-7056-4cf4-a59f-19a6b3b26824",
   "metadata": {},
   "source": [
    "##### *C+*"
   ]
  },
  {
   "cell_type": "code",
   "execution_count": null,
   "id": "49e8ed2a-9275-485e-b124-200ac448e49f",
   "metadata": {},
   "outputs": [],
   "source": [
    "struct Node\n",
    "{\n",
    "   int data;\n",
    "   struct Node *next;\n",
    "};"
   ]
  },
  {
   "cell_type": "markdown",
   "id": "4daba4e4-246e-4fb8-892d-8353eeeceaf3",
   "metadata": {},
   "source": [
    "##### *Lua*"
   ]
  },
  {
   "cell_type": "markdown",
   "id": "ee9345e8-d4d6-4b25-8449-270094cb71c4",
   "metadata": {},
   "source": [
    "//Creating a Node object\n",
    "node = nil\n",
    "node = {next = node, value = v}\n",
    "\n",
    "\n",
    "//Asign values using the dot notation\n",
    "node.value = \"someValue\"\n",
    "node.next = node\n",
    "\n",
    "//Access values on object using dot notation\n",
    "node.next\n",
    "node.value\n",
    "\n"
   ]
  }
 ],
 "metadata": {
  "kernelspec": {
   "display_name": "",
   "name": ""
  },
  "language_info": {
   "name": ""
  }
 },
 "nbformat": 4,
 "nbformat_minor": 5
}
