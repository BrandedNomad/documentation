{
 "cells": [
  {
   "cell_type": "markdown",
   "id": "b3c5c61e-e656-477f-b4dc-bea2832e1607",
   "metadata": {},
   "source": [
    "# Android Development"
   ]
  },
  {
   "cell_type": "markdown",
   "id": "589508ef-3e69-445d-b583-ba99385bb5bd",
   "metadata": {},
   "source": [
    "### Gradle "
   ]
  },
  {
   "cell_type": "markdown",
   "id": "ba45f303-6120-46c7-afb5-dfda64a7ae53",
   "metadata": {},
   "source": [
    "#### What is it?\n",
    "\n",
    "Gradle is a build system (open source) that is used to automate building, testing, deployment, etc. “build.gradle” are scripts where one can automate the tasks. For example, the simple task to copy some files from one directory to another can be performed by the Gradle build script before the actual build process happens.\n",
    "\n",
    "#### Why is Gradle Needed?\n",
    "\n",
    "Every Android project needs a Gradle for generating an apk from the .java and .xml files in the project. Simply put, a gradle takes all the source files (java and XML) and applies appropriate tools, e.g., converts the java files into dex files and compresses all of them into a single file known as apk that is actually used. There are two types of build.gradle scripts\n",
    "\n",
    "* Top-level build.gradle\n",
    "* Module-level build.gradle\n",
    "\n",
    "#### Top-level build.gradle:\n",
    "\n",
    "It is located in the root project directory and its main function is to define the build configurations that will be applied to all the modules in the project. It is implemented as: "
   ]
  },
  {
   "cell_type": "code",
   "execution_count": null,
   "id": "32a1c71b-81f0-443d-b05f-17c856c81638",
   "metadata": {},
   "outputs": [],
   "source": [
    "// Top-level build file where you can add configuration\n",
    "// options common to all sub-projects/modules.\n",
    " \n",
    "buildscript {\n",
    "    repositories {\n",
    "        google()\n",
    "        mavenCentral()\n",
    " \n",
    "    }\n",
    "    dependencies {\n",
    "        classpath 'com.android.tools.build:gradle:3.4.3'\n",
    "    }\n",
    "}\n",
    " \n",
    "allprojects {\n",
    "    repositories {\n",
    "        google()\n",
    "        mavenCentral()\n",
    "    }\n",
    "}\n",
    " \n",
    "task clean(type: Delete) {\n",
    "    delete rootProject.buildDir\n",
    "}"
   ]
  },
  {
   "cell_type": "markdown",
   "id": "9f572a4a-a284-4c11-91a0-b9062e900cbd",
   "metadata": {},
   "source": [
    "The top-level build.gradle supports various build configurations like:  \n",
    "\n",
    "buildscript: This block is used to configure the repositories and dependencies for Gradle. \n",
    "\n",
    "Note: Don’t include dependencies here. (those will be included in the module-level build.gradle)\n",
    "\n",
    "dependencies: This block in buildscript is used to configure dependencies that the Gradle needs to build during the project."
   ]
  },
  {
   "cell_type": "markdown",
   "id": "c8d5f659-ab5c-424a-932f-5de57db4e75d",
   "metadata": {},
   "source": [
    " This line adds the plugins as a classpath dependency for gradle 3.0.1."
   ]
  },
  {
   "cell_type": "code",
   "execution_count": null,
   "id": "cb784c9f-84c3-4fbd-a9b0-0f834e6937e8",
   "metadata": {},
   "outputs": [],
   "source": [
    " classpath 'com.android.tools.build:gradle:3.0.1'"
   ]
  },
  {
   "cell_type": "markdown",
   "id": "2d68602a-8008-4566-86cd-84fc88ebeefc",
   "metadata": {},
   "source": [
    "1. __allprojects:__ This is the block where one can configure the third-party plugins or libraries. For freshly created projects android studio includes mavenCentral() and Google’s maven repository by default. \n",
    "2. __task clean(type:Delete):__ This block is used to delete the directory every time the project is run. This way the projects keep clean when someone modifies some config files like, during settings.gradle which requires a complete clean. "
   ]
  },
  {
   "cell_type": "markdown",
   "id": "79b34e7a-1d56-4da2-a80c-69d03d4d8c7b",
   "metadata": {},
   "source": [
    "#### Module-level build.gradle:\n",
    "\n",
    "Located in the __project/module__ directory of the project this Gradle script is where all the dependencies are defined and where the SDK versions are declared. This script has many functions in the project which include additional build types and override settings in the main/app manifest or top-level build.gradle file. It is implemented as:  "
   ]
  },
  {
   "cell_type": "code",
   "execution_count": null,
   "id": "bf7b4586-76a5-437e-ab7b-5aacc041bb92",
   "metadata": {},
   "outputs": [],
   "source": [
    "// The first line in this file indicates\n",
    "// the Android plugin is applied for Gradle to\n",
    "// this build\n",
    " \n",
    "apply plugin : 'com.android.application'\n",
    "\n",
    "android\n",
    "{\n",
    "    compileSdkVersion 30\n",
    "    buildToolsVersion \"30.0.3\"\n",
    "    {\n",
    "        applicationId \"example.mehakmeet.geeksforgeeks\"\n",
    "        minSdkVersion 19\n",
    "        targetSdkVersion 30\n",
    "        versionCode 1\n",
    "        versionName \"1.0\"\n",
    "    }\n",
    "    buildTypes\n",
    "    {\n",
    "        release\n",
    "        {\n",
    "            minifyEnabled false\n",
    "            proguardFiles getDefaultProguardFile('proguard-android.txt'), 'proguard-rules.pro'\n",
    "        }\n",
    "    }\n",
    "}\n",
    "\n",
    "dependencies\n",
    "{\n",
    "    implementation fileTree(include\n",
    "                            : [ '*.jar' ], dir\n",
    "                            : 'libs')\n",
    "        implementation 'com.android.support:appcompat-v7:26.1.0'\n",
    "}"
   ]
  },
  {
   "cell_type": "markdown",
   "id": "e6d5e34d-8982-4cb5-b434-7eccbb6fe102",
   "metadata": {},
   "source": [
    "The Module-level build.gradle supports various build configurations like:  \n",
    "\n",
    "1. android: This block is used for configuring the specific android build options. \n",
    "* compileSdkVersion – This is used to define the API level of the app and the app can use the features of this and lower level. \n",
    "2. defaultConfig: \n",
    "* applicationId– This is used for identifying unique id for publishing of the app.\n",
    "* minSdkVersion– This defines the minimum API level required to run the application.\n",
    "* targetSdkVersion– This defines the API level used to test the app.\n",
    "* versionCode– This defines the version code of the app. Every time an update needs to be of the app, the version code needs to be increased by 1 or more.\n",
    "* versionName– This defines the version name for the app. this could be increased by much while creating an update.\n",
    "3. buildTypes(release): \n",
    "* minifyEnabled– this will enable code shrinking for release build.\n",
    "* proguardFiles– this will specify the progaurd settings file.\n",
    "4. dependencies: This specifies the dependencies that are needed to build the project.\n",
    "\n",
    "Both the top-level and module-level build.gradle files are the main script files for automating the tasks in an android project and are used by Gradle for generating the APK from the source files."
   ]
  },
  {
   "cell_type": "code",
   "execution_count": null,
   "id": "4e3e916f-9fd0-425b-8ea3-9a1919741d23",
   "metadata": {},
   "outputs": [],
   "source": []
  }
 ],
 "metadata": {
  "kernelspec": {
   "display_name": "",
   "name": ""
  },
  "language_info": {
   "name": ""
  }
 },
 "nbformat": 4,
 "nbformat_minor": 5
}
